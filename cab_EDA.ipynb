{
 "cells": [
  {
   "cell_type": "markdown",
   "metadata": {},
   "source": [
    "# Exploratory Data Analysis -- a.k.a, hoping my data isn't 'corked'\n",
    "Now that I have my dataset, I want to explore it and better understand its attributes before beginning the modeling and prediction phase of the project. "
   ]
  },
  {
   "cell_type": "code",
   "execution_count": 1,
   "metadata": {
    "collapsed": true
   },
   "outputs": [],
   "source": [
    "#Standard imports\n",
    "import numpy as np\n",
    "import pandas as pd\n",
    "import matplotlib.pyplot as plt\n",
    "import pylab as pl\n",
    "import seaborn as sns\n",
    "%matplotlib inline\n",
    "plt.rcParams[\"patch.force_edgecolor\"] = True"
   ]
  },
  {
   "cell_type": "code",
   "execution_count": 2,
   "metadata": {
    "collapsed": true
   },
   "outputs": [],
   "source": [
    "#read in dataset\n",
    "cab_df = pd.read_csv('./cablist.csv')"
   ]
  },
  {
   "cell_type": "markdown",
   "metadata": {},
   "source": [
    "### The Basics \n",
    "Let's start by using the info, head, tail and describe methods to understand our datatypes, quickly inspect the data and get a sense of the distribution of some of the numerical attributes."
   ]
  },
  {
   "cell_type": "code",
   "execution_count": 3,
   "metadata": {
    "collapsed": false
   },
   "outputs": [
    {
     "name": "stdout",
     "output_type": "stream",
     "text": [
      "<class 'pandas.core.frame.DataFrame'>\n",
      "RangeIndex: 2770 entries, 0 to 2769\n",
      "Data columns (total 10 columns):\n",
      "Id             2770 non-null int64\n",
      "Attributes     2770 non-null object\n",
      "Name           2770 non-null object\n",
      "Vintage        2770 non-null int64\n",
      "Appellation    2770 non-null object\n",
      "Region         2770 non-null object\n",
      "WineType       2770 non-null object\n",
      "Vineyard       2770 non-null object\n",
      "RatingScore    2770 non-null int64\n",
      "PriceRetail    2770 non-null float64\n",
      "dtypes: float64(1), int64(3), object(6)\n",
      "memory usage: 216.5+ KB\n"
     ]
    }
   ],
   "source": [
    "cab_df.info()"
   ]
  },
  {
   "cell_type": "code",
   "execution_count": 4,
   "metadata": {
    "collapsed": false
   },
   "outputs": [
    {
     "data": {
      "text/html": [
       "<div>\n",
       "<style scoped>\n",
       "    .dataframe tbody tr th:only-of-type {\n",
       "        vertical-align: middle;\n",
       "    }\n",
       "\n",
       "    .dataframe tbody tr th {\n",
       "        vertical-align: top;\n",
       "    }\n",
       "\n",
       "    .dataframe thead th {\n",
       "        text-align: right;\n",
       "    }\n",
       "</style>\n",
       "<table border=\"1\" class=\"dataframe\">\n",
       "  <thead>\n",
       "    <tr style=\"text-align: right;\">\n",
       "      <th></th>\n",
       "      <th>Id</th>\n",
       "      <th>Attributes</th>\n",
       "      <th>Name</th>\n",
       "      <th>Vintage</th>\n",
       "      <th>Appellation</th>\n",
       "      <th>Region</th>\n",
       "      <th>WineType</th>\n",
       "      <th>Vineyard</th>\n",
       "      <th>RatingScore</th>\n",
       "      <th>PriceRetail</th>\n",
       "    </tr>\n",
       "  </thead>\n",
       "  <tbody>\n",
       "    <tr>\n",
       "      <th>0</th>\n",
       "      <td>140247</td>\n",
       "      <td>Big &amp;amp; Bold</td>\n",
       "      <td>Screaming Eagle Cabernet Sauvignon 2012</td>\n",
       "      <td>2012</td>\n",
       "      <td>Napa Valley</td>\n",
       "      <td>California</td>\n",
       "      <td>Cabernet Sauvignon</td>\n",
       "      <td>Screaming Eagle</td>\n",
       "      <td>100</td>\n",
       "      <td>2499.0</td>\n",
       "    </tr>\n",
       "    <tr>\n",
       "      <th>1</th>\n",
       "      <td>147150</td>\n",
       "      <td>Collectible Wines</td>\n",
       "      <td>Penfolds Kalimna Block 42 Cabernet Sauvignon 2004</td>\n",
       "      <td>2004</td>\n",
       "      <td>Barossa Valley</td>\n",
       "      <td>Australia</td>\n",
       "      <td>Cabernet Sauvignon</td>\n",
       "      <td>Penfolds Wines</td>\n",
       "      <td>100</td>\n",
       "      <td>739.0</td>\n",
       "    </tr>\n",
       "    <tr>\n",
       "      <th>2</th>\n",
       "      <td>82919</td>\n",
       "      <td>Collectible Wines</td>\n",
       "      <td>Quilceda Creek Cabernet Sauvignon 2002</td>\n",
       "      <td>2002</td>\n",
       "      <td>Columbia Valley</td>\n",
       "      <td>Washington</td>\n",
       "      <td>Cabernet Sauvignon</td>\n",
       "      <td>Quilceda Creek Vintners</td>\n",
       "      <td>100</td>\n",
       "      <td>269.0</td>\n",
       "    </tr>\n",
       "    <tr>\n",
       "      <th>3</th>\n",
       "      <td>139436</td>\n",
       "      <td>Big &amp;amp; Bold</td>\n",
       "      <td>Schrader Old Sparky Cabernet Sauvignon (1.5 Li...</td>\n",
       "      <td>2005</td>\n",
       "      <td>Napa Valley</td>\n",
       "      <td>California</td>\n",
       "      <td>Cabernet Sauvignon</td>\n",
       "      <td>Schrader Cellars</td>\n",
       "      <td>100</td>\n",
       "      <td>1349.0</td>\n",
       "    </tr>\n",
       "    <tr>\n",
       "      <th>4</th>\n",
       "      <td>87182</td>\n",
       "      <td>Collectible Wines</td>\n",
       "      <td>Quilceda Creek Cabernet Sauvignon 2003</td>\n",
       "      <td>2003</td>\n",
       "      <td>Columbia Valley</td>\n",
       "      <td>Washington</td>\n",
       "      <td>Cabernet Sauvignon</td>\n",
       "      <td>Quilceda Creek Vintners</td>\n",
       "      <td>100</td>\n",
       "      <td>289.0</td>\n",
       "    </tr>\n",
       "  </tbody>\n",
       "</table>\n",
       "</div>"
      ],
      "text/plain": [
       "       Id         Attributes  \\\n",
       "0  140247     Big &amp; Bold   \n",
       "1  147150  Collectible Wines   \n",
       "2   82919  Collectible Wines   \n",
       "3  139436     Big &amp; Bold   \n",
       "4   87182  Collectible Wines   \n",
       "\n",
       "                                                Name  Vintage  \\\n",
       "0            Screaming Eagle Cabernet Sauvignon 2012     2012   \n",
       "1  Penfolds Kalimna Block 42 Cabernet Sauvignon 2004     2004   \n",
       "2             Quilceda Creek Cabernet Sauvignon 2002     2002   \n",
       "3  Schrader Old Sparky Cabernet Sauvignon (1.5 Li...     2005   \n",
       "4             Quilceda Creek Cabernet Sauvignon 2003     2003   \n",
       "\n",
       "       Appellation      Region            WineType                 Vineyard  \\\n",
       "0      Napa Valley  California  Cabernet Sauvignon          Screaming Eagle   \n",
       "1   Barossa Valley   Australia  Cabernet Sauvignon           Penfolds Wines   \n",
       "2  Columbia Valley  Washington  Cabernet Sauvignon  Quilceda Creek Vintners   \n",
       "3      Napa Valley  California  Cabernet Sauvignon         Schrader Cellars   \n",
       "4  Columbia Valley  Washington  Cabernet Sauvignon  Quilceda Creek Vintners   \n",
       "\n",
       "   RatingScore  PriceRetail  \n",
       "0          100       2499.0  \n",
       "1          100        739.0  \n",
       "2          100        269.0  \n",
       "3          100       1349.0  \n",
       "4          100        289.0  "
      ]
     },
     "execution_count": 4,
     "metadata": {},
     "output_type": "execute_result"
    }
   ],
   "source": [
    "cab_df.head()"
   ]
  },
  {
   "cell_type": "code",
   "execution_count": 5,
   "metadata": {
    "collapsed": false
   },
   "outputs": [
    {
     "data": {
      "text/html": [
       "<div>\n",
       "<style scoped>\n",
       "    .dataframe tbody tr th:only-of-type {\n",
       "        vertical-align: middle;\n",
       "    }\n",
       "\n",
       "    .dataframe tbody tr th {\n",
       "        vertical-align: top;\n",
       "    }\n",
       "\n",
       "    .dataframe thead th {\n",
       "        text-align: right;\n",
       "    }\n",
       "</style>\n",
       "<table border=\"1\" class=\"dataframe\">\n",
       "  <thead>\n",
       "    <tr style=\"text-align: right;\">\n",
       "      <th></th>\n",
       "      <th>Id</th>\n",
       "      <th>Attributes</th>\n",
       "      <th>Name</th>\n",
       "      <th>Vintage</th>\n",
       "      <th>Appellation</th>\n",
       "      <th>Region</th>\n",
       "      <th>WineType</th>\n",
       "      <th>Vineyard</th>\n",
       "      <th>RatingScore</th>\n",
       "      <th>PriceRetail</th>\n",
       "    </tr>\n",
       "  </thead>\n",
       "  <tbody>\n",
       "    <tr>\n",
       "      <th>2765</th>\n",
       "      <td>102160</td>\n",
       "      <td>Big &amp;amp; Bold</td>\n",
       "      <td>Rudd Crossroads Cabernet Sauvignon 2006</td>\n",
       "      <td>2006</td>\n",
       "      <td>Napa Valley</td>\n",
       "      <td>California</td>\n",
       "      <td>Cabernet Sauvignon</td>\n",
       "      <td>Rudd</td>\n",
       "      <td>89</td>\n",
       "      <td>65.00</td>\n",
       "    </tr>\n",
       "    <tr>\n",
       "      <th>2766</th>\n",
       "      <td>104641</td>\n",
       "      <td>Smooth &amp;amp; Supple</td>\n",
       "      <td>Freemark Abbey Cabernet Sauvignon 2005</td>\n",
       "      <td>2005</td>\n",
       "      <td>Napa Valley</td>\n",
       "      <td>California</td>\n",
       "      <td>Cabernet Sauvignon</td>\n",
       "      <td>Freemark Abbey</td>\n",
       "      <td>89</td>\n",
       "      <td>41.99</td>\n",
       "    </tr>\n",
       "    <tr>\n",
       "      <th>2767</th>\n",
       "      <td>101913</td>\n",
       "      <td>Big &amp;amp; Bold</td>\n",
       "      <td>Martin Ray Napa Cabernet Sauvignon 2006</td>\n",
       "      <td>2006</td>\n",
       "      <td>Napa Valley</td>\n",
       "      <td>California</td>\n",
       "      <td>Cabernet Sauvignon</td>\n",
       "      <td>Martin Ray</td>\n",
       "      <td>89</td>\n",
       "      <td>19.99</td>\n",
       "    </tr>\n",
       "    <tr>\n",
       "      <th>2768</th>\n",
       "      <td>28955</td>\n",
       "      <td>Green Wines</td>\n",
       "      <td>d'Arenberg High Trellis Cabernet Sauvignon 1998</td>\n",
       "      <td>1998</td>\n",
       "      <td>McLaren Vale</td>\n",
       "      <td>Australia</td>\n",
       "      <td>Cabernet Sauvignon</td>\n",
       "      <td>d'Arenberg</td>\n",
       "      <td>89</td>\n",
       "      <td>15.99</td>\n",
       "    </tr>\n",
       "    <tr>\n",
       "      <th>2769</th>\n",
       "      <td>127720</td>\n",
       "      <td>Green Wines</td>\n",
       "      <td>Long Meadow Ranch Cabernet Sauvignon 1996</td>\n",
       "      <td>1996</td>\n",
       "      <td>Napa Valley</td>\n",
       "      <td>California</td>\n",
       "      <td>Cabernet Sauvignon</td>\n",
       "      <td>Long Meadow Ranch</td>\n",
       "      <td>89</td>\n",
       "      <td>57.99</td>\n",
       "    </tr>\n",
       "  </tbody>\n",
       "</table>\n",
       "</div>"
      ],
      "text/plain": [
       "          Id           Attributes  \\\n",
       "2765  102160       Big &amp; Bold   \n",
       "2766  104641  Smooth &amp; Supple   \n",
       "2767  101913       Big &amp; Bold   \n",
       "2768   28955          Green Wines   \n",
       "2769  127720          Green Wines   \n",
       "\n",
       "                                                 Name  Vintage   Appellation  \\\n",
       "2765          Rudd Crossroads Cabernet Sauvignon 2006     2006   Napa Valley   \n",
       "2766           Freemark Abbey Cabernet Sauvignon 2005     2005   Napa Valley   \n",
       "2767          Martin Ray Napa Cabernet Sauvignon 2006     2006   Napa Valley   \n",
       "2768  d'Arenberg High Trellis Cabernet Sauvignon 1998     1998  McLaren Vale   \n",
       "2769        Long Meadow Ranch Cabernet Sauvignon 1996     1996   Napa Valley   \n",
       "\n",
       "          Region            WineType           Vineyard  RatingScore  \\\n",
       "2765  California  Cabernet Sauvignon               Rudd           89   \n",
       "2766  California  Cabernet Sauvignon     Freemark Abbey           89   \n",
       "2767  California  Cabernet Sauvignon         Martin Ray           89   \n",
       "2768   Australia  Cabernet Sauvignon         d'Arenberg           89   \n",
       "2769  California  Cabernet Sauvignon  Long Meadow Ranch           89   \n",
       "\n",
       "      PriceRetail  \n",
       "2765        65.00  \n",
       "2766        41.99  \n",
       "2767        19.99  \n",
       "2768        15.99  \n",
       "2769        57.99  "
      ]
     },
     "execution_count": 5,
     "metadata": {},
     "output_type": "execute_result"
    }
   ],
   "source": [
    "cab_df.tail()"
   ]
  },
  {
   "cell_type": "code",
   "execution_count": 6,
   "metadata": {
    "collapsed": false
   },
   "outputs": [
    {
     "data": {
      "text/html": [
       "<div>\n",
       "<style scoped>\n",
       "    .dataframe tbody tr th:only-of-type {\n",
       "        vertical-align: middle;\n",
       "    }\n",
       "\n",
       "    .dataframe tbody tr th {\n",
       "        vertical-align: top;\n",
       "    }\n",
       "\n",
       "    .dataframe thead th {\n",
       "        text-align: right;\n",
       "    }\n",
       "</style>\n",
       "<table border=\"1\" class=\"dataframe\">\n",
       "  <thead>\n",
       "    <tr style=\"text-align: right;\">\n",
       "      <th></th>\n",
       "      <th>Id</th>\n",
       "      <th>Vintage</th>\n",
       "      <th>RatingScore</th>\n",
       "      <th>PriceRetail</th>\n",
       "    </tr>\n",
       "  </thead>\n",
       "  <tbody>\n",
       "    <tr>\n",
       "      <th>count</th>\n",
       "      <td>2770.000000</td>\n",
       "      <td>2770.000000</td>\n",
       "      <td>2770.000000</td>\n",
       "      <td>2770.000000</td>\n",
       "    </tr>\n",
       "    <tr>\n",
       "      <th>mean</th>\n",
       "      <td>112546.000722</td>\n",
       "      <td>2005.767148</td>\n",
       "      <td>93.058123</td>\n",
       "      <td>135.094065</td>\n",
       "    </tr>\n",
       "    <tr>\n",
       "      <th>std</th>\n",
       "      <td>25897.287147</td>\n",
       "      <td>5.286682</td>\n",
       "      <td>3.066592</td>\n",
       "      <td>252.947503</td>\n",
       "    </tr>\n",
       "    <tr>\n",
       "      <th>min</th>\n",
       "      <td>316.000000</td>\n",
       "      <td>1978.000000</td>\n",
       "      <td>0.000000</td>\n",
       "      <td>7.990000</td>\n",
       "    </tr>\n",
       "    <tr>\n",
       "      <th>25%</th>\n",
       "      <td>103055.250000</td>\n",
       "      <td>2004.000000</td>\n",
       "      <td>91.000000</td>\n",
       "      <td>41.990000</td>\n",
       "    </tr>\n",
       "    <tr>\n",
       "      <th>50%</th>\n",
       "      <td>117722.000000</td>\n",
       "      <td>2007.000000</td>\n",
       "      <td>93.000000</td>\n",
       "      <td>77.990000</td>\n",
       "    </tr>\n",
       "    <tr>\n",
       "      <th>75%</th>\n",
       "      <td>129950.000000</td>\n",
       "      <td>2009.000000</td>\n",
       "      <td>95.000000</td>\n",
       "      <td>139.000000</td>\n",
       "    </tr>\n",
       "    <tr>\n",
       "      <th>max</th>\n",
       "      <td>148089.000000</td>\n",
       "      <td>2014.000000</td>\n",
       "      <td>100.000000</td>\n",
       "      <td>6000.000000</td>\n",
       "    </tr>\n",
       "  </tbody>\n",
       "</table>\n",
       "</div>"
      ],
      "text/plain": [
       "                  Id      Vintage  RatingScore  PriceRetail\n",
       "count    2770.000000  2770.000000  2770.000000  2770.000000\n",
       "mean   112546.000722  2005.767148    93.058123   135.094065\n",
       "std     25897.287147     5.286682     3.066592   252.947503\n",
       "min       316.000000  1978.000000     0.000000     7.990000\n",
       "25%    103055.250000  2004.000000    91.000000    41.990000\n",
       "50%    117722.000000  2007.000000    93.000000    77.990000\n",
       "75%    129950.000000  2009.000000    95.000000   139.000000\n",
       "max    148089.000000  2014.000000   100.000000  6000.000000"
      ]
     },
     "execution_count": 6,
     "metadata": {},
     "output_type": "execute_result"
    }
   ],
   "source": [
    "cab_df.describe()"
   ]
  },
  {
   "cell_type": "markdown",
   "metadata": {},
   "source": [
    "### Feature Engineering: Creating a Varietal with the Text in the Label\n",
    "\n",
    "In addition to the rich set of features already available in the dataset, I want to create a variable based on the text of the label. The trick here is to make sure that the information in my new variable is not already present in other existing variables. For example, the 'Name' field is inclusive of the vintage, producer (Vineyard), wine type, and appelation. I want to strip these items out as they are duplicative and do not convey any new information for my modeling. \n",
    "\n",
    "I want to analyze the text that is leftover and look for special words that may be used to market a wine at a higher price. Words such as 'reserve' or 'estate' would be examples of this. I am going to look for the most common unique words across all of the labels in the dataset and identify which wines have them. I am not going to use TF-IDF for this exercise as I am only interested in the Term Frequency part of TF-IDF. I'm already working with such a restricted corpus, that computing IDF seems like it introduces additional complexity with potential benefit limited to only a handful of wines. "
   ]
  },
  {
   "cell_type": "code",
   "execution_count": 7,
   "metadata": {
    "collapsed": false
   },
   "outputs": [
    {
     "data": {
      "text/plain": [
       "('Robert Mondavi Reserve Cabernet Sauvignon 2010',\n",
       " 'Napa Valley',\n",
       " 'Cabernet Sauvignon',\n",
       " 'Robert Mondavi Winery',\n",
       " 2010)"
      ]
     },
     "execution_count": 7,
     "metadata": {},
     "output_type": "execute_result"
    }
   ],
   "source": [
    "#First step: combine all text fields into a single list\n",
    "wine_names = cab_df['Name'].tolist()\n",
    "appellation = cab_df['Appellation'].tolist()\n",
    "wine_type = cab_df['WineType'].tolist()\n",
    "vineyard = cab_df['Vineyard'].tolist()\n",
    "vintage = cab_df['Vintage'].tolist()\n",
    "\n",
    "\n",
    "cabs = zip(wine_names, appellation, wine_type, vineyard, vintage)\n",
    "cabs[67]"
   ]
  },
  {
   "cell_type": "code",
   "execution_count": 8,
   "metadata": {
    "collapsed": false
   },
   "outputs": [
    {
     "data": {
      "text/plain": [
       "[['Robert', 'Mondavi', 'Reserve', 'Cabernet', 'Sauvignon', '2010'],\n",
       " ['Napa', 'Valley'],\n",
       " ['Cabernet', 'Sauvignon'],\n",
       " ['Robert', 'Mondavi', 'Winery']]"
      ]
     },
     "execution_count": 8,
     "metadata": {},
     "output_type": "execute_result"
    }
   ],
   "source": [
    "#Create a list of lists by splitting each text field into individual words for comparison\n",
    "words = [[w[0].split(), w[1].split(), w[2].split(), w[3].split()] for w in cabs]\n",
    "words[67]"
   ]
  },
  {
   "cell_type": "code",
   "execution_count": 9,
   "metadata": {
    "collapsed": false
   },
   "outputs": [
    {
     "data": {
      "text/plain": [
       "['Reserve']"
      ]
     },
     "execution_count": 9,
     "metadata": {},
     "output_type": "execute_result"
    }
   ],
   "source": [
    "#Create list of unique words in label text, excluding vineyard, appellation, vintage and wine type\n",
    "unq_words = []\n",
    "for i in words:\n",
    "    i[0].pop()\n",
    "    label = i[0]\n",
    "    appellation = i[1]\n",
    "    wine_type = i[2]\n",
    "    vineyard = i[3]\n",
    "    pass1 = list(set(label)-set(appellation)-set(wine_type)-set(vineyard))\n",
    "    unq_words.append(pass1)\n",
    "    \n",
    "unq_words[67]"
   ]
  },
  {
   "cell_type": "code",
   "execution_count": 10,
   "metadata": {
    "collapsed": false
   },
   "outputs": [],
   "source": [
    "#Let's get the most frequent words\n",
    "wordcount={}\n",
    "\n",
    "for l in unq_words:\n",
    "    for w in l:\n",
    "        if w not in wordcount:\n",
    "            wordcount[w] = 1\n",
    "        else:\n",
    "            wordcount[w] += 1\n",
    "\n"
   ]
  },
  {
   "cell_type": "code",
   "execution_count": 11,
   "metadata": {
    "collapsed": false
   },
   "outputs": [
    {
     "data": {
      "text/html": [
       "<div>\n",
       "<style scoped>\n",
       "    .dataframe tbody tr th:only-of-type {\n",
       "        vertical-align: middle;\n",
       "    }\n",
       "\n",
       "    .dataframe tbody tr th {\n",
       "        vertical-align: top;\n",
       "    }\n",
       "\n",
       "    .dataframe thead th {\n",
       "        text-align: right;\n",
       "    }\n",
       "</style>\n",
       "<table border=\"1\" class=\"dataframe\">\n",
       "  <thead>\n",
       "    <tr style=\"text-align: right;\">\n",
       "      <th></th>\n",
       "      <th>Word</th>\n",
       "      <th>WordCount</th>\n",
       "    </tr>\n",
       "  </thead>\n",
       "  <tbody>\n",
       "    <tr>\n",
       "      <th>339</th>\n",
       "      <td>Vineyard</td>\n",
       "      <td>294</td>\n",
       "    </tr>\n",
       "    <tr>\n",
       "      <th>280</th>\n",
       "      <td>Reserve</td>\n",
       "      <td>255</td>\n",
       "    </tr>\n",
       "    <tr>\n",
       "      <th>223</th>\n",
       "      <td>Magnum)</td>\n",
       "      <td>173</td>\n",
       "    </tr>\n",
       "    <tr>\n",
       "      <th>575</th>\n",
       "      <td>Estate</td>\n",
       "      <td>166</td>\n",
       "    </tr>\n",
       "    <tr>\n",
       "      <th>362</th>\n",
       "      <td>(1.5</td>\n",
       "      <td>131</td>\n",
       "    </tr>\n",
       "    <tr>\n",
       "      <th>307</th>\n",
       "      <td>Liter</td>\n",
       "      <td>125</td>\n",
       "    </tr>\n",
       "  </tbody>\n",
       "</table>\n",
       "</div>"
      ],
      "text/plain": [
       "         Word  WordCount\n",
       "339  Vineyard        294\n",
       "280   Reserve        255\n",
       "223   Magnum)        173\n",
       "575    Estate        166\n",
       "362      (1.5        131\n",
       "307     Liter        125"
      ]
     },
     "execution_count": 11,
     "metadata": {},
     "output_type": "execute_result"
    }
   ],
   "source": [
    "#Vineyard is the top word, but I'm making an executive decision to omit this because it doesn't add much value\n",
    "wordcount_df = pd.DataFrame(wordcount.items(), columns=['Word', 'WordCount'])\n",
    "wordcount_df = wordcount_df.sort_values('WordCount', ascending=False)\n",
    "wordcount_df.head(6)"
   ]
  },
  {
   "cell_type": "code",
   "execution_count": 12,
   "metadata": {
    "collapsed": false
   },
   "outputs": [
    {
     "data": {
      "text/plain": [
       "['Reserve', 'Magnum)', 'Estate', '(1.5', 'Liter']"
      ]
     },
     "execution_count": 12,
     "metadata": {},
     "output_type": "execute_result"
    }
   ],
   "source": [
    "unq_w = wordcount_df['Word'][1:6].tolist()\n",
    "unq_w"
   ]
  },
  {
   "cell_type": "code",
   "execution_count": 13,
   "metadata": {
    "collapsed": false
   },
   "outputs": [
    {
     "data": {
      "text/plain": [
       "['Robert', 'Mondavi', 'Reserve', 'Cabernet', 'Sauvignon', '2010']"
      ]
     },
     "execution_count": 13,
     "metadata": {},
     "output_type": "execute_result"
    }
   ],
   "source": [
    "#Create list of words in each label\n",
    "label_words = cab_df['Name'].str.split(' ').tolist()\n",
    "label_words[67]"
   ]
  },
  {
   "cell_type": "code",
   "execution_count": 14,
   "metadata": {
    "collapsed": false
   },
   "outputs": [
    {
     "data": {
      "text/plain": [
       "2770"
      ]
     },
     "execution_count": 14,
     "metadata": {},
     "output_type": "execute_result"
    }
   ],
   "source": [
    "#Because I needed to loop through each word on the label for each label in the data, I construced nested loops\n",
    "words=[]\n",
    "for l in label_words:\n",
    "    counter = 0\n",
    "    for w in l:\n",
    "        if w in unq_w:\n",
    "            counter +=1\n",
    "    if counter > 0:\n",
    "        words.append(1)\n",
    "    else:\n",
    "        words.append(0)\n",
    "        \n",
    "            \n",
    "len(words)"
   ]
  },
  {
   "cell_type": "code",
   "execution_count": 15,
   "metadata": {
    "collapsed": false
   },
   "outputs": [
    {
     "data": {
      "text/html": [
       "<div>\n",
       "<style scoped>\n",
       "    .dataframe tbody tr th:only-of-type {\n",
       "        vertical-align: middle;\n",
       "    }\n",
       "\n",
       "    .dataframe tbody tr th {\n",
       "        vertical-align: top;\n",
       "    }\n",
       "\n",
       "    .dataframe thead th {\n",
       "        text-align: right;\n",
       "    }\n",
       "</style>\n",
       "<table border=\"1\" class=\"dataframe\">\n",
       "  <thead>\n",
       "    <tr style=\"text-align: right;\">\n",
       "      <th></th>\n",
       "      <th>UnqWordInd</th>\n",
       "    </tr>\n",
       "  </thead>\n",
       "  <tbody>\n",
       "    <tr>\n",
       "      <th>0</th>\n",
       "      <td>0</td>\n",
       "    </tr>\n",
       "    <tr>\n",
       "      <th>1</th>\n",
       "      <td>0</td>\n",
       "    </tr>\n",
       "    <tr>\n",
       "      <th>2</th>\n",
       "      <td>0</td>\n",
       "    </tr>\n",
       "    <tr>\n",
       "      <th>3</th>\n",
       "      <td>1</td>\n",
       "    </tr>\n",
       "    <tr>\n",
       "      <th>4</th>\n",
       "      <td>0</td>\n",
       "    </tr>\n",
       "  </tbody>\n",
       "</table>\n",
       "</div>"
      ],
      "text/plain": [
       "   UnqWordInd\n",
       "0           0\n",
       "1           0\n",
       "2           0\n",
       "3           1\n",
       "4           0"
      ]
     },
     "execution_count": 15,
     "metadata": {},
     "output_type": "execute_result"
    }
   ],
   "source": [
    "#Create words dataframe for merging with baseline data\n",
    "words_df = pd.DataFrame(words)\n",
    "words_df.columns = ['UnqWordInd']\n",
    "words_df.head()"
   ]
  },
  {
   "cell_type": "code",
   "execution_count": 16,
   "metadata": {
    "collapsed": false
   },
   "outputs": [
    {
     "data": {
      "text/html": [
       "<div>\n",
       "<style scoped>\n",
       "    .dataframe tbody tr th:only-of-type {\n",
       "        vertical-align: middle;\n",
       "    }\n",
       "\n",
       "    .dataframe tbody tr th {\n",
       "        vertical-align: top;\n",
       "    }\n",
       "\n",
       "    .dataframe thead th {\n",
       "        text-align: right;\n",
       "    }\n",
       "</style>\n",
       "<table border=\"1\" class=\"dataframe\">\n",
       "  <thead>\n",
       "    <tr style=\"text-align: right;\">\n",
       "      <th></th>\n",
       "      <th>Id</th>\n",
       "      <th>Attributes</th>\n",
       "      <th>Name</th>\n",
       "      <th>Vintage</th>\n",
       "      <th>Appellation</th>\n",
       "      <th>Region</th>\n",
       "      <th>WineType</th>\n",
       "      <th>Vineyard</th>\n",
       "      <th>RatingScore</th>\n",
       "      <th>PriceRetail</th>\n",
       "      <th>UnqWordInd</th>\n",
       "    </tr>\n",
       "  </thead>\n",
       "  <tbody>\n",
       "    <tr>\n",
       "      <th>0</th>\n",
       "      <td>140247</td>\n",
       "      <td>Big &amp;amp; Bold</td>\n",
       "      <td>Screaming Eagle Cabernet Sauvignon 2012</td>\n",
       "      <td>2012</td>\n",
       "      <td>Napa Valley</td>\n",
       "      <td>California</td>\n",
       "      <td>Cabernet Sauvignon</td>\n",
       "      <td>Screaming Eagle</td>\n",
       "      <td>100</td>\n",
       "      <td>2499.0</td>\n",
       "      <td>0</td>\n",
       "    </tr>\n",
       "    <tr>\n",
       "      <th>1</th>\n",
       "      <td>147150</td>\n",
       "      <td>Collectible Wines</td>\n",
       "      <td>Penfolds Kalimna Block 42 Cabernet Sauvignon 2004</td>\n",
       "      <td>2004</td>\n",
       "      <td>Barossa Valley</td>\n",
       "      <td>Australia</td>\n",
       "      <td>Cabernet Sauvignon</td>\n",
       "      <td>Penfolds Wines</td>\n",
       "      <td>100</td>\n",
       "      <td>739.0</td>\n",
       "      <td>0</td>\n",
       "    </tr>\n",
       "    <tr>\n",
       "      <th>2</th>\n",
       "      <td>82919</td>\n",
       "      <td>Collectible Wines</td>\n",
       "      <td>Quilceda Creek Cabernet Sauvignon 2002</td>\n",
       "      <td>2002</td>\n",
       "      <td>Columbia Valley</td>\n",
       "      <td>Washington</td>\n",
       "      <td>Cabernet Sauvignon</td>\n",
       "      <td>Quilceda Creek Vintners</td>\n",
       "      <td>100</td>\n",
       "      <td>269.0</td>\n",
       "      <td>0</td>\n",
       "    </tr>\n",
       "    <tr>\n",
       "      <th>3</th>\n",
       "      <td>139436</td>\n",
       "      <td>Big &amp;amp; Bold</td>\n",
       "      <td>Schrader Old Sparky Cabernet Sauvignon (1.5 Li...</td>\n",
       "      <td>2005</td>\n",
       "      <td>Napa Valley</td>\n",
       "      <td>California</td>\n",
       "      <td>Cabernet Sauvignon</td>\n",
       "      <td>Schrader Cellars</td>\n",
       "      <td>100</td>\n",
       "      <td>1349.0</td>\n",
       "      <td>1</td>\n",
       "    </tr>\n",
       "    <tr>\n",
       "      <th>4</th>\n",
       "      <td>87182</td>\n",
       "      <td>Collectible Wines</td>\n",
       "      <td>Quilceda Creek Cabernet Sauvignon 2003</td>\n",
       "      <td>2003</td>\n",
       "      <td>Columbia Valley</td>\n",
       "      <td>Washington</td>\n",
       "      <td>Cabernet Sauvignon</td>\n",
       "      <td>Quilceda Creek Vintners</td>\n",
       "      <td>100</td>\n",
       "      <td>289.0</td>\n",
       "      <td>0</td>\n",
       "    </tr>\n",
       "  </tbody>\n",
       "</table>\n",
       "</div>"
      ],
      "text/plain": [
       "       Id         Attributes  \\\n",
       "0  140247     Big &amp; Bold   \n",
       "1  147150  Collectible Wines   \n",
       "2   82919  Collectible Wines   \n",
       "3  139436     Big &amp; Bold   \n",
       "4   87182  Collectible Wines   \n",
       "\n",
       "                                                Name  Vintage  \\\n",
       "0            Screaming Eagle Cabernet Sauvignon 2012     2012   \n",
       "1  Penfolds Kalimna Block 42 Cabernet Sauvignon 2004     2004   \n",
       "2             Quilceda Creek Cabernet Sauvignon 2002     2002   \n",
       "3  Schrader Old Sparky Cabernet Sauvignon (1.5 Li...     2005   \n",
       "4             Quilceda Creek Cabernet Sauvignon 2003     2003   \n",
       "\n",
       "       Appellation      Region            WineType                 Vineyard  \\\n",
       "0      Napa Valley  California  Cabernet Sauvignon          Screaming Eagle   \n",
       "1   Barossa Valley   Australia  Cabernet Sauvignon           Penfolds Wines   \n",
       "2  Columbia Valley  Washington  Cabernet Sauvignon  Quilceda Creek Vintners   \n",
       "3      Napa Valley  California  Cabernet Sauvignon         Schrader Cellars   \n",
       "4  Columbia Valley  Washington  Cabernet Sauvignon  Quilceda Creek Vintners   \n",
       "\n",
       "   RatingScore  PriceRetail  UnqWordInd  \n",
       "0          100       2499.0           0  \n",
       "1          100        739.0           0  \n",
       "2          100        269.0           0  \n",
       "3          100       1349.0           1  \n",
       "4          100        289.0           0  "
      ]
     },
     "execution_count": 16,
     "metadata": {},
     "output_type": "execute_result"
    }
   ],
   "source": [
    "#Merge dataframes\n",
    "cab_df2 = pd.concat([cab_df, words_df], axis=1)\n",
    "cab_df2.head()"
   ]
  },
  {
   "cell_type": "code",
   "execution_count": 17,
   "metadata": {
    "collapsed": false
   },
   "outputs": [
    {
     "data": {
      "text/plain": [
       "2770"
      ]
     },
     "execution_count": 17,
     "metadata": {},
     "output_type": "execute_result"
    }
   ],
   "source": [
    "#Checking the length of the new dataframe -- all is good!\n",
    "len(cab_df2)"
   ]
  },
  {
   "cell_type": "markdown",
   "metadata": {},
   "source": [
    "### Distributions\n",
    "Let's start by exploring price, as that is the variable I'm interested in predicting. As seen in the results of the describe method, it has a wide distribution, and we can see this visually with the histogram and KDE plots. I'm going to need to drop some of these outliers so that they don't skew the models.  "
   ]
  },
  {
   "cell_type": "code",
   "execution_count": 18,
   "metadata": {
    "collapsed": false
   },
   "outputs": [
    {
     "data": {
      "text/plain": [
       "<matplotlib.text.Text at 0x110100510>"
      ]
     },
     "execution_count": 18,
     "metadata": {},
     "output_type": "execute_result"
    },
    {
     "data": {
      "image/png": "[encoded data removed]",
      "text/plain": [
       "<matplotlib.figure.Figure at 0x110096a50>"
      ]
     },
     "metadata": {},
     "output_type": "display_data"
    }
   ],
   "source": [
    "fig, ax = plt.subplots(figsize=(12,7))\n",
    "cab_df['PriceRetail'].plot.hist(bins=100)\n",
    "plt.xlabel('Price $', fontsize=15)\n",
    "plt.ylabel('Number of Wines', fontsize=15)\n",
    "plt.title('Histogram of Cabernet Prices', fontsize=20)"
   ]
  },
  {
   "cell_type": "code",
   "execution_count": 19,
   "metadata": {
    "collapsed": false
   },
   "outputs": [
    {
     "data": {
      "text/plain": [
       "<matplotlib.text.Text at 0x1109ad4d0>"
      ]
     },
     "execution_count": 19,
     "metadata": {},
     "output_type": "execute_result"
    },
    {
     "data": {
      "image/png": "[encoded data removed]",
      "text/plain": [
       "<matplotlib.figure.Figure at 0x110960310>"
      ]
     },
     "metadata": {},
     "output_type": "display_data"
    }
   ],
   "source": [
    "fig, ax = plt.subplots(figsize=(12,7))\n",
    "sns.kdeplot(cab_df.PriceRetail)\n",
    "plt.title('Cabernet Price Distribution', fontsize=20)\n",
    "plt.xlabel('Price $', fontsize=15)\n",
    "plt.ylabel('% of Wines', fontsize=15)"
   ]
  },
  {
   "cell_type": "markdown",
   "metadata": {},
   "source": [
    "### Making the cut\n",
    "Based on the plots above, it seems like a good idea to restrict the dataset only to wines with price < $1000. As shown below, this results in us dropping 30 records out of the original 2770. "
   ]
  },
  {
   "cell_type": "code",
   "execution_count": 20,
   "metadata": {
    "collapsed": false
   },
   "outputs": [
    {
     "data": {
      "text/html": [
       "<div>\n",
       "<style scoped>\n",
       "    .dataframe tbody tr th:only-of-type {\n",
       "        vertical-align: middle;\n",
       "    }\n",
       "\n",
       "    .dataframe tbody tr th {\n",
       "        vertical-align: top;\n",
       "    }\n",
       "\n",
       "    .dataframe thead th {\n",
       "        text-align: right;\n",
       "    }\n",
       "</style>\n",
       "<table border=\"1\" class=\"dataframe\">\n",
       "  <thead>\n",
       "    <tr style=\"text-align: right;\">\n",
       "      <th></th>\n",
       "      <th>Id</th>\n",
       "      <th>Attributes</th>\n",
       "      <th>Name</th>\n",
       "      <th>Vintage</th>\n",
       "      <th>Appellation</th>\n",
       "      <th>Region</th>\n",
       "      <th>WineType</th>\n",
       "      <th>Vineyard</th>\n",
       "      <th>RatingScore</th>\n",
       "      <th>PriceRetail</th>\n",
       "      <th>UnqWordInd</th>\n",
       "    </tr>\n",
       "  </thead>\n",
       "  <tbody>\n",
       "    <tr>\n",
       "      <th>1</th>\n",
       "      <td>147150</td>\n",
       "      <td>Collectible Wines</td>\n",
       "      <td>Penfolds Kalimna Block 42 Cabernet Sauvignon 2004</td>\n",
       "      <td>2004</td>\n",
       "      <td>Barossa Valley</td>\n",
       "      <td>Australia</td>\n",
       "      <td>Cabernet Sauvignon</td>\n",
       "      <td>Penfolds Wines</td>\n",
       "      <td>100</td>\n",
       "      <td>739.0</td>\n",
       "      <td>0</td>\n",
       "    </tr>\n",
       "    <tr>\n",
       "      <th>2</th>\n",
       "      <td>82919</td>\n",
       "      <td>Collectible Wines</td>\n",
       "      <td>Quilceda Creek Cabernet Sauvignon 2002</td>\n",
       "      <td>2002</td>\n",
       "      <td>Columbia Valley</td>\n",
       "      <td>Washington</td>\n",
       "      <td>Cabernet Sauvignon</td>\n",
       "      <td>Quilceda Creek Vintners</td>\n",
       "      <td>100</td>\n",
       "      <td>269.0</td>\n",
       "      <td>0</td>\n",
       "    </tr>\n",
       "    <tr>\n",
       "      <th>4</th>\n",
       "      <td>87182</td>\n",
       "      <td>Collectible Wines</td>\n",
       "      <td>Quilceda Creek Cabernet Sauvignon 2003</td>\n",
       "      <td>2003</td>\n",
       "      <td>Columbia Valley</td>\n",
       "      <td>Washington</td>\n",
       "      <td>Cabernet Sauvignon</td>\n",
       "      <td>Quilceda Creek Vintners</td>\n",
       "      <td>100</td>\n",
       "      <td>289.0</td>\n",
       "      <td>0</td>\n",
       "    </tr>\n",
       "    <tr>\n",
       "      <th>5</th>\n",
       "      <td>137427</td>\n",
       "      <td>Big &amp;amp; Bold</td>\n",
       "      <td>Schrader CCS Beckstoffer To Kalon Cabernet Sau...</td>\n",
       "      <td>2012</td>\n",
       "      <td>Napa Valley</td>\n",
       "      <td>California</td>\n",
       "      <td>Cabernet Sauvignon</td>\n",
       "      <td>Schrader Cellars</td>\n",
       "      <td>100</td>\n",
       "      <td>665.0</td>\n",
       "      <td>0</td>\n",
       "    </tr>\n",
       "    <tr>\n",
       "      <th>6</th>\n",
       "      <td>114359</td>\n",
       "      <td>Collectible Wines</td>\n",
       "      <td>Quilceda Creek Cabernet Sauvignon (1.5 Liter M...</td>\n",
       "      <td>2007</td>\n",
       "      <td>Columbia Valley</td>\n",
       "      <td>Washington</td>\n",
       "      <td>Cabernet Sauvignon</td>\n",
       "      <td>Quilceda Creek Vintners</td>\n",
       "      <td>100</td>\n",
       "      <td>599.0</td>\n",
       "      <td>1</td>\n",
       "    </tr>\n",
       "  </tbody>\n",
       "</table>\n",
       "</div>"
      ],
      "text/plain": [
       "       Id         Attributes  \\\n",
       "1  147150  Collectible Wines   \n",
       "2   82919  Collectible Wines   \n",
       "4   87182  Collectible Wines   \n",
       "5  137427     Big &amp; Bold   \n",
       "6  114359  Collectible Wines   \n",
       "\n",
       "                                                Name  Vintage  \\\n",
       "1  Penfolds Kalimna Block 42 Cabernet Sauvignon 2004     2004   \n",
       "2             Quilceda Creek Cabernet Sauvignon 2002     2002   \n",
       "4             Quilceda Creek Cabernet Sauvignon 2003     2003   \n",
       "5  Schrader CCS Beckstoffer To Kalon Cabernet Sau...     2012   \n",
       "6  Quilceda Creek Cabernet Sauvignon (1.5 Liter M...     2007   \n",
       "\n",
       "       Appellation      Region            WineType                 Vineyard  \\\n",
       "1   Barossa Valley   Australia  Cabernet Sauvignon           Penfolds Wines   \n",
       "2  Columbia Valley  Washington  Cabernet Sauvignon  Quilceda Creek Vintners   \n",
       "4  Columbia Valley  Washington  Cabernet Sauvignon  Quilceda Creek Vintners   \n",
       "5      Napa Valley  California  Cabernet Sauvignon         Schrader Cellars   \n",
       "6  Columbia Valley  Washington  Cabernet Sauvignon  Quilceda Creek Vintners   \n",
       "\n",
       "   RatingScore  PriceRetail  UnqWordInd  \n",
       "1          100        739.0           0  \n",
       "2          100        269.0           0  \n",
       "4          100        289.0           0  \n",
       "5          100        665.0           0  \n",
       "6          100        599.0           1  "
      ]
     },
     "execution_count": 20,
     "metadata": {},
     "output_type": "execute_result"
    }
   ],
   "source": [
    "cab_df2 = cab_df2[cab_df2['PriceRetail']<1000]\n",
    "cab_df2.head()"
   ]
  },
  {
   "cell_type": "code",
   "execution_count": 21,
   "metadata": {
    "collapsed": false
   },
   "outputs": [
    {
     "name": "stdout",
     "output_type": "stream",
     "text": [
      "Number of records in original dataset: 2770\n",
      "Number of records in restricted dataset: 2740\n",
      "Number of records dropped: 30\n"
     ]
    }
   ],
   "source": [
    "print \"Number of records in original dataset: \"+str(len(cab_df))\n",
    "print \"Number of records in restricted dataset: \"+str(len(cab_df2))\n",
    "print \"Number of records dropped: \"+str(len(cab_df)-len(cab_df2))"
   ]
  },
  {
   "cell_type": "code",
   "execution_count": 22,
   "metadata": {
    "collapsed": false
   },
   "outputs": [
    {
     "data": {
      "text/html": [
       "<div>\n",
       "<style scoped>\n",
       "    .dataframe tbody tr th:only-of-type {\n",
       "        vertical-align: middle;\n",
       "    }\n",
       "\n",
       "    .dataframe tbody tr th {\n",
       "        vertical-align: top;\n",
       "    }\n",
       "\n",
       "    .dataframe thead th {\n",
       "        text-align: right;\n",
       "    }\n",
       "</style>\n",
       "<table border=\"1\" class=\"dataframe\">\n",
       "  <thead>\n",
       "    <tr style=\"text-align: right;\">\n",
       "      <th></th>\n",
       "      <th>Id</th>\n",
       "      <th>Vintage</th>\n",
       "      <th>RatingScore</th>\n",
       "      <th>PriceRetail</th>\n",
       "      <th>UnqWordInd</th>\n",
       "    </tr>\n",
       "  </thead>\n",
       "  <tbody>\n",
       "    <tr>\n",
       "      <th>count</th>\n",
       "      <td>2740.000000</td>\n",
       "      <td>2740.000000</td>\n",
       "      <td>2740.000000</td>\n",
       "      <td>2740.000000</td>\n",
       "      <td>2740.000000</td>\n",
       "    </tr>\n",
       "    <tr>\n",
       "      <th>mean</th>\n",
       "      <td>112390.384307</td>\n",
       "      <td>2005.776277</td>\n",
       "      <td>93.006934</td>\n",
       "      <td>114.273927</td>\n",
       "      <td>0.217883</td>\n",
       "    </tr>\n",
       "    <tr>\n",
       "      <th>std</th>\n",
       "      <td>25960.558042</td>\n",
       "      <td>5.290739</td>\n",
       "      <td>3.035561</td>\n",
       "      <td>123.203760</td>\n",
       "      <td>0.412883</td>\n",
       "    </tr>\n",
       "    <tr>\n",
       "      <th>min</th>\n",
       "      <td>316.000000</td>\n",
       "      <td>1978.000000</td>\n",
       "      <td>0.000000</td>\n",
       "      <td>7.990000</td>\n",
       "      <td>0.000000</td>\n",
       "    </tr>\n",
       "    <tr>\n",
       "      <th>25%</th>\n",
       "      <td>102965.500000</td>\n",
       "      <td>2004.000000</td>\n",
       "      <td>91.000000</td>\n",
       "      <td>41.990000</td>\n",
       "      <td>0.000000</td>\n",
       "    </tr>\n",
       "    <tr>\n",
       "      <th>50%</th>\n",
       "      <td>117419.000000</td>\n",
       "      <td>2007.000000</td>\n",
       "      <td>93.000000</td>\n",
       "      <td>76.990000</td>\n",
       "      <td>0.000000</td>\n",
       "    </tr>\n",
       "    <tr>\n",
       "      <th>75%</th>\n",
       "      <td>129743.250000</td>\n",
       "      <td>2009.000000</td>\n",
       "      <td>95.000000</td>\n",
       "      <td>135.000000</td>\n",
       "      <td>0.000000</td>\n",
       "    </tr>\n",
       "    <tr>\n",
       "      <th>max</th>\n",
       "      <td>148089.000000</td>\n",
       "      <td>2014.000000</td>\n",
       "      <td>100.000000</td>\n",
       "      <td>999.000000</td>\n",
       "      <td>1.000000</td>\n",
       "    </tr>\n",
       "  </tbody>\n",
       "</table>\n",
       "</div>"
      ],
      "text/plain": [
       "                  Id      Vintage  RatingScore  PriceRetail   UnqWordInd\n",
       "count    2740.000000  2740.000000  2740.000000  2740.000000  2740.000000\n",
       "mean   112390.384307  2005.776277    93.006934   114.273927     0.217883\n",
       "std     25960.558042     5.290739     3.035561   123.203760     0.412883\n",
       "min       316.000000  1978.000000     0.000000     7.990000     0.000000\n",
       "25%    102965.500000  2004.000000    91.000000    41.990000     0.000000\n",
       "50%    117419.000000  2007.000000    93.000000    76.990000     0.000000\n",
       "75%    129743.250000  2009.000000    95.000000   135.000000     0.000000\n",
       "max    148089.000000  2014.000000   100.000000   999.000000     1.000000"
      ]
     },
     "execution_count": 22,
     "metadata": {},
     "output_type": "execute_result"
    }
   ],
   "source": [
    "cab_df2.describe()"
   ]
  },
  {
   "cell_type": "code",
   "execution_count": 23,
   "metadata": {
    "collapsed": false
   },
   "outputs": [
    {
     "data": {
      "text/plain": [
       "<matplotlib.text.Text at 0x110d72990>"
      ]
     },
     "execution_count": 23,
     "metadata": {},
     "output_type": "execute_result"
    },
    {
     "data": {
      "image/png": "[encoded data removed]",
      "text/plain": [
       "<matplotlib.figure.Figure at 0x110257710>"
      ]
     },
     "metadata": {},
     "output_type": "display_data"
    }
   ],
   "source": [
    "fig, ax = plt.subplots(figsize=(12,7))\n",
    "cab_df2['PriceRetail'].plot.hist(bins=100)\n",
    "plt.xlabel('Price $', fontsize=15)\n",
    "plt.ylabel('Number of Wines', fontsize=15)\n",
    "plt.title('Histogram of Cabernet Prices', fontsize=20)"
   ]
  },
  {
   "cell_type": "markdown",
   "metadata": {},
   "source": [
    "### Where in the world? \n",
    "Now that we have a decent dataset, let's explore further and take a look at our wines by region. Based on the data, the bulk of our wines are from California, so my hunch is that this variable won't add much in the way of predictive power. Wine.com is a California based company, so it's not surprising to see so much of their invetory from California. "
   ]
  },
  {
   "cell_type": "code",
   "execution_count": 24,
   "metadata": {
    "collapsed": false
   },
   "outputs": [
    {
     "data": {
      "text/html": [
       "<div>\n",
       "<style scoped>\n",
       "    .dataframe tbody tr th:only-of-type {\n",
       "        vertical-align: middle;\n",
       "    }\n",
       "\n",
       "    .dataframe tbody tr th {\n",
       "        vertical-align: top;\n",
       "    }\n",
       "\n",
       "    .dataframe thead th {\n",
       "        text-align: right;\n",
       "    }\n",
       "</style>\n",
       "<table border=\"1\" class=\"dataframe\">\n",
       "  <thead>\n",
       "    <tr style=\"text-align: right;\">\n",
       "      <th></th>\n",
       "      <th>AvgPrice</th>\n",
       "      <th>Wine Count</th>\n",
       "    </tr>\n",
       "  </thead>\n",
       "  <tbody>\n",
       "    <tr>\n",
       "      <th>Australia</th>\n",
       "      <td>49.083652</td>\n",
       "      <td>230</td>\n",
       "    </tr>\n",
       "    <tr>\n",
       "      <th>California</th>\n",
       "      <td>133.401256</td>\n",
       "      <td>2054</td>\n",
       "    </tr>\n",
       "    <tr>\n",
       "      <th>Israel</th>\n",
       "      <td>24.240000</td>\n",
       "      <td>4</td>\n",
       "    </tr>\n",
       "    <tr>\n",
       "      <th>Italy</th>\n",
       "      <td>38.646667</td>\n",
       "      <td>15</td>\n",
       "    </tr>\n",
       "    <tr>\n",
       "      <th>South Africa</th>\n",
       "      <td>32.444762</td>\n",
       "      <td>21</td>\n",
       "    </tr>\n",
       "    <tr>\n",
       "      <th>South America</th>\n",
       "      <td>27.956176</td>\n",
       "      <td>204</td>\n",
       "    </tr>\n",
       "    <tr>\n",
       "      <th>Spain</th>\n",
       "      <td>60.995000</td>\n",
       "      <td>10</td>\n",
       "    </tr>\n",
       "    <tr>\n",
       "      <th>Washington</th>\n",
       "      <td>99.723416</td>\n",
       "      <td>202</td>\n",
       "    </tr>\n",
       "  </tbody>\n",
       "</table>\n",
       "</div>"
      ],
      "text/plain": [
       "                 AvgPrice  Wine Count\n",
       "Australia       49.083652         230\n",
       "California     133.401256        2054\n",
       "Israel          24.240000           4\n",
       "Italy           38.646667          15\n",
       "South Africa    32.444762          21\n",
       "South America   27.956176         204\n",
       "Spain           60.995000          10\n",
       "Washington      99.723416         202"
      ]
     },
     "execution_count": 24,
     "metadata": {},
     "output_type": "execute_result"
    }
   ],
   "source": [
    "region = pd.DataFrame(cab_df2.groupby(['Region'])['PriceRetail'].mean())\n",
    "region.columns = ['AvgPrice']\n",
    "\n",
    "region2 = pd.DataFrame(cab_df2['Region'].value_counts())\n",
    "region2.columns=['Wine Count']\n",
    "\n",
    "region_df = pd.concat([region, region2], axis=1)\n",
    "region_df"
   ]
  },
  {
   "cell_type": "code",
   "execution_count": 25,
   "metadata": {
    "collapsed": false
   },
   "outputs": [
    {
     "name": "stderr",
     "output_type": "stream",
     "text": [
      "/Users/gregorybronn/anaconda/lib/python2.7/site-packages/seaborn/categorical.py:1428: FutureWarning: remove_na is deprecated and is a private function. Do not use.\n",
      "  stat_data = remove_na(group_data)\n"
     ]
    },
    {
     "data": {
      "text/plain": [
       "<matplotlib.text.Text at 0x1111ad510>"
      ]
     },
     "execution_count": 25,
     "metadata": {},
     "output_type": "execute_result"
    },
    {
     "data": {
      "image/png": "[encoded data removed]",
      "text/plain": [
       "<matplotlib.figure.Figure at 0x110e656d0>"
      ]
     },
     "metadata": {},
     "output_type": "display_data"
    }
   ],
   "source": [
    "region_df = region_df.reset_index().sort_values('AvgPrice', ascending=False)\n",
    "region_df.columns=['Region', 'Price', 'WineCount']\n",
    "\n",
    "fig, ax = plt.subplots(figsize=(12,7))\n",
    "sns.pointplot(x='Price', y='Region', data=region_df, join=False, ci=None)\n",
    "plt.title('Average Price by Region', fontsize=20)"
   ]
  },
  {
   "cell_type": "markdown",
   "metadata": {},
   "source": [
    "### The ratings are...\n",
    "Do ratings correspond with higher prices in our dataset? Let's take a closer look."
   ]
  },
  {
   "cell_type": "code",
   "execution_count": 26,
   "metadata": {
    "collapsed": false
   },
   "outputs": [
    {
     "data": {
      "text/html": [
       "<div>\n",
       "<style scoped>\n",
       "    .dataframe tbody tr th:only-of-type {\n",
       "        vertical-align: middle;\n",
       "    }\n",
       "\n",
       "    .dataframe tbody tr th {\n",
       "        vertical-align: top;\n",
       "    }\n",
       "\n",
       "    .dataframe thead th {\n",
       "        text-align: right;\n",
       "    }\n",
       "</style>\n",
       "<table border=\"1\" class=\"dataframe\">\n",
       "  <thead>\n",
       "    <tr style=\"text-align: right;\">\n",
       "      <th></th>\n",
       "      <th>AvgPrice</th>\n",
       "      <th>Wine Count</th>\n",
       "    </tr>\n",
       "  </thead>\n",
       "  <tbody>\n",
       "    <tr>\n",
       "      <th>0</th>\n",
       "      <td>63.990000</td>\n",
       "      <td>1</td>\n",
       "    </tr>\n",
       "    <tr>\n",
       "      <th>89</th>\n",
       "      <td>25.216161</td>\n",
       "      <td>112</td>\n",
       "    </tr>\n",
       "    <tr>\n",
       "      <th>90</th>\n",
       "      <td>46.521226</td>\n",
       "      <td>522</td>\n",
       "    </tr>\n",
       "    <tr>\n",
       "      <th>91</th>\n",
       "      <td>95.545000</td>\n",
       "      <td>82</td>\n",
       "    </tr>\n",
       "    <tr>\n",
       "      <th>92</th>\n",
       "      <td>79.113585</td>\n",
       "      <td>477</td>\n",
       "    </tr>\n",
       "    <tr>\n",
       "      <th>93</th>\n",
       "      <td>95.847599</td>\n",
       "      <td>404</td>\n",
       "    </tr>\n",
       "    <tr>\n",
       "      <th>94</th>\n",
       "      <td>111.435379</td>\n",
       "      <td>383</td>\n",
       "    </tr>\n",
       "    <tr>\n",
       "      <th>95</th>\n",
       "      <td>157.682760</td>\n",
       "      <td>337</td>\n",
       "    </tr>\n",
       "    <tr>\n",
       "      <th>96</th>\n",
       "      <td>184.997551</td>\n",
       "      <td>196</td>\n",
       "    </tr>\n",
       "    <tr>\n",
       "      <th>97</th>\n",
       "      <td>227.095543</td>\n",
       "      <td>92</td>\n",
       "    </tr>\n",
       "    <tr>\n",
       "      <th>98</th>\n",
       "      <td>303.167532</td>\n",
       "      <td>77</td>\n",
       "    </tr>\n",
       "    <tr>\n",
       "      <th>99</th>\n",
       "      <td>377.565333</td>\n",
       "      <td>30</td>\n",
       "    </tr>\n",
       "    <tr>\n",
       "      <th>100</th>\n",
       "      <td>518.591481</td>\n",
       "      <td>27</td>\n",
       "    </tr>\n",
       "  </tbody>\n",
       "</table>\n",
       "</div>"
      ],
      "text/plain": [
       "       AvgPrice  Wine Count\n",
       "0     63.990000           1\n",
       "89    25.216161         112\n",
       "90    46.521226         522\n",
       "91    95.545000          82\n",
       "92    79.113585         477\n",
       "93    95.847599         404\n",
       "94   111.435379         383\n",
       "95   157.682760         337\n",
       "96   184.997551         196\n",
       "97   227.095543          92\n",
       "98   303.167532          77\n",
       "99   377.565333          30\n",
       "100  518.591481          27"
      ]
     },
     "execution_count": 26,
     "metadata": {},
     "output_type": "execute_result"
    }
   ],
   "source": [
    "rs = pd.DataFrame(cab_df2.groupby(['RatingScore'])['PriceRetail'].mean())\n",
    "rs.columns = ['AvgPrice']\n",
    "\n",
    "rs2 = pd.DataFrame(cab_df2['RatingScore'].value_counts())\n",
    "rs2.columns=['Wine Count']\n",
    "\n",
    "rs_df = pd.concat([rs, rs2], axis=1)\n",
    "rs_df"
   ]
  },
  {
   "cell_type": "markdown",
   "metadata": {},
   "source": [
    "Looks like we have a single outlier where there was no rating, so I'm going to remove it from the dataset."
   ]
  },
  {
   "cell_type": "code",
   "execution_count": 27,
   "metadata": {
    "collapsed": true
   },
   "outputs": [],
   "source": [
    "cab_df2 = cab_df2[cab_df2['RatingScore']!=0]"
   ]
  },
  {
   "cell_type": "code",
   "execution_count": 28,
   "metadata": {
    "collapsed": false
   },
   "outputs": [
    {
     "data": {
      "text/plain": [
       "<matplotlib.text.Text at 0x1113fec10>"
      ]
     },
     "execution_count": 28,
     "metadata": {},
     "output_type": "execute_result"
    },
    {
     "data": {
      "image/png": "[encoded data removed]",
      "text/plain": [
       "<matplotlib.figure.Figure at 0x111239910>"
      ]
     },
     "metadata": {},
     "output_type": "display_data"
    }
   ],
   "source": [
    "sns.lmplot('RatingScore', 'PriceRetail', data=cab_df2, fit_reg=False)\n",
    "plt.title('Scatterplot of Rating Score vs. Price', fontsize=20)"
   ]
  },
  {
   "cell_type": "code",
   "execution_count": 29,
   "metadata": {
    "collapsed": false
   },
   "outputs": [
    {
     "name": "stderr",
     "output_type": "stream",
     "text": [
      "/Users/gregorybronn/anaconda/lib/python2.7/site-packages/seaborn/categorical.py:454: FutureWarning: remove_na is deprecated and is a private function. Do not use.\n",
      "  box_data = remove_na(group_data)\n"
     ]
    },
    {
     "data": {
      "text/plain": [
       "<matplotlib.axes._subplots.AxesSubplot at 0x110b59350>"
      ]
     },
     "execution_count": 29,
     "metadata": {},
     "output_type": "execute_result"
    },
    {
     "data": {
      "image/png": "[encoded data removed]",
      "text/plain": [
       "<matplotlib.figure.Figure at 0x110fc3fd0>"
      ]
     },
     "metadata": {},
     "output_type": "display_data"
    }
   ],
   "source": [
    "fig, ax = plt.subplots(figsize=(12,7))\n",
    "plt.title('Boxplot of Price Distribution by Rating Score', fontsize=20)\n",
    "sns.boxplot(x=cab_df2['RatingScore'], y=cab_df2['PriceRetail'])"
   ]
  },
  {
   "cell_type": "markdown",
   "metadata": {},
   "source": [
    "### Vintage\n",
    "Let's explore how price varies by vintage. Do we see higher prices for older vintages?"
   ]
  },
  {
   "cell_type": "code",
   "execution_count": 30,
   "metadata": {
    "collapsed": false
   },
   "outputs": [
    {
     "data": {
      "text/html": [
       "<div>\n",
       "<style scoped>\n",
       "    .dataframe tbody tr th:only-of-type {\n",
       "        vertical-align: middle;\n",
       "    }\n",
       "\n",
       "    .dataframe tbody tr th {\n",
       "        vertical-align: top;\n",
       "    }\n",
       "\n",
       "    .dataframe thead th {\n",
       "        text-align: right;\n",
       "    }\n",
       "</style>\n",
       "<table border=\"1\" class=\"dataframe\">\n",
       "  <thead>\n",
       "    <tr style=\"text-align: right;\">\n",
       "      <th></th>\n",
       "      <th>AvgPrice</th>\n",
       "      <th>Wine Count</th>\n",
       "    </tr>\n",
       "  </thead>\n",
       "  <tbody>\n",
       "    <tr>\n",
       "      <th>1978</th>\n",
       "      <td>172.000000</td>\n",
       "      <td>2</td>\n",
       "    </tr>\n",
       "    <tr>\n",
       "      <th>1982</th>\n",
       "      <td>129.000000</td>\n",
       "      <td>1</td>\n",
       "    </tr>\n",
       "    <tr>\n",
       "      <th>1984</th>\n",
       "      <td>225.666667</td>\n",
       "      <td>3</td>\n",
       "    </tr>\n",
       "    <tr>\n",
       "      <th>1985</th>\n",
       "      <td>379.495000</td>\n",
       "      <td>2</td>\n",
       "    </tr>\n",
       "    <tr>\n",
       "      <th>1986</th>\n",
       "      <td>133.664444</td>\n",
       "      <td>9</td>\n",
       "    </tr>\n",
       "    <tr>\n",
       "      <th>1987</th>\n",
       "      <td>228.571429</td>\n",
       "      <td>7</td>\n",
       "    </tr>\n",
       "    <tr>\n",
       "      <th>1988</th>\n",
       "      <td>127.000000</td>\n",
       "      <td>2</td>\n",
       "    </tr>\n",
       "    <tr>\n",
       "      <th>1989</th>\n",
       "      <td>151.198000</td>\n",
       "      <td>5</td>\n",
       "    </tr>\n",
       "    <tr>\n",
       "      <th>1990</th>\n",
       "      <td>143.165000</td>\n",
       "      <td>6</td>\n",
       "    </tr>\n",
       "    <tr>\n",
       "      <th>1991</th>\n",
       "      <td>160.076154</td>\n",
       "      <td>13</td>\n",
       "    </tr>\n",
       "    <tr>\n",
       "      <th>1992</th>\n",
       "      <td>200.294118</td>\n",
       "      <td>17</td>\n",
       "    </tr>\n",
       "    <tr>\n",
       "      <th>1993</th>\n",
       "      <td>150.448500</td>\n",
       "      <td>20</td>\n",
       "    </tr>\n",
       "    <tr>\n",
       "      <th>1994</th>\n",
       "      <td>180.377027</td>\n",
       "      <td>37</td>\n",
       "    </tr>\n",
       "    <tr>\n",
       "      <th>1995</th>\n",
       "      <td>166.403333</td>\n",
       "      <td>42</td>\n",
       "    </tr>\n",
       "    <tr>\n",
       "      <th>1996</th>\n",
       "      <td>177.300789</td>\n",
       "      <td>38</td>\n",
       "    </tr>\n",
       "    <tr>\n",
       "      <th>1997</th>\n",
       "      <td>179.431695</td>\n",
       "      <td>59</td>\n",
       "    </tr>\n",
       "    <tr>\n",
       "      <th>1998</th>\n",
       "      <td>109.515652</td>\n",
       "      <td>46</td>\n",
       "    </tr>\n",
       "    <tr>\n",
       "      <th>1999</th>\n",
       "      <td>110.338689</td>\n",
       "      <td>61</td>\n",
       "    </tr>\n",
       "    <tr>\n",
       "      <th>2000</th>\n",
       "      <td>133.252051</td>\n",
       "      <td>39</td>\n",
       "    </tr>\n",
       "    <tr>\n",
       "      <th>2001</th>\n",
       "      <td>155.582525</td>\n",
       "      <td>99</td>\n",
       "    </tr>\n",
       "    <tr>\n",
       "      <th>2002</th>\n",
       "      <td>159.978333</td>\n",
       "      <td>84</td>\n",
       "    </tr>\n",
       "    <tr>\n",
       "      <th>2003</th>\n",
       "      <td>161.026970</td>\n",
       "      <td>66</td>\n",
       "    </tr>\n",
       "    <tr>\n",
       "      <th>2004</th>\n",
       "      <td>143.932936</td>\n",
       "      <td>109</td>\n",
       "    </tr>\n",
       "    <tr>\n",
       "      <th>2005</th>\n",
       "      <td>114.354050</td>\n",
       "      <td>200</td>\n",
       "    </tr>\n",
       "    <tr>\n",
       "      <th>2006</th>\n",
       "      <td>105.548428</td>\n",
       "      <td>229</td>\n",
       "    </tr>\n",
       "    <tr>\n",
       "      <th>2007</th>\n",
       "      <td>95.182290</td>\n",
       "      <td>310</td>\n",
       "    </tr>\n",
       "    <tr>\n",
       "      <th>2008</th>\n",
       "      <td>105.913779</td>\n",
       "      <td>262</td>\n",
       "    </tr>\n",
       "    <tr>\n",
       "      <th>2009</th>\n",
       "      <td>94.077708</td>\n",
       "      <td>288</td>\n",
       "    </tr>\n",
       "    <tr>\n",
       "      <th>2010</th>\n",
       "      <td>97.236975</td>\n",
       "      <td>281</td>\n",
       "    </tr>\n",
       "    <tr>\n",
       "      <th>2011</th>\n",
       "      <td>107.411928</td>\n",
       "      <td>166</td>\n",
       "    </tr>\n",
       "    <tr>\n",
       "      <th>2012</th>\n",
       "      <td>85.727767</td>\n",
       "      <td>206</td>\n",
       "    </tr>\n",
       "    <tr>\n",
       "      <th>2013</th>\n",
       "      <td>21.646897</td>\n",
       "      <td>29</td>\n",
       "    </tr>\n",
       "    <tr>\n",
       "      <th>2014</th>\n",
       "      <td>27.990000</td>\n",
       "      <td>1</td>\n",
       "    </tr>\n",
       "  </tbody>\n",
       "</table>\n",
       "</div>"
      ],
      "text/plain": [
       "        AvgPrice  Wine Count\n",
       "1978  172.000000           2\n",
       "1982  129.000000           1\n",
       "1984  225.666667           3\n",
       "1985  379.495000           2\n",
       "1986  133.664444           9\n",
       "1987  228.571429           7\n",
       "1988  127.000000           2\n",
       "1989  151.198000           5\n",
       "1990  143.165000           6\n",
       "1991  160.076154          13\n",
       "1992  200.294118          17\n",
       "1993  150.448500          20\n",
       "1994  180.377027          37\n",
       "1995  166.403333          42\n",
       "1996  177.300789          38\n",
       "1997  179.431695          59\n",
       "1998  109.515652          46\n",
       "1999  110.338689          61\n",
       "2000  133.252051          39\n",
       "2001  155.582525          99\n",
       "2002  159.978333          84\n",
       "2003  161.026970          66\n",
       "2004  143.932936         109\n",
       "2005  114.354050         200\n",
       "2006  105.548428         229\n",
       "2007   95.182290         310\n",
       "2008  105.913779         262\n",
       "2009   94.077708         288\n",
       "2010   97.236975         281\n",
       "2011  107.411928         166\n",
       "2012   85.727767         206\n",
       "2013   21.646897          29\n",
       "2014   27.990000           1"
      ]
     },
     "execution_count": 30,
     "metadata": {},
     "output_type": "execute_result"
    }
   ],
   "source": [
    "vint = pd.DataFrame(cab_df2.groupby(['Vintage'])['PriceRetail'].mean())\n",
    "vint.columns = ['AvgPrice']\n",
    "\n",
    "vint2 = pd.DataFrame(cab_df2['Vintage'].value_counts())\n",
    "vint2.columns=['Wine Count']\n",
    "\n",
    "vint_df = pd.concat([vint, vint2], axis=1)\n",
    "vint_df"
   ]
  },
  {
   "cell_type": "code",
   "execution_count": 31,
   "metadata": {
    "collapsed": false
   },
   "outputs": [
    {
     "data": {
      "text/plain": [
       "<matplotlib.text.Text at 0x111868250>"
      ]
     },
     "execution_count": 31,
     "metadata": {},
     "output_type": "execute_result"
    },
    {
     "data": {
      "image/png": "[encoded data removed]",
      "text/plain": [
       "<matplotlib.figure.Figure at 0x1113f3e50>"
      ]
     },
     "metadata": {},
     "output_type": "display_data"
    }
   ],
   "source": [
    "sns.lmplot('Vintage', 'PriceRetail', data=cab_df2, fit_reg=False)\n",
    "plt.title('Scatterplot of Vintage vs. Price')"
   ]
  },
  {
   "cell_type": "code",
   "execution_count": 32,
   "metadata": {
    "collapsed": false
   },
   "outputs": [
    {
     "data": {
      "text/plain": [
       "<matplotlib.text.Text at 0x111a45790>"
      ]
     },
     "execution_count": 32,
     "metadata": {},
     "output_type": "execute_result"
    },
    {
     "data": {
      "image/png": "[encoded data removed]",
      "text/plain": [
       "<matplotlib.figure.Figure at 0x111868490>"
      ]
     },
     "metadata": {},
     "output_type": "display_data"
    }
   ],
   "source": [
    "fig, ax = plt.subplots(figsize=(12,7))\n",
    "vint_df['AvgPrice'].plot.bar(color='r')\n",
    "ax.xaxis.set_tick_params(labelsize=15)\n",
    "ax.yaxis.set_tick_params(labelsize=15)\n",
    "plt.xlabel('Vintage', fontsize=15)\n",
    "plt.ylabel('Average Price $', fontsize=15)\n",
    "plt.title('Average Cabernet Price by Vintage', fontsize=20)"
   ]
  },
  {
   "cell_type": "markdown",
   "metadata": {},
   "source": [
    "### Let's look at at the attributes\n",
    "Do the advertised attributes from Wine.com correspond with higher prices? Let's take a closer look."
   ]
  },
  {
   "cell_type": "code",
   "execution_count": 33,
   "metadata": {
    "collapsed": false
   },
   "outputs": [
    {
     "data": {
      "text/html": [
       "<div>\n",
       "<style scoped>\n",
       "    .dataframe tbody tr th:only-of-type {\n",
       "        vertical-align: middle;\n",
       "    }\n",
       "\n",
       "    .dataframe tbody tr th {\n",
       "        vertical-align: top;\n",
       "    }\n",
       "\n",
       "    .dataframe thead th {\n",
       "        text-align: right;\n",
       "    }\n",
       "</style>\n",
       "<table border=\"1\" class=\"dataframe\">\n",
       "  <thead>\n",
       "    <tr style=\"text-align: right;\">\n",
       "      <th></th>\n",
       "      <th>AvgPrice</th>\n",
       "      <th>Wine Count</th>\n",
       "    </tr>\n",
       "  </thead>\n",
       "  <tbody>\n",
       "    <tr>\n",
       "      <th>90+ Rated Wine</th>\n",
       "      <td>48.000000</td>\n",
       "      <td>1</td>\n",
       "    </tr>\n",
       "    <tr>\n",
       "      <th>94+ Rated Wine</th>\n",
       "      <td>99.990000</td>\n",
       "      <td>1</td>\n",
       "    </tr>\n",
       "    <tr>\n",
       "      <th>Big &amp;amp; Bold</th>\n",
       "      <td>99.010364</td>\n",
       "      <td>1155</td>\n",
       "    </tr>\n",
       "    <tr>\n",
       "      <th>Boutique Wines</th>\n",
       "      <td>172.635538</td>\n",
       "      <td>130</td>\n",
       "    </tr>\n",
       "    <tr>\n",
       "      <th>Business Gifts</th>\n",
       "      <td>114.500000</td>\n",
       "      <td>2</td>\n",
       "    </tr>\n",
       "    <tr>\n",
       "      <th>Collectible Wines</th>\n",
       "      <td>161.733750</td>\n",
       "      <td>928</td>\n",
       "    </tr>\n",
       "    <tr>\n",
       "      <th>Earthy &amp;amp; Spicy</th>\n",
       "      <td>35.868361</td>\n",
       "      <td>61</td>\n",
       "    </tr>\n",
       "    <tr>\n",
       "      <th>Great Bottles to Give</th>\n",
       "      <td>179.990000</td>\n",
       "      <td>2</td>\n",
       "    </tr>\n",
       "    <tr>\n",
       "      <th>Green Wines</th>\n",
       "      <td>48.919130</td>\n",
       "      <td>46</td>\n",
       "    </tr>\n",
       "    <tr>\n",
       "      <th>Kosher Wines</th>\n",
       "      <td>61.740000</td>\n",
       "      <td>4</td>\n",
       "    </tr>\n",
       "    <tr>\n",
       "      <th>Older Vintages</th>\n",
       "      <td>121.101930</td>\n",
       "      <td>57</td>\n",
       "    </tr>\n",
       "    <tr>\n",
       "      <th>Private Cellar List</th>\n",
       "      <td>99.000000</td>\n",
       "      <td>2</td>\n",
       "    </tr>\n",
       "    <tr>\n",
       "      <th>Rich &amp;amp; Creamy</th>\n",
       "      <td>16.990000</td>\n",
       "      <td>1</td>\n",
       "    </tr>\n",
       "    <tr>\n",
       "      <th>Screw Cap Wines</th>\n",
       "      <td>28.596538</td>\n",
       "      <td>78</td>\n",
       "    </tr>\n",
       "    <tr>\n",
       "      <th>Smooth &amp;amp; Supple</th>\n",
       "      <td>42.020480</td>\n",
       "      <td>271</td>\n",
       "    </tr>\n",
       "  </tbody>\n",
       "</table>\n",
       "</div>"
      ],
      "text/plain": [
       "                         AvgPrice  Wine Count\n",
       "90+ Rated Wine          48.000000           1\n",
       "94+ Rated Wine          99.990000           1\n",
       "Big &amp; Bold          99.010364        1155\n",
       "Boutique Wines         172.635538         130\n",
       "Business Gifts         114.500000           2\n",
       "Collectible Wines      161.733750         928\n",
       "Earthy &amp; Spicy      35.868361          61\n",
       "Great Bottles to Give  179.990000           2\n",
       "Green Wines             48.919130          46\n",
       "Kosher Wines            61.740000           4\n",
       "Older Vintages         121.101930          57\n",
       "Private Cellar List     99.000000           2\n",
       "Rich &amp; Creamy       16.990000           1\n",
       "Screw Cap Wines         28.596538          78\n",
       "Smooth &amp; Supple     42.020480         271"
      ]
     },
     "execution_count": 33,
     "metadata": {},
     "output_type": "execute_result"
    }
   ],
   "source": [
    "att = pd.DataFrame(cab_df2.groupby(['Attributes'])['PriceRetail'].mean())\n",
    "att.columns = ['AvgPrice']\n",
    "\n",
    "att2 = pd.DataFrame(cab_df2['Attributes'].value_counts())\n",
    "att2.columns=['Wine Count']\n",
    "\n",
    "att_df = pd.concat([att, att2], axis=1)\n",
    "att_df"
   ]
  },
  {
   "cell_type": "code",
   "execution_count": 34,
   "metadata": {
    "collapsed": false
   },
   "outputs": [
    {
     "data": {
      "text/html": [
       "<div>\n",
       "<style scoped>\n",
       "    .dataframe tbody tr th:only-of-type {\n",
       "        vertical-align: middle;\n",
       "    }\n",
       "\n",
       "    .dataframe tbody tr th {\n",
       "        vertical-align: top;\n",
       "    }\n",
       "\n",
       "    .dataframe thead th {\n",
       "        text-align: right;\n",
       "    }\n",
       "</style>\n",
       "<table border=\"1\" class=\"dataframe\">\n",
       "  <thead>\n",
       "    <tr style=\"text-align: right;\">\n",
       "      <th></th>\n",
       "      <th>AvgPrice</th>\n",
       "      <th>Wine Count</th>\n",
       "    </tr>\n",
       "    <tr>\n",
       "      <th>UnqWordInd</th>\n",
       "      <th></th>\n",
       "      <th></th>\n",
       "    </tr>\n",
       "  </thead>\n",
       "  <tbody>\n",
       "    <tr>\n",
       "      <th>0</th>\n",
       "      <td>104.043770</td>\n",
       "      <td>2143</td>\n",
       "    </tr>\n",
       "    <tr>\n",
       "      <th>1</th>\n",
       "      <td>151.142232</td>\n",
       "      <td>596</td>\n",
       "    </tr>\n",
       "  </tbody>\n",
       "</table>\n",
       "</div>"
      ],
      "text/plain": [
       "              AvgPrice  Wine Count\n",
       "UnqWordInd                        \n",
       "0           104.043770        2143\n",
       "1           151.142232         596"
      ]
     },
     "execution_count": 34,
     "metadata": {},
     "output_type": "execute_result"
    }
   ],
   "source": [
    "unqWord = pd.DataFrame(cab_df2.groupby(['UnqWordInd'])['PriceRetail'].mean())\n",
    "unqWord.columns = ['AvgPrice']\n",
    "\n",
    "unqWord2 = pd.DataFrame(cab_df2['UnqWordInd'].value_counts())\n",
    "unqWord2.columns=['Wine Count']\n",
    "\n",
    "unqWord_df = pd.concat([unqWord, unqWord2], axis=1)\n",
    "unqWord_df"
   ]
  },
  {
   "cell_type": "code",
   "execution_count": 35,
   "metadata": {
    "collapsed": false
   },
   "outputs": [
    {
     "data": {
      "text/plain": [
       "<matplotlib.axes._subplots.AxesSubplot at 0x111b9d250>"
      ]
     },
     "execution_count": 35,
     "metadata": {},
     "output_type": "execute_result"
    },
    {
     "data": {
      "image/png": "[encoded data removed]",
      "text/plain": [
       "<matplotlib.figure.Figure at 0x111ba7210>"
      ]
     },
     "metadata": {},
     "output_type": "display_data"
    }
   ],
   "source": [
    "fig, ax = plt.subplots(figsize=(12,7))\n",
    "plt.title('Boxplot of Price Distribution by Unique Word Indicator', fontsize=20)\n",
    "sns.boxplot(x=cab_df2['UnqWordInd'], y=cab_df2['PriceRetail'])"
   ]
  },
  {
   "cell_type": "code",
   "execution_count": 40,
   "metadata": {
    "collapsed": false
   },
   "outputs": [
    {
     "data": {
      "text/plain": [
       "<matplotlib.text.Text at 0x112946490>"
      ]
     },
     "execution_count": 40,
     "metadata": {},
     "output_type": "execute_result"
    },
    {
     "data": {
      "image/png": "[encoded data removed]",
      "text/plain": [
       "<matplotlib.figure.Figure at 0x111fb3490>"
      ]
     },
     "metadata": {},
     "output_type": "display_data"
    }
   ],
   "source": [
    "sns.lmplot('RatingScore', 'PriceRetail', data=cab_df2, fit_reg=False, hue='UnqWordInd')\n",
    "plt.title('Scatterplot of Rating Score vs. Price by Unique Word Indicator', fontsize=15)"
   ]
  },
  {
   "cell_type": "markdown",
   "metadata": {},
   "source": [
    "## ----------------------------------------Findings So Far------------------------------------------------\n",
    "\n",
    "At this point, I've got a good sense of the data that I'm working with. A few things that struck me as interesting and worthy of consideration as I move into modeling are:\n",
    "\n",
    "*1. Vintage doesn't seem to provide good price discrimination. Older wines don't appear to be consistenly higher priced on average vs. newer wines, with the exception of 2013-2014.* \n",
    "\n",
    "*2. Rating Score does seem to do a good job of indicating higher average price. Wines with higher ratings tend to have higher prices, on average.* \n",
    "\n",
    "*3. Wines from California seem to have higher average prices vs. other parts of the world. However, most of the inventory is from California, so I'll need to keep this in mind as I move into the modeling phase.* \n",
    "\n",
    "*4. The \"Collectible Wines\" attribute may be a good predictor given its higher average price vs. other attributes.*\n",
    "\n",
    "*5. Distribution appears normal and is not lumpy or thin. *\n",
    "\n",
    "*6. The 'Unique Word Indicator' appears to do a good job of signaling higher prices among wines. However, it seems to be used less frequently among higher rated wines. Perhaps lower rated wines use these words to position themselves as worthy of a higher price in lieu of lower ratings. *"
   ]
  },
  {
   "cell_type": "code",
   "execution_count": 43,
   "metadata": {
    "collapsed": false
   },
   "outputs": [
    {
     "name": "stderr",
     "output_type": "stream",
     "text": [
      "/Users/gregorybronn/anaconda/lib/python2.7/site-packages/ipykernel/__main__.py:2: DeprecationWarning: \n",
      ".ix is deprecated. Please use\n",
      ".loc for label based indexing or\n",
      ".iloc for positional indexing\n",
      "\n",
      "See the documentation here:\n",
      "http://pandas.pydata.org/pandas-docs/stable/indexing.html#ix-indexer-is-deprecated\n",
      "  from ipykernel import kernelapp as app\n",
      "/Users/gregorybronn/anaconda/lib/python2.7/site-packages/ipykernel/__main__.py:3: DeprecationWarning: \n",
      ".ix is deprecated. Please use\n",
      ".loc for label based indexing or\n",
      ".iloc for positional indexing\n",
      "\n",
      "See the documentation here:\n",
      "http://pandas.pydata.org/pandas-docs/stable/indexing.html#ix-indexer-is-deprecated\n",
      "  app.launch_new_instance()\n"
     ]
    }
   ],
   "source": [
    "#create dummy variables for attributes variable\n",
    "attribute_dummies = pd.get_dummies(cab_df2.Attributes, prefix='Attribute').ix[:, 1:]\n",
    "region_dummies = pd.get_dummies(cab_df2.Region, prefix='Region').ix[:, 1:]"
   ]
  },
  {
   "cell_type": "code",
   "execution_count": 45,
   "metadata": {
    "collapsed": false
   },
   "outputs": [
    {
     "data": {
      "text/html": [
       "<div>\n",
       "<style scoped>\n",
       "    .dataframe tbody tr th:only-of-type {\n",
       "        vertical-align: middle;\n",
       "    }\n",
       "\n",
       "    .dataframe tbody tr th {\n",
       "        vertical-align: top;\n",
       "    }\n",
       "\n",
       "    .dataframe thead th {\n",
       "        text-align: right;\n",
       "    }\n",
       "</style>\n",
       "<table border=\"1\" class=\"dataframe\">\n",
       "  <thead>\n",
       "    <tr style=\"text-align: right;\">\n",
       "      <th></th>\n",
       "      <th>Id</th>\n",
       "      <th>Attributes</th>\n",
       "      <th>Name</th>\n",
       "      <th>Vintage</th>\n",
       "      <th>Appellation</th>\n",
       "      <th>Region</th>\n",
       "      <th>WineType</th>\n",
       "      <th>Vineyard</th>\n",
       "      <th>RatingScore</th>\n",
       "      <th>PriceRetail</th>\n",
       "      <th>...</th>\n",
       "      <th>Attribute_Rich &amp;amp; Creamy</th>\n",
       "      <th>Attribute_Screw Cap Wines</th>\n",
       "      <th>Attribute_Smooth &amp;amp; Supple</th>\n",
       "      <th>Region_California</th>\n",
       "      <th>Region_Israel</th>\n",
       "      <th>Region_Italy</th>\n",
       "      <th>Region_South Africa</th>\n",
       "      <th>Region_South America</th>\n",
       "      <th>Region_Spain</th>\n",
       "      <th>Region_Washington</th>\n",
       "    </tr>\n",
       "  </thead>\n",
       "  <tbody>\n",
       "    <tr>\n",
       "      <th>1</th>\n",
       "      <td>147150</td>\n",
       "      <td>Collectible Wines</td>\n",
       "      <td>Penfolds Kalimna Block 42 Cabernet Sauvignon 2004</td>\n",
       "      <td>2004</td>\n",
       "      <td>Barossa Valley</td>\n",
       "      <td>Australia</td>\n",
       "      <td>Cabernet Sauvignon</td>\n",
       "      <td>Penfolds Wines</td>\n",
       "      <td>100</td>\n",
       "      <td>739.0</td>\n",
       "      <td>...</td>\n",
       "      <td>0</td>\n",
       "      <td>0</td>\n",
       "      <td>0</td>\n",
       "      <td>0</td>\n",
       "      <td>0</td>\n",
       "      <td>0</td>\n",
       "      <td>0</td>\n",
       "      <td>0</td>\n",
       "      <td>0</td>\n",
       "      <td>0</td>\n",
       "    </tr>\n",
       "    <tr>\n",
       "      <th>2</th>\n",
       "      <td>82919</td>\n",
       "      <td>Collectible Wines</td>\n",
       "      <td>Quilceda Creek Cabernet Sauvignon 2002</td>\n",
       "      <td>2002</td>\n",
       "      <td>Columbia Valley</td>\n",
       "      <td>Washington</td>\n",
       "      <td>Cabernet Sauvignon</td>\n",
       "      <td>Quilceda Creek Vintners</td>\n",
       "      <td>100</td>\n",
       "      <td>269.0</td>\n",
       "      <td>...</td>\n",
       "      <td>0</td>\n",
       "      <td>0</td>\n",
       "      <td>0</td>\n",
       "      <td>0</td>\n",
       "      <td>0</td>\n",
       "      <td>0</td>\n",
       "      <td>0</td>\n",
       "      <td>0</td>\n",
       "      <td>0</td>\n",
       "      <td>1</td>\n",
       "    </tr>\n",
       "    <tr>\n",
       "      <th>4</th>\n",
       "      <td>87182</td>\n",
       "      <td>Collectible Wines</td>\n",
       "      <td>Quilceda Creek Cabernet Sauvignon 2003</td>\n",
       "      <td>2003</td>\n",
       "      <td>Columbia Valley</td>\n",
       "      <td>Washington</td>\n",
       "      <td>Cabernet Sauvignon</td>\n",
       "      <td>Quilceda Creek Vintners</td>\n",
       "      <td>100</td>\n",
       "      <td>289.0</td>\n",
       "      <td>...</td>\n",
       "      <td>0</td>\n",
       "      <td>0</td>\n",
       "      <td>0</td>\n",
       "      <td>0</td>\n",
       "      <td>0</td>\n",
       "      <td>0</td>\n",
       "      <td>0</td>\n",
       "      <td>0</td>\n",
       "      <td>0</td>\n",
       "      <td>1</td>\n",
       "    </tr>\n",
       "    <tr>\n",
       "      <th>5</th>\n",
       "      <td>137427</td>\n",
       "      <td>Big &amp;amp; Bold</td>\n",
       "      <td>Schrader CCS Beckstoffer To Kalon Cabernet Sau...</td>\n",
       "      <td>2012</td>\n",
       "      <td>Napa Valley</td>\n",
       "      <td>California</td>\n",
       "      <td>Cabernet Sauvignon</td>\n",
       "      <td>Schrader Cellars</td>\n",
       "      <td>100</td>\n",
       "      <td>665.0</td>\n",
       "      <td>...</td>\n",
       "      <td>0</td>\n",
       "      <td>0</td>\n",
       "      <td>0</td>\n",
       "      <td>1</td>\n",
       "      <td>0</td>\n",
       "      <td>0</td>\n",
       "      <td>0</td>\n",
       "      <td>0</td>\n",
       "      <td>0</td>\n",
       "      <td>0</td>\n",
       "    </tr>\n",
       "    <tr>\n",
       "      <th>6</th>\n",
       "      <td>114359</td>\n",
       "      <td>Collectible Wines</td>\n",
       "      <td>Quilceda Creek Cabernet Sauvignon (1.5 Liter M...</td>\n",
       "      <td>2007</td>\n",
       "      <td>Columbia Valley</td>\n",
       "      <td>Washington</td>\n",
       "      <td>Cabernet Sauvignon</td>\n",
       "      <td>Quilceda Creek Vintners</td>\n",
       "      <td>100</td>\n",
       "      <td>599.0</td>\n",
       "      <td>...</td>\n",
       "      <td>0</td>\n",
       "      <td>0</td>\n",
       "      <td>0</td>\n",
       "      <td>0</td>\n",
       "      <td>0</td>\n",
       "      <td>0</td>\n",
       "      <td>0</td>\n",
       "      <td>0</td>\n",
       "      <td>0</td>\n",
       "      <td>1</td>\n",
       "    </tr>\n",
       "  </tbody>\n",
       "</table>\n",
       "<p>5 rows × 32 columns</p>\n",
       "</div>"
      ],
      "text/plain": [
       "       Id         Attributes  \\\n",
       "1  147150  Collectible Wines   \n",
       "2   82919  Collectible Wines   \n",
       "4   87182  Collectible Wines   \n",
       "5  137427     Big &amp; Bold   \n",
       "6  114359  Collectible Wines   \n",
       "\n",
       "                                                Name  Vintage  \\\n",
       "1  Penfolds Kalimna Block 42 Cabernet Sauvignon 2004     2004   \n",
       "2             Quilceda Creek Cabernet Sauvignon 2002     2002   \n",
       "4             Quilceda Creek Cabernet Sauvignon 2003     2003   \n",
       "5  Schrader CCS Beckstoffer To Kalon Cabernet Sau...     2012   \n",
       "6  Quilceda Creek Cabernet Sauvignon (1.5 Liter M...     2007   \n",
       "\n",
       "       Appellation      Region            WineType                 Vineyard  \\\n",
       "1   Barossa Valley   Australia  Cabernet Sauvignon           Penfolds Wines   \n",
       "2  Columbia Valley  Washington  Cabernet Sauvignon  Quilceda Creek Vintners   \n",
       "4  Columbia Valley  Washington  Cabernet Sauvignon  Quilceda Creek Vintners   \n",
       "5      Napa Valley  California  Cabernet Sauvignon         Schrader Cellars   \n",
       "6  Columbia Valley  Washington  Cabernet Sauvignon  Quilceda Creek Vintners   \n",
       "\n",
       "   RatingScore  PriceRetail        ...          Attribute_Rich &amp; Creamy  \\\n",
       "1          100        739.0        ...                                    0   \n",
       "2          100        269.0        ...                                    0   \n",
       "4          100        289.0        ...                                    0   \n",
       "5          100        665.0        ...                                    0   \n",
       "6          100        599.0        ...                                    0   \n",
       "\n",
       "   Attribute_Screw Cap Wines  Attribute_Smooth &amp; Supple  \\\n",
       "1                          0                              0   \n",
       "2                          0                              0   \n",
       "4                          0                              0   \n",
       "5                          0                              0   \n",
       "6                          0                              0   \n",
       "\n",
       "   Region_California  Region_Israel  Region_Italy  Region_South Africa  \\\n",
       "1                  0              0             0                    0   \n",
       "2                  0              0             0                    0   \n",
       "4                  0              0             0                    0   \n",
       "5                  1              0             0                    0   \n",
       "6                  0              0             0                    0   \n",
       "\n",
       "   Region_South America  Region_Spain  Region_Washington  \n",
       "1                     0             0                  0  \n",
       "2                     0             0                  1  \n",
       "4                     0             0                  1  \n",
       "5                     0             0                  0  \n",
       "6                     0             0                  1  \n",
       "\n",
       "[5 rows x 32 columns]"
      ]
     },
     "execution_count": 45,
     "metadata": {},
     "output_type": "execute_result"
    }
   ],
   "source": [
    "#Merge dummies with existing dataframe\n",
    "cab_df2 = pd.concat([cab_df2, attribute_dummies], axis=1)\n",
    "cab_df2 = pd.concat([cab_df2, region_dummies], axis=1)\n",
    "cab_df2.head()"
   ]
  },
  {
   "cell_type": "markdown",
   "metadata": {},
   "source": [
    "### Have a drink! Time to move on to the modeling"
   ]
  },
  {
   "cell_type": "code",
   "execution_count": 46,
   "metadata": {
    "collapsed": true
   },
   "outputs": [],
   "source": [
    "#Export list to csv for backup- it took me awhile to get to this point!\n",
    "cab_df2.to_csv('cablist4.csv', index=False, header=True)"
   ]
  },
  {
   "cell_type": "code",
   "execution_count": null,
   "metadata": {
    "collapsed": true
   },
   "outputs": [],
   "source": []
  }
 ],
 "metadata": {
  "kernelspec": {
   "display_name": "Python 2",
   "language": "python",
   "name": "python2"
  },
  "language_info": {
   "codemirror_mode": {
    "name": "ipython",
    "version": 2
   },
   "file_extension": ".py",
   "mimetype": "text/x-python",
   "name": "python",
   "nbconvert_exporter": "python",
   "pygments_lexer": "ipython2",
   "version": "2.7.13"
  }
 },
 "nbformat": 4,
 "nbformat_minor": 2
}
