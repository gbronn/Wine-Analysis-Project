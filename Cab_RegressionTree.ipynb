{
 "cells": [
  {
   "cell_type": "markdown",
   "metadata": {},
   "source": [
    "## Starting Out 🍷\n",
    "\n",
    "I'm interested in predicting price, and since that is a continuous variable I am going to start with a regression tree model. It's an intuitive model, and rather forgiving of the underlying data distribution, i.e. not having a normal distribution isn't a deal breaker. The problem with trees is that they can grow, learning too much about the training data, and not generalize well to new observations. "
   ]
  },
  {
   "cell_type": "code",
   "execution_count": 1,
   "metadata": {
    "collapsed": true
   },
   "outputs": [],
   "source": [
    "#Standard imports\n",
    "import numpy as np\n",
    "import pandas as pd\n",
    "import matplotlib.pyplot as plt\n",
    "import pylab as pl\n",
    "import seaborn as sns\n",
    "%matplotlib inline\n",
    "\n",
    "cab_df2 = pd.read_csv('./cablist4.csv')\n",
    "cab_df2 = cab_df2[cab_df2.RatingScore != 0]\n",
    "cab_df2 = cab_df2[cab_df2.PriceRetail < 1000.00]"
   ]
  },
  {
   "cell_type": "code",
   "execution_count": 2,
   "metadata": {
    "collapsed": true
   },
   "outputs": [],
   "source": [
    "#Set features & target for modeling\n",
    "features = ['Vintage', 'RatingScore', 'UnqWordInd', 'Attribute_94+ Rated Wine', \\\n",
    "            'Attribute_Boutique Wines', 'Attribute_Business Gifts',\\\n",
    "            'Attribute_Collectible Wines', 'Attribute_Earthy &amp; Spicy', 'Attribute_Great Bottles to Give',\\\n",
    "            'Attribute_Green Wines', 'Attribute_Kosher Wines', 'Attribute_Older Vintages', \\\n",
    "            'Attribute_Private Cellar List', 'Attribute_Rich &amp; Creamy', 'Attribute_Screw Cap Wines', \\\n",
    "            'Attribute_Smooth &amp; Supple', 'Region_California', 'Region_Italy', 'Region_South Africa',\\\n",
    "            'Region_South America', 'Region_Spain', 'Region_Washington']\n",
    "target = ['PriceRetail']"
   ]
  },
  {
   "cell_type": "code",
   "execution_count": 3,
   "metadata": {
    "collapsed": true
   },
   "outputs": [],
   "source": [
    "#Set x & y for model building\n",
    "x = cab_df2[features]\n",
    "y = cab_df2[target]"
   ]
  },
  {
   "cell_type": "code",
   "execution_count": 4,
   "metadata": {
    "collapsed": false
   },
   "outputs": [],
   "source": [
    "# split into train/test sets\n",
    "from sklearn.model_selection import train_test_split\n",
    "x_train, x_test, y_train, y_test = train_test_split(x, y, test_size=.33, random_state=39)"
   ]
  },
  {
   "cell_type": "code",
   "execution_count": 6,
   "metadata": {
    "collapsed": false
   },
   "outputs": [],
   "source": [
    "#Is there an optimal tree depth that will minimize RMSE? Looping through a range of 7 splits \n",
    "from sklearn.tree import DecisionTreeRegressor\n",
    "from sklearn.model_selection import cross_val_score\n",
    "\n",
    "leafs = range(1, 7)\n",
    "v = []\n",
    "for l in leafs:\n",
    "    treereg = DecisionTreeRegressor(max_depth=l, min_samples_leaf=20, random_state=39)\n",
    "    treereg.fit(x_train, y_train)\n",
    "    scores = cross_val_score(treereg, x, y, cv=10, scoring='neg_mean_squared_error')\n",
    "    v.append(np.mean(np.sqrt(-scores)))"
   ]
  },
  {
   "cell_type": "code",
   "execution_count": 7,
   "metadata": {
    "collapsed": false
   },
   "outputs": [
    {
     "name": "stdout",
     "output_type": "stream",
     "text": [
      "5\n"
     ]
    }
   ],
   "source": [
    "#Optimal depth is with 5 branches.\n",
    "val = []\n",
    "for i, j in enumerate(v):\n",
    "    if j == min(v):\n",
    "        val.append(i)\n",
    "        \n",
    "opt_leaf = min(val) + 1\n",
    "print opt_leaf"
   ]
  },
  {
   "cell_type": "code",
   "execution_count": 8,
   "metadata": {
    "collapsed": false
   },
   "outputs": [
    {
     "data": {
      "text/plain": [
       "DecisionTreeRegressor(criterion='mse', max_depth=5, max_features=None,\n",
       "           max_leaf_nodes=None, min_impurity_split=1e-07,\n",
       "           min_samples_leaf=20, min_samples_split=2,\n",
       "           min_weight_fraction_leaf=0.0, presort=False, random_state=39,\n",
       "           splitter='best')"
      ]
     },
     "execution_count": 8,
     "metadata": {},
     "output_type": "execute_result"
    }
   ],
   "source": [
    "#Build 1st model using regression decision tree using the optimized depth input\n",
    "from sklearn.tree import DecisionTreeRegressor\n",
    "treereg = DecisionTreeRegressor(max_depth=5, min_samples_leaf=20, random_state=39)\n",
    "treereg.fit(x_train, y_train)"
   ]
  },
  {
   "cell_type": "code",
   "execution_count": 9,
   "metadata": {
    "collapsed": false
   },
   "outputs": [
    {
     "name": "stdout",
     "output_type": "stream",
     "text": [
      "[  97.58757576   21.17792899  182.69392405   97.31268634   21.17792899\n",
      "  129.30130435  129.30130435   50.80906404   44.75007519  180.93235772]\n",
      "      PriceRetail\n",
      "2522       159.00\n",
      "2121        27.99\n",
      "617         85.00\n",
      "808         79.99\n",
      "2111        18.00\n",
      "235        189.00\n",
      "299         79.99\n",
      "2368        45.00\n",
      "1680        49.99\n",
      "336        149.00\n"
     ]
    }
   ],
   "source": [
    "#Use model to predict test values\n",
    "preds = treereg.predict(x_test)\n",
    "\n",
    "#Comparison of predictions and test values... Some rather large differences\n",
    "print preds[0:10]\n",
    "print y_test[0:10]"
   ]
  },
  {
   "cell_type": "code",
   "execution_count": 10,
   "metadata": {
    "collapsed": false
   },
   "outputs": [
    {
     "data": {
      "text/html": [
       "<div>\n",
       "<style scoped>\n",
       "    .dataframe tbody tr th:only-of-type {\n",
       "        vertical-align: middle;\n",
       "    }\n",
       "\n",
       "    .dataframe tbody tr th {\n",
       "        vertical-align: top;\n",
       "    }\n",
       "\n",
       "    .dataframe thead th {\n",
       "        text-align: right;\n",
       "    }\n",
       "</style>\n",
       "<table border=\"1\" class=\"dataframe\">\n",
       "  <thead>\n",
       "    <tr style=\"text-align: right;\">\n",
       "      <th></th>\n",
       "      <th>feature</th>\n",
       "      <th>importance</th>\n",
       "    </tr>\n",
       "  </thead>\n",
       "  <tbody>\n",
       "    <tr>\n",
       "      <th>0</th>\n",
       "      <td>Vintage</td>\n",
       "      <td>0.062005</td>\n",
       "    </tr>\n",
       "    <tr>\n",
       "      <th>1</th>\n",
       "      <td>RatingScore</td>\n",
       "      <td>0.823285</td>\n",
       "    </tr>\n",
       "    <tr>\n",
       "      <th>2</th>\n",
       "      <td>UnqWordInd</td>\n",
       "      <td>0.000000</td>\n",
       "    </tr>\n",
       "    <tr>\n",
       "      <th>3</th>\n",
       "      <td>Attribute_94+ Rated Wine</td>\n",
       "      <td>0.000000</td>\n",
       "    </tr>\n",
       "    <tr>\n",
       "      <th>4</th>\n",
       "      <td>Attribute_Boutique Wines</td>\n",
       "      <td>0.000000</td>\n",
       "    </tr>\n",
       "    <tr>\n",
       "      <th>5</th>\n",
       "      <td>Attribute_Business Gifts</td>\n",
       "      <td>0.000000</td>\n",
       "    </tr>\n",
       "    <tr>\n",
       "      <th>6</th>\n",
       "      <td>Attribute_Collectible Wines</td>\n",
       "      <td>0.001342</td>\n",
       "    </tr>\n",
       "    <tr>\n",
       "      <th>7</th>\n",
       "      <td>Attribute_Earthy &amp;amp; Spicy</td>\n",
       "      <td>0.000000</td>\n",
       "    </tr>\n",
       "    <tr>\n",
       "      <th>8</th>\n",
       "      <td>Attribute_Great Bottles to Give</td>\n",
       "      <td>0.000000</td>\n",
       "    </tr>\n",
       "    <tr>\n",
       "      <th>9</th>\n",
       "      <td>Attribute_Green Wines</td>\n",
       "      <td>0.000000</td>\n",
       "    </tr>\n",
       "    <tr>\n",
       "      <th>10</th>\n",
       "      <td>Attribute_Kosher Wines</td>\n",
       "      <td>0.000000</td>\n",
       "    </tr>\n",
       "    <tr>\n",
       "      <th>11</th>\n",
       "      <td>Attribute_Older Vintages</td>\n",
       "      <td>0.000000</td>\n",
       "    </tr>\n",
       "    <tr>\n",
       "      <th>12</th>\n",
       "      <td>Attribute_Private Cellar List</td>\n",
       "      <td>0.000000</td>\n",
       "    </tr>\n",
       "    <tr>\n",
       "      <th>13</th>\n",
       "      <td>Attribute_Rich &amp;amp; Creamy</td>\n",
       "      <td>0.000000</td>\n",
       "    </tr>\n",
       "    <tr>\n",
       "      <th>14</th>\n",
       "      <td>Attribute_Screw Cap Wines</td>\n",
       "      <td>0.000000</td>\n",
       "    </tr>\n",
       "    <tr>\n",
       "      <th>15</th>\n",
       "      <td>Attribute_Smooth &amp;amp; Supple</td>\n",
       "      <td>0.000000</td>\n",
       "    </tr>\n",
       "    <tr>\n",
       "      <th>16</th>\n",
       "      <td>Region_California</td>\n",
       "      <td>0.113368</td>\n",
       "    </tr>\n",
       "    <tr>\n",
       "      <th>17</th>\n",
       "      <td>Region_Italy</td>\n",
       "      <td>0.000000</td>\n",
       "    </tr>\n",
       "    <tr>\n",
       "      <th>18</th>\n",
       "      <td>Region_South Africa</td>\n",
       "      <td>0.000000</td>\n",
       "    </tr>\n",
       "    <tr>\n",
       "      <th>19</th>\n",
       "      <td>Region_South America</td>\n",
       "      <td>0.000000</td>\n",
       "    </tr>\n",
       "    <tr>\n",
       "      <th>20</th>\n",
       "      <td>Region_Spain</td>\n",
       "      <td>0.000000</td>\n",
       "    </tr>\n",
       "    <tr>\n",
       "      <th>21</th>\n",
       "      <td>Region_Washington</td>\n",
       "      <td>0.000000</td>\n",
       "    </tr>\n",
       "  </tbody>\n",
       "</table>\n",
       "</div>"
      ],
      "text/plain": [
       "                            feature  importance\n",
       "0                           Vintage    0.062005\n",
       "1                       RatingScore    0.823285\n",
       "2                        UnqWordInd    0.000000\n",
       "3          Attribute_94+ Rated Wine    0.000000\n",
       "4          Attribute_Boutique Wines    0.000000\n",
       "5          Attribute_Business Gifts    0.000000\n",
       "6       Attribute_Collectible Wines    0.001342\n",
       "7      Attribute_Earthy &amp; Spicy    0.000000\n",
       "8   Attribute_Great Bottles to Give    0.000000\n",
       "9             Attribute_Green Wines    0.000000\n",
       "10           Attribute_Kosher Wines    0.000000\n",
       "11         Attribute_Older Vintages    0.000000\n",
       "12    Attribute_Private Cellar List    0.000000\n",
       "13      Attribute_Rich &amp; Creamy    0.000000\n",
       "14        Attribute_Screw Cap Wines    0.000000\n",
       "15    Attribute_Smooth &amp; Supple    0.000000\n",
       "16                Region_California    0.113368\n",
       "17                     Region_Italy    0.000000\n",
       "18              Region_South Africa    0.000000\n",
       "19             Region_South America    0.000000\n",
       "20                     Region_Spain    0.000000\n",
       "21                Region_Washington    0.000000"
      ]
     },
     "execution_count": 10,
     "metadata": {},
     "output_type": "execute_result"
    }
   ],
   "source": [
    "#What are the important features?\n",
    "pd.DataFrame({'feature':features, 'importance':treereg.feature_importances_})"
   ]
  },
  {
   "cell_type": "code",
   "execution_count": 11,
   "metadata": {
    "collapsed": false
   },
   "outputs": [
    {
     "data": {
      "text/plain": [
       "107.96017152647437"
      ]
     },
     "execution_count": 11,
     "metadata": {},
     "output_type": "execute_result"
    }
   ],
   "source": [
    "#RMSE is 108\n",
    "from sklearn import metrics\n",
    "import numpy as np\n",
    "np.sqrt(metrics.mean_squared_error(y_test, preds))"
   ]
  },
  {
   "cell_type": "code",
   "execution_count": 12,
   "metadata": {
    "collapsed": false
   },
   "outputs": [
    {
     "data": {
      "text/plain": [
       "114.29228550565573"
      ]
     },
     "execution_count": 12,
     "metadata": {},
     "output_type": "execute_result"
    }
   ],
   "source": [
    "#Point of comparison... The average wine price in the dataset is $114\n",
    "cab_df2['PriceRetail'].mean()"
   ]
  },
  {
   "cell_type": "code",
   "execution_count": 13,
   "metadata": {
    "collapsed": false
   },
   "outputs": [
    {
     "data": {
      "text/plain": [
       "11655.398636025768"
      ]
     },
     "execution_count": 13,
     "metadata": {},
     "output_type": "execute_result"
    }
   ],
   "source": [
    "metrics.mean_squared_error(y_test, preds)"
   ]
  },
  {
   "cell_type": "code",
   "execution_count": 14,
   "metadata": {
    "collapsed": false
   },
   "outputs": [
    {
     "data": {
      "text/plain": [
       "94.826603456314544"
      ]
     },
     "execution_count": 14,
     "metadata": {},
     "output_type": "execute_result"
    }
   ],
   "source": [
    "#How do the results hold up in cross-validation?\n",
    "from sklearn.model_selection import cross_val_score\n",
    "\n",
    "treereg = DecisionTreeRegressor(max_depth=5, min_samples_leaf=30, random_state=39)\n",
    "treereg.fit(x_train, y_train)\n",
    "scores = cross_val_score(treereg, x, y, cv=10, scoring='neg_mean_squared_error')\n",
    "np.mean(np.sqrt(-scores))"
   ]
  },
  {
   "cell_type": "markdown",
   "metadata": {},
   "source": [
    "### Not a great first pass -- Can this be improved?\n",
    "\n",
    "I'm not happy with the RMSE of the first model. At $108, it's nearly the same as the average price of our wines, indicating a large error. Let's see if it's possible to improve this by first restricting the input variables."
   ]
  },
  {
   "cell_type": "code",
   "execution_count": 15,
   "metadata": {
    "collapsed": true
   },
   "outputs": [],
   "source": [
    "features2 = ['RatingScore', 'UnqWordInd','Attribute_Boutique Wines',\\\n",
    "            'Attribute_Collectible Wines', 'Attribute_Smooth &amp; Supple',\\\n",
    "            'Attribute_Older Vintages','Region_California', 'Region_South America']\n",
    "target = ['PriceRetail']"
   ]
  },
  {
   "cell_type": "code",
   "execution_count": 16,
   "metadata": {
    "collapsed": false
   },
   "outputs": [
    {
     "data": {
      "text/plain": [
       "105.83346432841651"
      ]
     },
     "execution_count": 16,
     "metadata": {},
     "output_type": "execute_result"
    }
   ],
   "source": [
    "x = cab_df2[features2]\n",
    "y = cab_df2[target]\n",
    "\n",
    "x_train, x_test, y_train, y_test = train_test_split(x, y, test_size=.33, random_state=39)\n",
    "\n",
    "treereg = DecisionTreeRegressor(max_depth=5, min_samples_leaf=20, random_state=39)\n",
    "treereg.fit(x_train, y_train)\n",
    "\n",
    "preds = treereg.predict(x_test)\n",
    "np.sqrt(metrics.mean_squared_error(y_test, preds))\n"
   ]
  },
  {
   "cell_type": "code",
   "execution_count": 17,
   "metadata": {
    "collapsed": false
   },
   "outputs": [
    {
     "data": {
      "text/plain": [
       "98.074115157610294"
      ]
     },
     "execution_count": 17,
     "metadata": {},
     "output_type": "execute_result"
    }
   ],
   "source": [
    "treereg = DecisionTreeRegressor(max_depth=3, min_samples_leaf=20, random_state=39)\n",
    "treereg.fit(x_train, y_train)\n",
    "scores = cross_val_score(treereg, x, y, cv=10, scoring='neg_mean_squared_error')\n",
    "np.mean(np.sqrt(-scores))"
   ]
  },
  {
   "cell_type": "markdown",
   "metadata": {},
   "source": [
    "### Will a Forest be better than the tree?\n",
    "Restricting the features didn't do much to improve the results, so I'm going to see a random forest regression model does better. I'm going to run 100 trees and see if this improves the predictions. "
   ]
  },
  {
   "cell_type": "code",
   "execution_count": 47,
   "metadata": {
    "collapsed": false
   },
   "outputs": [
    {
     "name": "stderr",
     "output_type": "stream",
     "text": [
      "/Users/gregorybronn/anaconda/lib/python2.7/site-packages/ipykernel/__main__.py:8: DataConversionWarning: A column-vector y was passed when a 1d array was expected. Please change the shape of y to (n_samples,), for example using ravel().\n"
     ]
    },
    {
     "data": {
      "text/plain": [
       "105.53493632018667"
      ]
     },
     "execution_count": 47,
     "metadata": {},
     "output_type": "execute_result"
    }
   ],
   "source": [
    "x = cab_df2[features]\n",
    "y = cab_df2[target]\n",
    "\n",
    "x_train, x_test, y_train, y_test = train_test_split(x, y, test_size=.33, random_state=39)\n",
    "\n",
    "from sklearn.ensemble import RandomForestRegressor\n",
    "regr = RandomForestRegressor(n_estimators = 100, max_depth=5, min_samples_leaf=20, random_state=39)\n",
    "regr.fit(x_train, y_train)\n",
    "\n",
    "preds = regr.predict(x_test)\n",
    "np.sqrt(metrics.mean_squared_error(y_test, preds))"
   ]
  },
  {
   "cell_type": "code",
   "execution_count": 48,
   "metadata": {
    "collapsed": false
   },
   "outputs": [
    {
     "data": {
      "text/plain": [
       "91.840075438925169"
      ]
     },
     "execution_count": 48,
     "metadata": {},
     "output_type": "execute_result"
    }
   ],
   "source": [
    "scores = cross_val_score(regr, x, y, cv=10, scoring='neg_mean_squared_error')\n",
    "np.mean(np.sqrt(-scores))"
   ]
  },
  {
   "cell_type": "markdown",
   "metadata": {},
   "source": []
  },
  {
   "cell_type": "markdown",
   "metadata": {},
   "source": [
    "### Should outliers be further scrubbed?\n",
    "\n",
    "RMSE barely improves after restricting features. There may be too many wines with high prices that are confusing the model. What happens if the dataset is further restricted to prices < $360? This will capture all wines within 2 standard deviations of the average price."
   ]
  },
  {
   "cell_type": "code",
   "execution_count": 20,
   "metadata": {
    "collapsed": true
   },
   "outputs": [],
   "source": [
    "cab_df3 = cab_df2[cab_df2.PriceRetail < 360.00]"
   ]
  },
  {
   "cell_type": "code",
   "execution_count": 22,
   "metadata": {
    "collapsed": false
   },
   "outputs": [
    {
     "data": {
      "text/plain": [
       "52.198965202916682"
      ]
     },
     "execution_count": 22,
     "metadata": {},
     "output_type": "execute_result"
    }
   ],
   "source": [
    "x = cab_df3[features]\n",
    "y = cab_df3[target]\n",
    "\n",
    "x_train, x_test, y_train, y_test = train_test_split(x, y, test_size=.33, random_state=39)\n",
    "\n",
    "treereg = DecisionTreeRegressor(max_depth=5, min_samples_leaf=20, random_state=39)\n",
    "treereg.fit(x_train, y_train)\n",
    "\n",
    "preds = treereg.predict(x_test)\n",
    "np.sqrt(metrics.mean_squared_error(y_test, preds))"
   ]
  },
  {
   "cell_type": "code",
   "execution_count": 23,
   "metadata": {
    "collapsed": false
   },
   "outputs": [
    {
     "data": {
      "text/plain": [
       "55.533368543596019"
      ]
     },
     "execution_count": 23,
     "metadata": {},
     "output_type": "execute_result"
    }
   ],
   "source": [
    "treereg = DecisionTreeRegressor(max_depth=5, min_samples_leaf=20, random_state=39)\n",
    "treereg.fit(x_train, y_train)\n",
    "scores = cross_val_score(treereg, x, y, cv=10, scoring='neg_mean_squared_error')\n",
    "np.mean(np.sqrt(-scores))"
   ]
  },
  {
   "cell_type": "markdown",
   "metadata": {},
   "source": [
    "### Getting closer -- Trying the Forest model again.\n",
    "\n",
    "RMSE has improved considerably, but 52 is still a large error. I'm going to rerun the random forest model and see if the error can be further minimized."
   ]
  },
  {
   "cell_type": "code",
   "execution_count": 42,
   "metadata": {
    "collapsed": false
   },
   "outputs": [
    {
     "name": "stderr",
     "output_type": "stream",
     "text": [
      "/Users/gregorybronn/anaconda/lib/python2.7/site-packages/ipykernel/__main__.py:8: DataConversionWarning: A column-vector y was passed when a 1d array was expected. Please change the shape of y to (n_samples,), for example using ravel().\n"
     ]
    }
   ],
   "source": [
    "x = cab_df3[features]\n",
    "y = cab_df3[target]\n",
    "\n",
    "x_train, x_test, y_train, y_test = train_test_split(x, y, test_size=.33, random_state=39)\n",
    "\n",
    "from sklearn.ensemble import RandomForestRegressor\n",
    "regr = RandomForestRegressor(n_estimators = 100, max_depth=5, min_samples_leaf=20, random_state=39)\n",
    "regr.fit(x_train, y_train)\n",
    "\n",
    "preds = regr.predict(x_test)\n",
    "rmse = np.sqrt(metrics.mean_squared_error(y_test, preds))"
   ]
  },
  {
   "cell_type": "code",
   "execution_count": 43,
   "metadata": {
    "collapsed": false
   },
   "outputs": [],
   "source": [
    "scores = cross_val_score(regr, x, y, cv=10, scoring='neg_mean_squared_error')\n",
    "cv_rmse = np.mean(np.sqrt(-scores))"
   ]
  },
  {
   "cell_type": "code",
   "execution_count": 44,
   "metadata": {
    "collapsed": false
   },
   "outputs": [
    {
     "name": "stdout",
     "output_type": "stream",
     "text": [
      "RMSE is:                      50.942754973664691\n",
      "Cross-Validation Avg RMSE is: 55.206403711971802\n",
      "Avg Price is:                 92.04570273392119\n",
      "Error to Price Ratio is:      0.55345066049336578\n"
     ]
    }
   ],
   "source": [
    "avgPrice = cab_df3['PriceRetail'].mean()\n",
    "err = rmse/avgPrice\n",
    "\n",
    "print 'RMSE is:                      %r' %rmse\n",
    "print 'Cross-Validation Avg RMSE is: %r' %cv_rmse\n",
    "print 'Avg Price is:                 %r' %avgPrice\n",
    "print 'Error to Price Ratio is:      %r' %err"
   ]
  },
  {
   "cell_type": "markdown",
   "metadata": {},
   "source": [
    "## Discussion\n",
    "\n",
    "The results fall short of what I was hoping for, and we have not been able to prove that we're able to forecast the price of wine with an error of less than 30% of the average price. As of yet, I have not been able to disprove the null hypothesis and will try another approach using linear regression to see if this improves the accuracy."
   ]
  },
  {
   "cell_type": "code",
   "execution_count": null,
   "metadata": {
    "collapsed": true
   },
   "outputs": [],
   "source": []
  }
 ],
 "metadata": {
  "kernelspec": {
   "display_name": "Python 2",
   "language": "python",
   "name": "python2"
  },
  "language_info": {
   "codemirror_mode": {
    "name": "ipython",
    "version": 2
   },
   "file_extension": ".py",
   "mimetype": "text/x-python",
   "name": "python",
   "nbconvert_exporter": "python",
   "pygments_lexer": "ipython2",
   "version": "2.7.13"
  }
 },
 "nbformat": 4,
 "nbformat_minor": 0
}
