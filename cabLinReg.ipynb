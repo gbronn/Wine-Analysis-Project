{
 "cells": [
  {
   "cell_type": "markdown",
   "metadata": {},
   "source": [
    "## Models and Bottles \n",
    "\n",
    "I'm going to start by trying to predict the price of a bottle of cabernet based on the features from the wine.com data. Because price is a continuous variable, I'm going to start with a linear model. Although there are a number of underlying assumptions with these models, they are intuitive and easy to interpret. Independence, normal distributions and linear relationships between explanatory and target variables are key assumptions. The statsmodels package has some good tools for building these models, so I'll make use of it."
   ]
  },
  {
   "cell_type": "code",
   "execution_count": 1,
   "metadata": {
    "collapsed": false
   },
   "outputs": [
    {
     "name": "stderr",
     "output_type": "stream",
     "text": [
      "/Users/gregorybronn/anaconda/lib/python2.7/site-packages/statsmodels/compat/pandas.py:56: FutureWarning: The pandas.core.datetools module is deprecated and will be removed in a future version. Please use the pandas.tseries module instead.\n",
      "  from pandas.core import datetools\n"
     ]
    }
   ],
   "source": [
    "#Standard imports\n",
    "import numpy as np\n",
    "import pandas as pd\n",
    "import matplotlib.pyplot as plt\n",
    "import pylab as pl\n",
    "import seaborn as sns\n",
    "import statsmodels.api as sm\n",
    "%matplotlib inline\n",
    "\n",
    "cab_df2 = pd.read_csv('./cablist4.csv')\n",
    "cab_df2['intercept'] = 1.0"
   ]
  },
  {
   "cell_type": "code",
   "execution_count": 2,
   "metadata": {
    "collapsed": false
   },
   "outputs": [
    {
     "data": {
      "text/html": [
       "<div>\n",
       "<style scoped>\n",
       "    .dataframe tbody tr th:only-of-type {\n",
       "        vertical-align: middle;\n",
       "    }\n",
       "\n",
       "    .dataframe tbody tr th {\n",
       "        vertical-align: top;\n",
       "    }\n",
       "\n",
       "    .dataframe thead th {\n",
       "        text-align: right;\n",
       "    }\n",
       "</style>\n",
       "<table border=\"1\" class=\"dataframe\">\n",
       "  <thead>\n",
       "    <tr style=\"text-align: right;\">\n",
       "      <th></th>\n",
       "      <th>Id</th>\n",
       "      <th>Vintage</th>\n",
       "      <th>RatingScore</th>\n",
       "      <th>PriceRetail</th>\n",
       "      <th>UnqWordInd</th>\n",
       "      <th>Attribute_94+ Rated Wine</th>\n",
       "      <th>Attribute_Big &amp;amp; Bold</th>\n",
       "      <th>Attribute_Boutique Wines</th>\n",
       "      <th>Attribute_Business Gifts</th>\n",
       "      <th>Attribute_Collectible Wines</th>\n",
       "      <th>...</th>\n",
       "      <th>Attribute_Screw Cap Wines</th>\n",
       "      <th>Attribute_Smooth &amp;amp; Supple</th>\n",
       "      <th>Region_California</th>\n",
       "      <th>Region_Israel</th>\n",
       "      <th>Region_Italy</th>\n",
       "      <th>Region_South Africa</th>\n",
       "      <th>Region_South America</th>\n",
       "      <th>Region_Spain</th>\n",
       "      <th>Region_Washington</th>\n",
       "      <th>intercept</th>\n",
       "    </tr>\n",
       "  </thead>\n",
       "  <tbody>\n",
       "    <tr>\n",
       "      <th>count</th>\n",
       "      <td>2739.000000</td>\n",
       "      <td>2739.000000</td>\n",
       "      <td>2739.000000</td>\n",
       "      <td>2739.000000</td>\n",
       "      <td>2739.000000</td>\n",
       "      <td>2739.000000</td>\n",
       "      <td>2739.000000</td>\n",
       "      <td>2739.000000</td>\n",
       "      <td>2739.000000</td>\n",
       "      <td>2739.000000</td>\n",
       "      <td>...</td>\n",
       "      <td>2739.000000</td>\n",
       "      <td>2739.000000</td>\n",
       "      <td>2739.000000</td>\n",
       "      <td>2739.000000</td>\n",
       "      <td>2739.000000</td>\n",
       "      <td>2739.000000</td>\n",
       "      <td>2739.000000</td>\n",
       "      <td>2739.000000</td>\n",
       "      <td>2739.000000</td>\n",
       "      <td>2739.0</td>\n",
       "    </tr>\n",
       "    <tr>\n",
       "      <th>mean</th>\n",
       "      <td>112412.600949</td>\n",
       "      <td>2005.779116</td>\n",
       "      <td>93.040891</td>\n",
       "      <td>114.292286</td>\n",
       "      <td>0.217598</td>\n",
       "      <td>0.000365</td>\n",
       "      <td>0.421687</td>\n",
       "      <td>0.047463</td>\n",
       "      <td>0.000730</td>\n",
       "      <td>0.338810</td>\n",
       "      <td>...</td>\n",
       "      <td>0.028478</td>\n",
       "      <td>0.098941</td>\n",
       "      <td>0.749544</td>\n",
       "      <td>0.001460</td>\n",
       "      <td>0.005476</td>\n",
       "      <td>0.007667</td>\n",
       "      <td>0.074480</td>\n",
       "      <td>0.003651</td>\n",
       "      <td>0.073750</td>\n",
       "      <td>1.0</td>\n",
       "    </tr>\n",
       "    <tr>\n",
       "      <th>std</th>\n",
       "      <td>25939.233217</td>\n",
       "      <td>5.289617</td>\n",
       "      <td>2.461198</td>\n",
       "      <td>123.222508</td>\n",
       "      <td>0.412688</td>\n",
       "      <td>0.019108</td>\n",
       "      <td>0.493919</td>\n",
       "      <td>0.212665</td>\n",
       "      <td>0.027017</td>\n",
       "      <td>0.473392</td>\n",
       "      <td>...</td>\n",
       "      <td>0.166363</td>\n",
       "      <td>0.298638</td>\n",
       "      <td>0.433355</td>\n",
       "      <td>0.038194</td>\n",
       "      <td>0.073814</td>\n",
       "      <td>0.087241</td>\n",
       "      <td>0.262598</td>\n",
       "      <td>0.060324</td>\n",
       "      <td>0.261411</td>\n",
       "      <td>0.0</td>\n",
       "    </tr>\n",
       "    <tr>\n",
       "      <th>min</th>\n",
       "      <td>316.000000</td>\n",
       "      <td>1978.000000</td>\n",
       "      <td>89.000000</td>\n",
       "      <td>7.990000</td>\n",
       "      <td>0.000000</td>\n",
       "      <td>0.000000</td>\n",
       "      <td>0.000000</td>\n",
       "      <td>0.000000</td>\n",
       "      <td>0.000000</td>\n",
       "      <td>0.000000</td>\n",
       "      <td>...</td>\n",
       "      <td>0.000000</td>\n",
       "      <td>0.000000</td>\n",
       "      <td>0.000000</td>\n",
       "      <td>0.000000</td>\n",
       "      <td>0.000000</td>\n",
       "      <td>0.000000</td>\n",
       "      <td>0.000000</td>\n",
       "      <td>0.000000</td>\n",
       "      <td>0.000000</td>\n",
       "      <td>1.0</td>\n",
       "    </tr>\n",
       "    <tr>\n",
       "      <th>25%</th>\n",
       "      <td>102982.000000</td>\n",
       "      <td>2004.000000</td>\n",
       "      <td>91.000000</td>\n",
       "      <td>41.990000</td>\n",
       "      <td>0.000000</td>\n",
       "      <td>0.000000</td>\n",
       "      <td>0.000000</td>\n",
       "      <td>0.000000</td>\n",
       "      <td>0.000000</td>\n",
       "      <td>0.000000</td>\n",
       "      <td>...</td>\n",
       "      <td>0.000000</td>\n",
       "      <td>0.000000</td>\n",
       "      <td>0.000000</td>\n",
       "      <td>0.000000</td>\n",
       "      <td>0.000000</td>\n",
       "      <td>0.000000</td>\n",
       "      <td>0.000000</td>\n",
       "      <td>0.000000</td>\n",
       "      <td>0.000000</td>\n",
       "      <td>1.0</td>\n",
       "    </tr>\n",
       "    <tr>\n",
       "      <th>50%</th>\n",
       "      <td>117430.000000</td>\n",
       "      <td>2007.000000</td>\n",
       "      <td>93.000000</td>\n",
       "      <td>76.990000</td>\n",
       "      <td>0.000000</td>\n",
       "      <td>0.000000</td>\n",
       "      <td>0.000000</td>\n",
       "      <td>0.000000</td>\n",
       "      <td>0.000000</td>\n",
       "      <td>0.000000</td>\n",
       "      <td>...</td>\n",
       "      <td>0.000000</td>\n",
       "      <td>0.000000</td>\n",
       "      <td>1.000000</td>\n",
       "      <td>0.000000</td>\n",
       "      <td>0.000000</td>\n",
       "      <td>0.000000</td>\n",
       "      <td>0.000000</td>\n",
       "      <td>0.000000</td>\n",
       "      <td>0.000000</td>\n",
       "      <td>1.0</td>\n",
       "    </tr>\n",
       "    <tr>\n",
       "      <th>75%</th>\n",
       "      <td>129752.500000</td>\n",
       "      <td>2009.000000</td>\n",
       "      <td>95.000000</td>\n",
       "      <td>135.000000</td>\n",
       "      <td>0.000000</td>\n",
       "      <td>0.000000</td>\n",
       "      <td>1.000000</td>\n",
       "      <td>0.000000</td>\n",
       "      <td>0.000000</td>\n",
       "      <td>1.000000</td>\n",
       "      <td>...</td>\n",
       "      <td>0.000000</td>\n",
       "      <td>0.000000</td>\n",
       "      <td>1.000000</td>\n",
       "      <td>0.000000</td>\n",
       "      <td>0.000000</td>\n",
       "      <td>0.000000</td>\n",
       "      <td>0.000000</td>\n",
       "      <td>0.000000</td>\n",
       "      <td>0.000000</td>\n",
       "      <td>1.0</td>\n",
       "    </tr>\n",
       "    <tr>\n",
       "      <th>max</th>\n",
       "      <td>148089.000000</td>\n",
       "      <td>2014.000000</td>\n",
       "      <td>100.000000</td>\n",
       "      <td>999.000000</td>\n",
       "      <td>1.000000</td>\n",
       "      <td>1.000000</td>\n",
       "      <td>1.000000</td>\n",
       "      <td>1.000000</td>\n",
       "      <td>1.000000</td>\n",
       "      <td>1.000000</td>\n",
       "      <td>...</td>\n",
       "      <td>1.000000</td>\n",
       "      <td>1.000000</td>\n",
       "      <td>1.000000</td>\n",
       "      <td>1.000000</td>\n",
       "      <td>1.000000</td>\n",
       "      <td>1.000000</td>\n",
       "      <td>1.000000</td>\n",
       "      <td>1.000000</td>\n",
       "      <td>1.000000</td>\n",
       "      <td>1.0</td>\n",
       "    </tr>\n",
       "  </tbody>\n",
       "</table>\n",
       "<p>8 rows × 27 columns</p>\n",
       "</div>"
      ],
      "text/plain": [
       "                  Id      Vintage  RatingScore  PriceRetail   UnqWordInd  \\\n",
       "count    2739.000000  2739.000000  2739.000000  2739.000000  2739.000000   \n",
       "mean   112412.600949  2005.779116    93.040891   114.292286     0.217598   \n",
       "std     25939.233217     5.289617     2.461198   123.222508     0.412688   \n",
       "min       316.000000  1978.000000    89.000000     7.990000     0.000000   \n",
       "25%    102982.000000  2004.000000    91.000000    41.990000     0.000000   \n",
       "50%    117430.000000  2007.000000    93.000000    76.990000     0.000000   \n",
       "75%    129752.500000  2009.000000    95.000000   135.000000     0.000000   \n",
       "max    148089.000000  2014.000000   100.000000   999.000000     1.000000   \n",
       "\n",
       "       Attribute_94+ Rated Wine  Attribute_Big &amp; Bold  \\\n",
       "count               2739.000000               2739.000000   \n",
       "mean                   0.000365                  0.421687   \n",
       "std                    0.019108                  0.493919   \n",
       "min                    0.000000                  0.000000   \n",
       "25%                    0.000000                  0.000000   \n",
       "50%                    0.000000                  0.000000   \n",
       "75%                    0.000000                  1.000000   \n",
       "max                    1.000000                  1.000000   \n",
       "\n",
       "       Attribute_Boutique Wines  Attribute_Business Gifts  \\\n",
       "count               2739.000000               2739.000000   \n",
       "mean                   0.047463                  0.000730   \n",
       "std                    0.212665                  0.027017   \n",
       "min                    0.000000                  0.000000   \n",
       "25%                    0.000000                  0.000000   \n",
       "50%                    0.000000                  0.000000   \n",
       "75%                    0.000000                  0.000000   \n",
       "max                    1.000000                  1.000000   \n",
       "\n",
       "       Attribute_Collectible Wines    ...      Attribute_Screw Cap Wines  \\\n",
       "count                  2739.000000    ...                    2739.000000   \n",
       "mean                      0.338810    ...                       0.028478   \n",
       "std                       0.473392    ...                       0.166363   \n",
       "min                       0.000000    ...                       0.000000   \n",
       "25%                       0.000000    ...                       0.000000   \n",
       "50%                       0.000000    ...                       0.000000   \n",
       "75%                       1.000000    ...                       0.000000   \n",
       "max                       1.000000    ...                       1.000000   \n",
       "\n",
       "       Attribute_Smooth &amp; Supple  Region_California  Region_Israel  \\\n",
       "count                    2739.000000        2739.000000    2739.000000   \n",
       "mean                        0.098941           0.749544       0.001460   \n",
       "std                         0.298638           0.433355       0.038194   \n",
       "min                         0.000000           0.000000       0.000000   \n",
       "25%                         0.000000           0.000000       0.000000   \n",
       "50%                         0.000000           1.000000       0.000000   \n",
       "75%                         0.000000           1.000000       0.000000   \n",
       "max                         1.000000           1.000000       1.000000   \n",
       "\n",
       "       Region_Italy  Region_South Africa  Region_South America  Region_Spain  \\\n",
       "count   2739.000000          2739.000000           2739.000000   2739.000000   \n",
       "mean       0.005476             0.007667              0.074480      0.003651   \n",
       "std        0.073814             0.087241              0.262598      0.060324   \n",
       "min        0.000000             0.000000              0.000000      0.000000   \n",
       "25%        0.000000             0.000000              0.000000      0.000000   \n",
       "50%        0.000000             0.000000              0.000000      0.000000   \n",
       "75%        0.000000             0.000000              0.000000      0.000000   \n",
       "max        1.000000             1.000000              1.000000      1.000000   \n",
       "\n",
       "       Region_Washington  intercept  \n",
       "count        2739.000000     2739.0  \n",
       "mean            0.073750        1.0  \n",
       "std             0.261411        0.0  \n",
       "min             0.000000        1.0  \n",
       "25%             0.000000        1.0  \n",
       "50%             0.000000        1.0  \n",
       "75%             0.000000        1.0  \n",
       "max             1.000000        1.0  \n",
       "\n",
       "[8 rows x 27 columns]"
      ]
     },
     "execution_count": 2,
     "metadata": {},
     "output_type": "execute_result"
    }
   ],
   "source": [
    "cab_df2.describe()"
   ]
  },
  {
   "cell_type": "code",
   "execution_count": 3,
   "metadata": {
    "collapsed": true
   },
   "outputs": [],
   "source": [
    "features = ['Vintage', 'RatingScore', 'UnqWordInd', 'Attribute_94+ Rated Wine', \\\n",
    "            'Attribute_Boutique Wines', 'Attribute_Business Gifts',\\\n",
    "            'Attribute_Collectible Wines', 'Attribute_Earthy &amp; Spicy', 'Attribute_Great Bottles to Give',\\\n",
    "            'Attribute_Green Wines', 'Attribute_Kosher Wines', 'Attribute_Older Vintages', \\\n",
    "            'Attribute_Private Cellar List', 'Attribute_Rich &amp; Creamy', 'Attribute_Screw Cap Wines', \\\n",
    "            'Attribute_Smooth &amp; Supple', 'Region_California', 'Region_Italy', 'Region_South Africa',\\\n",
    "            'Region_South America', 'Region_Spain', 'Region_Washington', 'intercept']\n",
    "target = ['PriceRetail']"
   ]
  },
  {
   "cell_type": "markdown",
   "metadata": {},
   "source": [
    "### Trimming the variables\n",
    "\n",
    "I have a lot of features, so I'm going to inspect the correlations and find the best ones for use in building my model."
   ]
  },
  {
   "cell_type": "code",
   "execution_count": 4,
   "metadata": {
    "collapsed": false
   },
   "outputs": [
    {
     "data": {
      "text/plain": [
       "Vintage                           -0.200514\n",
       "Region_South America              -0.198796\n",
       "Attribute_Smooth &amp; Supple     -0.194388\n",
       "Attribute_Screw Cap Wines         -0.119089\n",
       "Attribute_Big &amp; Bold          -0.105921\n",
       "Attribute_Earthy &amp; Spicy      -0.096072\n",
       "Attribute_Green Wines             -0.069350\n",
       "Region_South Africa               -0.058396\n",
       "Region_Italy                      -0.045563\n",
       "Region_Washington                 -0.033368\n",
       "Region_Israel                     -0.027953\n",
       "Region_Spain                      -0.026187\n",
       "Attribute_Kosher Wines            -0.016313\n",
       "Attribute_Rich &amp; Creamy       -0.015094\n",
       "Attribute_Private Cellar List     -0.003355\n",
       "Attribute_94+ Rated Wine          -0.002219\n",
       "Attribute_Business Gifts           0.000046\n",
       "Attribute_Older Vintages           0.008058\n",
       "Attribute_Great Bottles to Give    0.014415\n",
       "Id                                 0.065825\n",
       "Attribute_Boutique Wines           0.105710\n",
       "UnqWordInd                         0.157739\n",
       "Region_California                  0.268798\n",
       "Attribute_Collectible Wines        0.275653\n",
       "RatingScore                        0.570406\n",
       "PriceRetail                        1.000000\n",
       "intercept                               NaN\n",
       "Name: PriceRetail, dtype: float64"
      ]
     },
     "execution_count": 4,
     "metadata": {},
     "output_type": "execute_result"
    }
   ],
   "source": [
    "cab_df2.corr()['PriceRetail'].sort_values()"
   ]
  },
  {
   "cell_type": "code",
   "execution_count": 5,
   "metadata": {
    "collapsed": false
   },
   "outputs": [
    {
     "data": {
      "text/plain": [
       "<matplotlib.axes._subplots.AxesSubplot at 0x112f00cd0>"
      ]
     },
     "execution_count": 5,
     "metadata": {},
     "output_type": "execute_result"
    },
    {
     "data": {
      "image/png": "[encoded data removed]",
      "text/plain": [
       "<matplotlib.figure.Figure at 0x112ef7f10>"
      ]
     },
     "metadata": {},
     "output_type": "display_data"
    }
   ],
   "source": [
    "fig, ax = plt.subplots(figsize=(10,10))\n",
    "sns.heatmap(cab_df2.corr(), cmap='coolwarm')"
   ]
  },
  {
   "cell_type": "code",
   "execution_count": 6,
   "metadata": {
    "collapsed": false
   },
   "outputs": [
    {
     "name": "stderr",
     "output_type": "stream",
     "text": [
      "/Users/gregorybronn/anaconda/lib/python2.7/site-packages/sklearn/feature_selection/univariate_selection.py:113: UserWarning: Features [22] are constant.\n",
      "  UserWarning)\n",
      "/Users/gregorybronn/anaconda/lib/python2.7/site-packages/sklearn/feature_selection/univariate_selection.py:114: RuntimeWarning: invalid value encountered in divide\n",
      "  f = msb / msw\n"
     ]
    },
    {
     "data": {
      "text/plain": [
       "['Vintage',\n",
       " 'RatingScore',\n",
       " 'Attribute_Collectible Wines',\n",
       " 'Attribute_Kosher Wines',\n",
       " 'Region_California',\n",
       " 'Region_South America']"
      ]
     },
     "execution_count": 6,
     "metadata": {},
     "output_type": "execute_result"
    }
   ],
   "source": [
    "from sklearn.feature_selection import SelectKBest, SelectPercentile\n",
    "from sklearn.feature_selection import chi2\n",
    "\n",
    "X = cab_df2[features]\n",
    "y = cab_df2.PriceRetail.values\n",
    "\n",
    "selector = SelectPercentile(percentile=25)\n",
    "selector.fit(X,y)\n",
    "\n",
    "idxs_selected = selector.get_support(indices=True)\n",
    "\n",
    "new_feats = []\n",
    "for i in idxs_selected:\n",
    "    new_feats.append(features[i])\n",
    "    \n",
    "new_feats"
   ]
  },
  {
   "cell_type": "code",
   "execution_count": 7,
   "metadata": {
    "collapsed": false
   },
   "outputs": [],
   "source": [
    "x = cab_df2[new_feats]\n",
    "y = cab_df2[target]\n",
    "\n",
    "#Split into train/test sets\n",
    "from sklearn.model_selection import train_test_split\n",
    "x_train, x_test, y_train, y_test = train_test_split(x, y, test_size=.33, random_state=39)"
   ]
  },
  {
   "cell_type": "code",
   "execution_count": 8,
   "metadata": {
    "collapsed": false
   },
   "outputs": [
    {
     "data": {
      "text/html": [
       "<div>\n",
       "<style scoped>\n",
       "    .dataframe tbody tr th:only-of-type {\n",
       "        vertical-align: middle;\n",
       "    }\n",
       "\n",
       "    .dataframe tbody tr th {\n",
       "        vertical-align: top;\n",
       "    }\n",
       "\n",
       "    .dataframe thead th {\n",
       "        text-align: right;\n",
       "    }\n",
       "</style>\n",
       "<table border=\"1\" class=\"dataframe\">\n",
       "  <thead>\n",
       "    <tr style=\"text-align: right;\">\n",
       "      <th></th>\n",
       "      <th>Vintage</th>\n",
       "      <th>RatingScore</th>\n",
       "      <th>Attribute_Collectible Wines</th>\n",
       "      <th>Attribute_Kosher Wines</th>\n",
       "      <th>Region_California</th>\n",
       "      <th>Region_South America</th>\n",
       "    </tr>\n",
       "  </thead>\n",
       "  <tbody>\n",
       "    <tr>\n",
       "      <th>2020</th>\n",
       "      <td>2004</td>\n",
       "      <td>92</td>\n",
       "      <td>0</td>\n",
       "      <td>0</td>\n",
       "      <td>0</td>\n",
       "      <td>0</td>\n",
       "    </tr>\n",
       "    <tr>\n",
       "      <th>1035</th>\n",
       "      <td>2007</td>\n",
       "      <td>94</td>\n",
       "      <td>1</td>\n",
       "      <td>0</td>\n",
       "      <td>1</td>\n",
       "      <td>0</td>\n",
       "    </tr>\n",
       "    <tr>\n",
       "      <th>335</th>\n",
       "      <td>2008</td>\n",
       "      <td>96</td>\n",
       "      <td>1</td>\n",
       "      <td>0</td>\n",
       "      <td>1</td>\n",
       "      <td>0</td>\n",
       "    </tr>\n",
       "    <tr>\n",
       "      <th>321</th>\n",
       "      <td>1997</td>\n",
       "      <td>96</td>\n",
       "      <td>1</td>\n",
       "      <td>0</td>\n",
       "      <td>1</td>\n",
       "      <td>0</td>\n",
       "    </tr>\n",
       "    <tr>\n",
       "      <th>560</th>\n",
       "      <td>2007</td>\n",
       "      <td>95</td>\n",
       "      <td>0</td>\n",
       "      <td>0</td>\n",
       "      <td>1</td>\n",
       "      <td>0</td>\n",
       "    </tr>\n",
       "  </tbody>\n",
       "</table>\n",
       "</div>"
      ],
      "text/plain": [
       "      Vintage  RatingScore  Attribute_Collectible Wines  \\\n",
       "2020     2004           92                            0   \n",
       "1035     2007           94                            1   \n",
       "335      2008           96                            1   \n",
       "321      1997           96                            1   \n",
       "560      2007           95                            0   \n",
       "\n",
       "      Attribute_Kosher Wines  Region_California  Region_South America  \n",
       "2020                       0                  0                     0  \n",
       "1035                       0                  1                     0  \n",
       "335                        0                  1                     0  \n",
       "321                        0                  1                     0  \n",
       "560                        0                  1                     0  "
      ]
     },
     "execution_count": 8,
     "metadata": {},
     "output_type": "execute_result"
    }
   ],
   "source": [
    "x_train.head()"
   ]
  },
  {
   "cell_type": "code",
   "execution_count": 9,
   "metadata": {
    "collapsed": false
   },
   "outputs": [
    {
     "data": {
      "text/html": [
       "<div>\n",
       "<style scoped>\n",
       "    .dataframe tbody tr th:only-of-type {\n",
       "        vertical-align: middle;\n",
       "    }\n",
       "\n",
       "    .dataframe tbody tr th {\n",
       "        vertical-align: top;\n",
       "    }\n",
       "\n",
       "    .dataframe thead th {\n",
       "        text-align: right;\n",
       "    }\n",
       "</style>\n",
       "<table border=\"1\" class=\"dataframe\">\n",
       "  <thead>\n",
       "    <tr style=\"text-align: right;\">\n",
       "      <th></th>\n",
       "      <th>PriceRetail</th>\n",
       "    </tr>\n",
       "  </thead>\n",
       "  <tbody>\n",
       "    <tr>\n",
       "      <th>2020</th>\n",
       "      <td>57.99</td>\n",
       "    </tr>\n",
       "    <tr>\n",
       "      <th>1035</th>\n",
       "      <td>209.00</td>\n",
       "    </tr>\n",
       "    <tr>\n",
       "      <th>335</th>\n",
       "      <td>195.00</td>\n",
       "    </tr>\n",
       "    <tr>\n",
       "      <th>321</th>\n",
       "      <td>239.00</td>\n",
       "    </tr>\n",
       "    <tr>\n",
       "      <th>560</th>\n",
       "      <td>129.00</td>\n",
       "    </tr>\n",
       "  </tbody>\n",
       "</table>\n",
       "</div>"
      ],
      "text/plain": [
       "      PriceRetail\n",
       "2020        57.99\n",
       "1035       209.00\n",
       "335        195.00\n",
       "321        239.00\n",
       "560        129.00"
      ]
     },
     "execution_count": 9,
     "metadata": {},
     "output_type": "execute_result"
    }
   ],
   "source": [
    "y_train.head()"
   ]
  },
  {
   "cell_type": "code",
   "execution_count": 10,
   "metadata": {
    "collapsed": false
   },
   "outputs": [
    {
     "data": {
      "text/html": [
       "<table class=\"simpletable\">\n",
       "<caption>OLS Regression Results</caption>\n",
       "<tr>\n",
       "  <th>Dep. Variable:</th>       <td>PriceRetail</td>   <th>  R-squared:         </th> <td>   0.662</td> \n",
       "</tr>\n",
       "<tr>\n",
       "  <th>Model:</th>                   <td>OLS</td>       <th>  Adj. R-squared:    </th> <td>   0.661</td> \n",
       "</tr>\n",
       "<tr>\n",
       "  <th>Method:</th>             <td>Least Squares</td>  <th>  F-statistic:       </th> <td>   596.8</td> \n",
       "</tr>\n",
       "<tr>\n",
       "  <th>Date:</th>             <td>Wed, 04 Apr 2018</td> <th>  Prob (F-statistic):</th>  <td>  0.00</td>  \n",
       "</tr>\n",
       "<tr>\n",
       "  <th>Time:</th>                 <td>12:54:46</td>     <th>  Log-Likelihood:    </th> <td> -10910.</td> \n",
       "</tr>\n",
       "<tr>\n",
       "  <th>No. Observations:</th>      <td>  1835</td>      <th>  AIC:               </th> <td>2.183e+04</td>\n",
       "</tr>\n",
       "<tr>\n",
       "  <th>Df Residuals:</th>          <td>  1829</td>      <th>  BIC:               </th> <td>2.187e+04</td>\n",
       "</tr>\n",
       "<tr>\n",
       "  <th>Df Model:</th>              <td>     6</td>      <th>                     </th>     <td> </td>    \n",
       "</tr>\n",
       "<tr>\n",
       "  <th>Covariance Type:</th>      <td>nonrobust</td>    <th>                     </th>     <td> </td>    \n",
       "</tr>\n",
       "</table>\n",
       "<table class=\"simpletable\">\n",
       "<tr>\n",
       "               <td></td>                  <th>coef</th>     <th>std err</th>      <th>t</th>      <th>P>|t|</th>  <th>[0.025</th>    <th>0.975]</th>  \n",
       "</tr>\n",
       "<tr>\n",
       "  <th>Vintage</th>                     <td>   -1.0795</td> <td>    0.044</td> <td>  -24.413</td> <td> 0.000</td> <td>   -1.166</td> <td>   -0.993</td>\n",
       "</tr>\n",
       "<tr>\n",
       "  <th>RatingScore</th>                 <td>   24.0841</td> <td>    0.959</td> <td>   25.114</td> <td> 0.000</td> <td>   22.203</td> <td>   25.965</td>\n",
       "</tr>\n",
       "<tr>\n",
       "  <th>Attribute_Collectible Wines</th> <td>   19.6331</td> <td>    4.906</td> <td>    4.002</td> <td> 0.000</td> <td>   10.012</td> <td>   29.254</td>\n",
       "</tr>\n",
       "<tr>\n",
       "  <th>Attribute_Kosher Wines</th>      <td>  -11.2224</td> <td>   46.396</td> <td>   -0.242</td> <td> 0.809</td> <td> -102.218</td> <td>   79.773</td>\n",
       "</tr>\n",
       "<tr>\n",
       "  <th>Region_California</th>           <td>   36.0598</td> <td>    5.868</td> <td>    6.145</td> <td> 0.000</td> <td>   24.551</td> <td>   47.569</td>\n",
       "</tr>\n",
       "<tr>\n",
       "  <th>Region_South America</th>        <td>    7.2016</td> <td>    9.668</td> <td>    0.745</td> <td> 0.456</td> <td>  -11.760</td> <td>   26.163</td>\n",
       "</tr>\n",
       "</table>\n",
       "<table class=\"simpletable\">\n",
       "<tr>\n",
       "  <th>Omnibus:</th>       <td>1410.665</td> <th>  Durbin-Watson:     </th> <td>   1.951</td> \n",
       "</tr>\n",
       "<tr>\n",
       "  <th>Prob(Omnibus):</th>  <td> 0.000</td>  <th>  Jarque-Bera (JB):  </th> <td>34428.346</td>\n",
       "</tr>\n",
       "<tr>\n",
       "  <th>Skew:</th>           <td> 3.417</td>  <th>  Prob(JB):          </th> <td>    0.00</td> \n",
       "</tr>\n",
       "<tr>\n",
       "  <th>Kurtosis:</th>       <td>23.089</td>  <th>  Cond. No.          </th> <td>4.31e+04</td> \n",
       "</tr>\n",
       "</table>"
      ],
      "text/plain": [
       "<class 'statsmodels.iolib.summary.Summary'>\n",
       "\"\"\"\n",
       "                            OLS Regression Results                            \n",
       "==============================================================================\n",
       "Dep. Variable:            PriceRetail   R-squared:                       0.662\n",
       "Model:                            OLS   Adj. R-squared:                  0.661\n",
       "Method:                 Least Squares   F-statistic:                     596.8\n",
       "Date:                Wed, 04 Apr 2018   Prob (F-statistic):               0.00\n",
       "Time:                        12:54:46   Log-Likelihood:                -10910.\n",
       "No. Observations:                1835   AIC:                         2.183e+04\n",
       "Df Residuals:                    1829   BIC:                         2.187e+04\n",
       "Df Model:                           6                                         \n",
       "Covariance Type:            nonrobust                                         \n",
       "===============================================================================================\n",
       "                                  coef    std err          t      P>|t|      [0.025      0.975]\n",
       "-----------------------------------------------------------------------------------------------\n",
       "Vintage                        -1.0795      0.044    -24.413      0.000      -1.166      -0.993\n",
       "RatingScore                    24.0841      0.959     25.114      0.000      22.203      25.965\n",
       "Attribute_Collectible Wines    19.6331      4.906      4.002      0.000      10.012      29.254\n",
       "Attribute_Kosher Wines        -11.2224     46.396     -0.242      0.809    -102.218      79.773\n",
       "Region_California              36.0598      5.868      6.145      0.000      24.551      47.569\n",
       "Region_South America            7.2016      9.668      0.745      0.456     -11.760      26.163\n",
       "==============================================================================\n",
       "Omnibus:                     1410.665   Durbin-Watson:                   1.951\n",
       "Prob(Omnibus):                  0.000   Jarque-Bera (JB):            34428.346\n",
       "Skew:                           3.417   Prob(JB):                         0.00\n",
       "Kurtosis:                      23.089   Cond. No.                     4.31e+04\n",
       "==============================================================================\n",
       "\n",
       "Warnings:\n",
       "[1] Standard Errors assume that the covariance matrix of the errors is correctly specified.\n",
       "[2] The condition number is large, 4.31e+04. This might indicate that there are\n",
       "strong multicollinearity or other numerical problems.\n",
       "\"\"\""
      ]
     },
     "execution_count": 10,
     "metadata": {},
     "output_type": "execute_result"
    }
   ],
   "source": [
    "#Build model using stats models\n",
    "lr = sm.OLS(y_train, x_train).fit()\n",
    "lr.summary()"
   ]
  },
  {
   "cell_type": "markdown",
   "metadata": {},
   "source": [
    "### First Pass\n",
    "\n",
    "The model has a poor r2 of 35%, and there are some problems with my variables. Both **Region_South America** and the **Attribute_Kosher Wines** variables contain zero in their 95% confidence intervals. As these aren't stable for prediction, I'm going to cut them from my prediction variables and rerun the model."
   ]
  },
  {
   "cell_type": "code",
   "execution_count": 11,
   "metadata": {
    "collapsed": false
   },
   "outputs": [],
   "source": [
    "features2 = ['Vintage', 'RatingScore', 'Attribute_Collectible Wines', 'Region_California', 'intercept']\n",
    "\n",
    "x = cab_df2[features2]\n",
    "y = cab_df2[target]\n",
    "\n",
    "#Split into train/test sets\n",
    "from sklearn.model_selection import train_test_split\n",
    "x_train, x_test, y_train, y_test = train_test_split(x, y, test_size=.33, random_state=39)"
   ]
  },
  {
   "cell_type": "code",
   "execution_count": 12,
   "metadata": {
    "collapsed": false
   },
   "outputs": [
    {
     "data": {
      "text/html": [
       "<table class=\"simpletable\">\n",
       "<caption>OLS Regression Results</caption>\n",
       "<tr>\n",
       "  <th>Dep. Variable:</th>       <td>PriceRetail</td>   <th>  R-squared:         </th> <td>   0.353</td> \n",
       "</tr>\n",
       "<tr>\n",
       "  <th>Model:</th>                   <td>OLS</td>       <th>  Adj. R-squared:    </th> <td>   0.352</td> \n",
       "</tr>\n",
       "<tr>\n",
       "  <th>Method:</th>             <td>Least Squares</td>  <th>  F-statistic:       </th> <td>   249.7</td> \n",
       "</tr>\n",
       "<tr>\n",
       "  <th>Date:</th>             <td>Wed, 04 Apr 2018</td> <th>  Prob (F-statistic):</th> <td>2.79e-171</td>\n",
       "</tr>\n",
       "<tr>\n",
       "  <th>Time:</th>                 <td>12:54:54</td>     <th>  Log-Likelihood:    </th> <td> -10907.</td> \n",
       "</tr>\n",
       "<tr>\n",
       "  <th>No. Observations:</th>      <td>  1835</td>      <th>  AIC:               </th> <td>2.182e+04</td>\n",
       "</tr>\n",
       "<tr>\n",
       "  <th>Df Residuals:</th>          <td>  1830</td>      <th>  BIC:               </th> <td>2.185e+04</td>\n",
       "</tr>\n",
       "<tr>\n",
       "  <th>Df Model:</th>              <td>     4</td>      <th>                     </th>     <td> </td>    \n",
       "</tr>\n",
       "<tr>\n",
       "  <th>Covariance Type:</th>      <td>nonrobust</td>    <th>                     </th>     <td> </td>    \n",
       "</tr>\n",
       "</table>\n",
       "<table class=\"simpletable\">\n",
       "<tr>\n",
       "               <td></td>                  <th>coef</th>     <th>std err</th>      <th>t</th>      <th>P>|t|</th>  <th>[0.025</th>    <th>0.975]</th>  \n",
       "</tr>\n",
       "<tr>\n",
       "  <th>Vintage</th>                     <td>   -2.3001</td> <td>    0.458</td> <td>   -5.022</td> <td> 0.000</td> <td>   -3.198</td> <td>   -1.402</td>\n",
       "</tr>\n",
       "<tr>\n",
       "  <th>RatingScore</th>                 <td>   23.8184</td> <td>    0.945</td> <td>   25.215</td> <td> 0.000</td> <td>   21.966</td> <td>   25.671</td>\n",
       "</tr>\n",
       "<tr>\n",
       "  <th>Attribute_Collectible Wines</th> <td>   14.2739</td> <td>    5.272</td> <td>    2.708</td> <td> 0.007</td> <td>    3.935</td> <td>   24.613</td>\n",
       "</tr>\n",
       "<tr>\n",
       "  <th>Region_California</th>           <td>   32.3456</td> <td>    5.200</td> <td>    6.220</td> <td> 0.000</td> <td>   22.146</td> <td>   42.545</td>\n",
       "</tr>\n",
       "<tr>\n",
       "  <th>intercept</th>                   <td> 2478.2869</td> <td>  920.803</td> <td>    2.691</td> <td> 0.007</td> <td>  672.351</td> <td> 4284.223</td>\n",
       "</tr>\n",
       "</table>\n",
       "<table class=\"simpletable\">\n",
       "<tr>\n",
       "  <th>Omnibus:</th>       <td>1408.734</td> <th>  Durbin-Watson:     </th> <td>   1.952</td> \n",
       "</tr>\n",
       "<tr>\n",
       "  <th>Prob(Omnibus):</th>  <td> 0.000</td>  <th>  Jarque-Bera (JB):  </th> <td>33968.331</td>\n",
       "</tr>\n",
       "<tr>\n",
       "  <th>Skew:</th>           <td> 3.415</td>  <th>  Prob(JB):          </th> <td>    0.00</td> \n",
       "</tr>\n",
       "<tr>\n",
       "  <th>Kurtosis:</th>       <td>22.940</td>  <th>  Cond. No.          </th> <td>8.57e+05</td> \n",
       "</tr>\n",
       "</table>"
      ],
      "text/plain": [
       "<class 'statsmodels.iolib.summary.Summary'>\n",
       "\"\"\"\n",
       "                            OLS Regression Results                            \n",
       "==============================================================================\n",
       "Dep. Variable:            PriceRetail   R-squared:                       0.353\n",
       "Model:                            OLS   Adj. R-squared:                  0.352\n",
       "Method:                 Least Squares   F-statistic:                     249.7\n",
       "Date:                Wed, 04 Apr 2018   Prob (F-statistic):          2.79e-171\n",
       "Time:                        12:54:54   Log-Likelihood:                -10907.\n",
       "No. Observations:                1835   AIC:                         2.182e+04\n",
       "Df Residuals:                    1830   BIC:                         2.185e+04\n",
       "Df Model:                           4                                         \n",
       "Covariance Type:            nonrobust                                         \n",
       "===============================================================================================\n",
       "                                  coef    std err          t      P>|t|      [0.025      0.975]\n",
       "-----------------------------------------------------------------------------------------------\n",
       "Vintage                        -2.3001      0.458     -5.022      0.000      -3.198      -1.402\n",
       "RatingScore                    23.8184      0.945     25.215      0.000      21.966      25.671\n",
       "Attribute_Collectible Wines    14.2739      5.272      2.708      0.007       3.935      24.613\n",
       "Region_California              32.3456      5.200      6.220      0.000      22.146      42.545\n",
       "intercept                    2478.2869    920.803      2.691      0.007     672.351    4284.223\n",
       "==============================================================================\n",
       "Omnibus:                     1408.734   Durbin-Watson:                   1.952\n",
       "Prob(Omnibus):                  0.000   Jarque-Bera (JB):            33968.331\n",
       "Skew:                           3.415   Prob(JB):                         0.00\n",
       "Kurtosis:                      22.940   Cond. No.                     8.57e+05\n",
       "==============================================================================\n",
       "\n",
       "Warnings:\n",
       "[1] Standard Errors assume that the covariance matrix of the errors is correctly specified.\n",
       "[2] The condition number is large, 8.57e+05. This might indicate that there are\n",
       "strong multicollinearity or other numerical problems.\n",
       "\"\"\""
      ]
     },
     "execution_count": 12,
     "metadata": {},
     "output_type": "execute_result"
    }
   ],
   "source": [
    "#Build model using stats models\n",
    "lr = sm.OLS(y_train, x_train).fit()\n",
    "lr.summary()"
   ]
  },
  {
   "cell_type": "markdown",
   "metadata": {},
   "source": [
    "### Second Pass\n",
    "\n",
    "This looks better, and the r2 is still 35%. Now let's see how good the predictions are by checking out the RMSE. I want the RMSE of the predictions to be within 30% of the average wine price, otherwise there's too much variability in them to be of use."
   ]
  },
  {
   "cell_type": "code",
   "execution_count": 13,
   "metadata": {
    "collapsed": false
   },
   "outputs": [],
   "source": [
    "preds = pd.DataFrame(lr.predict(x_test))"
   ]
  },
  {
   "cell_type": "code",
   "execution_count": 14,
   "metadata": {
    "collapsed": false
   },
   "outputs": [
    {
     "data": {
      "text/plain": [
       "array([ 110.94735802])"
      ]
     },
     "execution_count": 14,
     "metadata": {},
     "output_type": "execute_result"
    }
   ],
   "source": [
    "#Calculating the root mean squared error\n",
    "import statsmodels.tools.eval_measures as em\n",
    "\n",
    "em.rmse(y_test, preds)"
   ]
  },
  {
   "cell_type": "code",
   "execution_count": 15,
   "metadata": {
    "collapsed": false
   },
   "outputs": [
    {
     "data": {
      "text/plain": [
       "array([ 64.74256329])"
      ]
     },
     "execution_count": 15,
     "metadata": {},
     "output_type": "execute_result"
    }
   ],
   "source": [
    "#Calculating mean absolute error\n",
    "em.meanabs(y_test, preds)\n"
   ]
  },
  {
   "cell_type": "code",
   "execution_count": 16,
   "metadata": {
    "collapsed": false
   },
   "outputs": [
    {
     "data": {
      "text/plain": [
       "122.84137168141665"
      ]
     },
     "execution_count": 16,
     "metadata": {},
     "output_type": "execute_result"
    }
   ],
   "source": [
    "#Calculating average price of wine in test set\n",
    "\n",
    "avg_price = y_test['PriceRetail'].mean()\n",
    "avg_price"
   ]
  },
  {
   "cell_type": "code",
   "execution_count": 17,
   "metadata": {
    "collapsed": false
   },
   "outputs": [
    {
     "data": {
      "text/plain": [
       "array([ 0.90317583])"
      ]
     },
     "execution_count": 17,
     "metadata": {},
     "output_type": "execute_result"
    }
   ],
   "source": [
    "#Calculating the ratio of RMSE to average wine price\n",
    "em.rmse(y_test, preds)/avg_price"
   ]
  },
  {
   "cell_type": "markdown",
   "metadata": {},
   "source": [
    "## RMSE is too high\n",
    "\n",
    "With a RMSE of 110 vs the average price of $122, there's too much error in the predictions. I'm going to remove any outliers outside of 2 standard deviations of the average price and see if the results improve. "
   ]
  },
  {
   "cell_type": "code",
   "execution_count": 18,
   "metadata": {
    "collapsed": false
   },
   "outputs": [
    {
     "data": {
      "text/html": [
       "<table class=\"simpletable\">\n",
       "<caption>OLS Regression Results</caption>\n",
       "<tr>\n",
       "  <th>Dep. Variable:</th>       <td>PriceRetail</td>   <th>  R-squared:         </th> <td>   0.438</td> \n",
       "</tr>\n",
       "<tr>\n",
       "  <th>Model:</th>                   <td>OLS</td>       <th>  Adj. R-squared:    </th> <td>   0.436</td> \n",
       "</tr>\n",
       "<tr>\n",
       "  <th>Method:</th>             <td>Least Squares</td>  <th>  F-statistic:       </th> <td>   337.5</td> \n",
       "</tr>\n",
       "<tr>\n",
       "  <th>Date:</th>             <td>Wed, 04 Apr 2018</td> <th>  Prob (F-statistic):</th> <td>5.99e-215</td>\n",
       "</tr>\n",
       "<tr>\n",
       "  <th>Time:</th>                 <td>12:55:33</td>     <th>  Log-Likelihood:    </th> <td> -9390.5</td> \n",
       "</tr>\n",
       "<tr>\n",
       "  <th>No. Observations:</th>      <td>  1739</td>      <th>  AIC:               </th> <td>1.879e+04</td>\n",
       "</tr>\n",
       "<tr>\n",
       "  <th>Df Residuals:</th>          <td>  1734</td>      <th>  BIC:               </th> <td>1.882e+04</td>\n",
       "</tr>\n",
       "<tr>\n",
       "  <th>Df Model:</th>              <td>     4</td>      <th>                     </th>     <td> </td>    \n",
       "</tr>\n",
       "<tr>\n",
       "  <th>Covariance Type:</th>      <td>nonrobust</td>    <th>                     </th>     <td> </td>    \n",
       "</tr>\n",
       "</table>\n",
       "<table class=\"simpletable\">\n",
       "<tr>\n",
       "               <td></td>                  <th>coef</th>     <th>std err</th>      <th>t</th>      <th>P>|t|</th>  <th>[0.025</th>    <th>0.975]</th>  \n",
       "</tr>\n",
       "<tr>\n",
       "  <th>Vintage</th>                     <td>   -2.1134</td> <td>    0.274</td> <td>   -7.721</td> <td> 0.000</td> <td>   -2.650</td> <td>   -1.577</td>\n",
       "</tr>\n",
       "<tr>\n",
       "  <th>RatingScore</th>                 <td>   13.8805</td> <td>    0.600</td> <td>   23.130</td> <td> 0.000</td> <td>   12.704</td> <td>   15.058</td>\n",
       "</tr>\n",
       "<tr>\n",
       "  <th>Attribute_Collectible Wines</th> <td>   24.1031</td> <td>    3.164</td> <td>    7.617</td> <td> 0.000</td> <td>   17.897</td> <td>   30.310</td>\n",
       "</tr>\n",
       "<tr>\n",
       "  <th>Region_California</th>           <td>   33.2496</td> <td>    3.112</td> <td>   10.684</td> <td> 0.000</td> <td>   27.146</td> <td>   39.353</td>\n",
       "</tr>\n",
       "<tr>\n",
       "  <th>intercept</th>                   <td> 3009.7745</td> <td>  550.983</td> <td>    5.463</td> <td> 0.000</td> <td> 1929.114</td> <td> 4090.435</td>\n",
       "</tr>\n",
       "</table>\n",
       "<table class=\"simpletable\">\n",
       "<tr>\n",
       "  <th>Omnibus:</th>       <td>499.995</td> <th>  Durbin-Watson:     </th> <td>   1.961</td>\n",
       "</tr>\n",
       "<tr>\n",
       "  <th>Prob(Omnibus):</th> <td> 0.000</td>  <th>  Jarque-Bera (JB):  </th> <td>1448.724</td>\n",
       "</tr>\n",
       "<tr>\n",
       "  <th>Skew:</th>          <td> 1.473</td>  <th>  Prob(JB):          </th> <td>    0.00</td>\n",
       "</tr>\n",
       "<tr>\n",
       "  <th>Kurtosis:</th>      <td> 6.364</td>  <th>  Cond. No.          </th> <td>8.60e+05</td>\n",
       "</tr>\n",
       "</table>"
      ],
      "text/plain": [
       "<class 'statsmodels.iolib.summary.Summary'>\n",
       "\"\"\"\n",
       "                            OLS Regression Results                            \n",
       "==============================================================================\n",
       "Dep. Variable:            PriceRetail   R-squared:                       0.438\n",
       "Model:                            OLS   Adj. R-squared:                  0.436\n",
       "Method:                 Least Squares   F-statistic:                     337.5\n",
       "Date:                Wed, 04 Apr 2018   Prob (F-statistic):          5.99e-215\n",
       "Time:                        12:55:33   Log-Likelihood:                -9390.5\n",
       "No. Observations:                1739   AIC:                         1.879e+04\n",
       "Df Residuals:                    1734   BIC:                         1.882e+04\n",
       "Df Model:                           4                                         \n",
       "Covariance Type:            nonrobust                                         \n",
       "===============================================================================================\n",
       "                                  coef    std err          t      P>|t|      [0.025      0.975]\n",
       "-----------------------------------------------------------------------------------------------\n",
       "Vintage                        -2.1134      0.274     -7.721      0.000      -2.650      -1.577\n",
       "RatingScore                    13.8805      0.600     23.130      0.000      12.704      15.058\n",
       "Attribute_Collectible Wines    24.1031      3.164      7.617      0.000      17.897      30.310\n",
       "Region_California              33.2496      3.112     10.684      0.000      27.146      39.353\n",
       "intercept                    3009.7745    550.983      5.463      0.000    1929.114    4090.435\n",
       "==============================================================================\n",
       "Omnibus:                      499.995   Durbin-Watson:                   1.961\n",
       "Prob(Omnibus):                  0.000   Jarque-Bera (JB):             1448.724\n",
       "Skew:                           1.473   Prob(JB):                         0.00\n",
       "Kurtosis:                       6.364   Cond. No.                     8.60e+05\n",
       "==============================================================================\n",
       "\n",
       "Warnings:\n",
       "[1] Standard Errors assume that the covariance matrix of the errors is correctly specified.\n",
       "[2] The condition number is large, 8.6e+05. This might indicate that there are\n",
       "strong multicollinearity or other numerical problems.\n",
       "\"\"\""
      ]
     },
     "execution_count": 18,
     "metadata": {},
     "output_type": "execute_result"
    }
   ],
   "source": [
    "cab_df2 = cab_df2[cab_df2.PriceRetail < 360.00]\n",
    "\n",
    "features2 = ['Vintage', 'RatingScore', 'Attribute_Collectible Wines', 'Region_California', 'intercept']\n",
    "\n",
    "x = cab_df2[features2]\n",
    "y = cab_df2[target]\n",
    "\n",
    "#Split into train/test sets\n",
    "from sklearn.model_selection import train_test_split\n",
    "x_train, x_test, y_train, y_test = train_test_split(x, y, test_size=.33, random_state=39)\n",
    "\n",
    "lr = sm.OLS(y_train, x_train).fit()\n",
    "lr.summary()"
   ]
  },
  {
   "cell_type": "code",
   "execution_count": 19,
   "metadata": {
    "collapsed": true
   },
   "outputs": [],
   "source": [
    "preds = pd.DataFrame(lr.predict(x_test))"
   ]
  },
  {
   "cell_type": "code",
   "execution_count": 20,
   "metadata": {
    "collapsed": false
   },
   "outputs": [
    {
     "data": {
      "text/plain": [
       "array([ 52.11067985])"
      ]
     },
     "execution_count": 20,
     "metadata": {},
     "output_type": "execute_result"
    }
   ],
   "source": [
    "#Calculating the root mean squared error\n",
    "import statsmodels.tools.eval_measures as em\n",
    "\n",
    "em.rmse(y_test, preds)"
   ]
  },
  {
   "cell_type": "code",
   "execution_count": 21,
   "metadata": {
    "collapsed": false
   },
   "outputs": [
    {
     "data": {
      "text/plain": [
       "array([ 36.59863074])"
      ]
     },
     "execution_count": 21,
     "metadata": {},
     "output_type": "execute_result"
    }
   ],
   "source": [
    "#Calculating mean absolute error\n",
    "em.meanabs(y_test, preds)"
   ]
  },
  {
   "cell_type": "code",
   "execution_count": 22,
   "metadata": {
    "collapsed": false
   },
   "outputs": [
    {
     "data": {
      "text/plain": [
       "91.34555944055968"
      ]
     },
     "execution_count": 22,
     "metadata": {},
     "output_type": "execute_result"
    }
   ],
   "source": [
    "#Calculating average price of wine in test set\n",
    "\n",
    "avg_price = y_test['PriceRetail'].mean()\n",
    "avg_price"
   ]
  },
  {
   "cell_type": "code",
   "execution_count": 23,
   "metadata": {
    "collapsed": false
   },
   "outputs": [
    {
     "data": {
      "text/plain": [
       "array([ 0.57047852])"
      ]
     },
     "execution_count": 23,
     "metadata": {},
     "output_type": "execute_result"
    }
   ],
   "source": [
    "#Calculating the ratio of RMSE to average wine price\n",
    "em.rmse(y_test, preds)/avg_price"
   ]
  },
  {
   "cell_type": "code",
   "execution_count": 24,
   "metadata": {
    "collapsed": false
   },
   "outputs": [
    {
     "data": {
      "text/plain": [
       "92.04570273392119"
      ]
     },
     "execution_count": 24,
     "metadata": {},
     "output_type": "execute_result"
    }
   ],
   "source": [
    "cab_df2['PriceRetail'].mean()"
   ]
  },
  {
   "cell_type": "markdown",
   "metadata": {},
   "source": [
    "## Sour Grapes!\n",
    "\n",
    "While I was able to improve the r2 from 35% to 44% by removing wines priced >360, I was not able to improve RMSE enough to feel confident in the value of the predictions. The RMSE is now 52 vs. an average price of $91. Although this is better than my earlier model, the error is still too large to be of reliable value. \n",
    "\n",
    "Time to try a different modeling approach!"
   ]
  },
  {
   "cell_type": "code",
   "execution_count": null,
   "metadata": {
    "collapsed": true
   },
   "outputs": [],
   "source": []
  }
 ],
 "metadata": {
  "kernelspec": {
   "display_name": "Python 2",
   "language": "python",
   "name": "python2"
  },
  "language_info": {
   "codemirror_mode": {
    "name": "ipython",
    "version": 2
   },
   "file_extension": ".py",
   "mimetype": "text/x-python",
   "name": "python",
   "nbconvert_exporter": "python",
   "pygments_lexer": "ipython2",
   "version": "2.7.13"
  }
 },
 "nbformat": 4,
 "nbformat_minor": 0
}
