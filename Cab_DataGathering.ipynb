{
 "cells": [
  {
   "cell_type": "markdown",
   "metadata": {},
   "source": [
    "# 😦 Experiencing Technical Difficulties! 😦\n",
    "\n",
    "Since Wine.com deprecated their API as of Sept-17, this code no longer works. However it still useful as documentation for how I obtained the dataset in September-2015. Hindsight is 20/20, and as this was my project for General Assembly, and first foray into coding with Python, I would probably have taken some steps to streamline the API data wrangling. \n",
    "\n",
    "### Full write-up and project description will be given in other notebooks."
   ]
  },
  {
   "cell_type": "code",
   "execution_count": 1,
   "metadata": {
    "collapsed": true
   },
   "outputs": [],
   "source": [
    "#Standard imports\n",
    "import numpy as np\n",
    "import pandas as pd\n",
    "import matplotlib.pyplot as plt\n",
    "import pylab as pl\n",
    "import seaborn as sns\n",
    "%matplotlib inline\n",
    "\n",
    "#tools to help with JSON\n",
    "import json\n",
    "from pandas.io.json import json_normalize\n",
    "#pprint - pretty print - preserves formatting\n",
    "from pprint import pprint\n",
    "\n",
    "#urllib / requests - used commonly for apis\n",
    "import requests\n",
    "import urllib2"
   ]
  },
  {
   "cell_type": "code",
   "execution_count": null,
   "metadata": {
    "collapsed": true
   },
   "outputs": [],
   "source": [
    "cab_df = pd.read_csv('./cablist.csv')"
   ]
  },
  {
   "cell_type": "markdown",
   "metadata": {},
   "source": [
    "### Extract data from Wine.com API & Build baseline dataframe using urlib -- hacked with help from GA staff!"
   ]
  },
  {
   "cell_type": "code",
   "execution_count": 1,
   "metadata": {
    "collapsed": false
   },
   "outputs": [
    {
     "ename": "NameError",
     "evalue": "name 'urllib2' is not defined",
     "output_type": "error",
     "traceback": [
      "\u001b[0;31m---------------------------------------------------------------------------\u001b[0m",
      "\u001b[0;31mNameError\u001b[0m                                 Traceback (most recent call last)",
      "\u001b[0;32m<ipython-input-1-54ab244a0939>\u001b[0m in \u001b[0;36m<module>\u001b[0;34m()\u001b[0m\n\u001b[1;32m      1\u001b[0m \u001b[0;31m#open data from JSON format\u001b[0m\u001b[0;34m\u001b[0m\u001b[0;34m\u001b[0m\u001b[0m\n\u001b[0;32m----> 2\u001b[0;31m \u001b[0mrequest\u001b[0m\u001b[0;34m=\u001b[0m\u001b[0murllib2\u001b[0m\u001b[0;34m.\u001b[0m\u001b[0mRequest\u001b[0m\u001b[0;34m(\u001b[0m\u001b[0;34m'https://api.locu.com/v1_0/venue/search/?has_menu=TRUE&postal_code=11211&category=restaurant&api_key=ca0badabec64a7cf1d7806d8be7e7adc28201f1b'\u001b[0m\u001b[0;34m)\u001b[0m\u001b[0;34m\u001b[0m\u001b[0m\n\u001b[0m\u001b[1;32m      3\u001b[0m \u001b[0mresponse\u001b[0m \u001b[0;34m=\u001b[0m \u001b[0murllib2\u001b[0m\u001b[0;34m.\u001b[0m\u001b[0murlopen\u001b[0m\u001b[0;34m(\u001b[0m\u001b[0mrequest\u001b[0m\u001b[0;34m)\u001b[0m\u001b[0;34m\u001b[0m\u001b[0m\n\u001b[1;32m      4\u001b[0m \u001b[0melevations\u001b[0m \u001b[0;34m=\u001b[0m \u001b[0mresponse\u001b[0m\u001b[0;34m.\u001b[0m\u001b[0mread\u001b[0m\u001b[0;34m(\u001b[0m\u001b[0;34m)\u001b[0m\u001b[0;34m\u001b[0m\u001b[0m\n\u001b[1;32m      5\u001b[0m \u001b[0mdata\u001b[0m \u001b[0;34m=\u001b[0m \u001b[0mjson\u001b[0m\u001b[0;34m.\u001b[0m\u001b[0mloads\u001b[0m\u001b[0;34m(\u001b[0m\u001b[0melevations\u001b[0m\u001b[0;34m)\u001b[0m\u001b[0;34m\u001b[0m\u001b[0m\n",
      "\u001b[0;31mNameError\u001b[0m: name 'urllib2' is not defined"
     ]
    }
   ],
   "source": [
    "#open data from JSON format\n",
    "request=urllib2.Request('http://services.wine.com/api/beta2/service.svc/json/catalog?search=cabernet+sauvignon&offset=4001&size=100&apikey=a290c490a29709b702c1c79174821e8f')\n",
    "response = urllib2.urlopen(request)\n",
    "elevations = response.read()\n",
    "data = json.loads(elevations)"
   ]
  },
  {
   "cell_type": "code",
   "execution_count": 3,
   "metadata": {
    "collapsed": true
   },
   "outputs": [],
   "source": [
    "#extract product information- dictionary of lists (with dictionaries)\n",
    "wine = data['Products']['List']"
   ]
  },
  {
   "cell_type": "markdown",
   "metadata": {},
   "source": [
    "### This is what the data looks like... Lots of nested dictionaries & lists"
   ]
  },
  {
   "cell_type": "code",
   "execution_count": 4,
   "metadata": {
    "collapsed": false
   },
   "outputs": [
    {
     "data": {
      "text/plain": [
       "{u'Appellation': {u'Id': 9058,\n",
       "  u'Name': u'Barossa Valley',\n",
       "  u'Region': {u'Area': None,\n",
       "   u'Id': 108,\n",
       "   u'Name': u'Australia',\n",
       "   u'Url': u'http://www.wine.com/v6/Australia/wine/list.aspx?N=7155+108'},\n",
       "  u'Url': u'http://www.wine.com/v6/Barossa-Valley/wine/list.aspx?N=7155+108+9058'},\n",
       " u'Community': {u'Reviews': {u'HighestScore': 0,\n",
       "   u'List': [],\n",
       "   u'Url': u'http://www.wine.com/v6/Branson-Coach-House-Coach-House-Block-Cabernet-Sauvignon-2004/wine/89049/Detail.aspx?pageType=reviews'},\n",
       "  u'Url': u'http://www.wine.com/v6/Branson-Coach-House-Coach-House-Block-Cabernet-Sauvignon-2004/wine/89049/Detail.aspx'},\n",
       " u'Description': u'',\n",
       " u'GeoLocation': {u'Latitude': -360, u'Longitude': -360, u'Url': u''},\n",
       " u'Id': 89049,\n",
       " u'Labels': [{u'Id': u'89049m',\n",
       "   u'Name': u'thumbnail',\n",
       "   u'Url': u'http://cache.wine.com/labels/89049m.jpg'}],\n",
       " u'Name': u'Branson Coach House Coach House Block Cabernet Sauvignon 2004',\n",
       " u'PriceMax': 99.0,\n",
       " u'PriceMin': 95.0,\n",
       " u'PriceRetail': 99.0,\n",
       " u'ProductAttributes': [{u'Id': 36,\n",
       "   u'ImageUrl': u'http://cache.wine.com/assets/glo_icon_collectable_big.gif',\n",
       "   u'Name': u'Collectible Wines',\n",
       "   u'Url': u'http://www.wine.com/v6/Collectible-Wines/wine/list.aspx?N=7155+36'}],\n",
       " u'Ratings': {u'HighestScore': 98, u'List': []},\n",
       " u'Retail': None,\n",
       " u'Type': u'Wine',\n",
       " u'Url': u'http://www.wine.com/v6/Branson-Coach-House-Coach-House-Block-Cabernet-Sauvignon-2004/wine/89049/Detail.aspx',\n",
       " u'Varietal': {u'Id': 139,\n",
       "  u'Name': u'Cabernet Sauvignon',\n",
       "  u'Url': u'http://www.wine.com/v6/Cabernet-Sauvignon/wine/list.aspx?N=7155+124+139',\n",
       "  u'WineType': {u'Id': 124,\n",
       "   u'Name': u'Red Wines',\n",
       "   u'Url': u'http://www.wine.com/v6/Red-Wines/wine/list.aspx?N=7155+124'}},\n",
       " u'Vineyard': {u'GeoLocation': {u'Latitude': -360,\n",
       "   u'Longitude': -360,\n",
       "   u'Url': u''},\n",
       "  u'Id': 6480,\n",
       "  u'ImageUrl': u'',\n",
       "  u'Name': u'Branson Coach House',\n",
       "  u'Url': u'http://www.wine.com/v6/Branson-Coach-House/learnabout.aspx?winery=17686'},\n",
       " u'Vintage': u'',\n",
       " u'Vintages': {u'List': []}}"
      ]
     },
     "execution_count": 4,
     "metadata": {},
     "output_type": "execute_result"
    }
   ],
   "source": [
    "wine[0]"
   ]
  },
  {
   "cell_type": "markdown",
   "metadata": {},
   "source": [
    "### I'll need to use a list comprehension to extract my baseline data fields"
   ]
  },
  {
   "cell_type": "code",
   "execution_count": 5,
   "metadata": {
    "collapsed": false
   },
   "outputs": [],
   "source": [
    "#List comprehension to create baseline data\n",
    "#'Name' -4 is the vintage\n",
    "p = [[w['Id'], w['ProductAttributes'],w['Type'],w['Name'],w['Name'][-4:],w['Appellation']['Name'],w['Appellation']['Region']['Name'],w['Varietal']['Name'], w['Vineyard']['Name'], w['Ratings']['HighestScore'],w['PriceRetail'] ]for w in wine]"
   ]
  },
  {
   "cell_type": "code",
   "execution_count": 6,
   "metadata": {
    "collapsed": false
   },
   "outputs": [],
   "source": [
    "#Filter baseline data for wine only, and only those records with product attributes listed\n",
    "v = []\n",
    "for i in p:\n",
    "    if len(i[1]) > 0 and i[2]=='Wine':\n",
    "        v.append(i)\n"
   ]
  },
  {
   "cell_type": "code",
   "execution_count": 7,
   "metadata": {
    "collapsed": false
   },
   "outputs": [
    {
     "data": {
      "text/plain": [
       "99"
      ]
     },
     "execution_count": 7,
     "metadata": {},
     "output_type": "execute_result"
    }
   ],
   "source": [
    "len(v)"
   ]
  },
  {
   "cell_type": "markdown",
   "metadata": {},
   "source": [
    "### Here's what the data now looks like. There's still a dictionary for the Product Attribute field, so going to run another list comprehension"
   ]
  },
  {
   "cell_type": "code",
   "execution_count": 8,
   "metadata": {
    "collapsed": false
   },
   "outputs": [
    {
     "data": {
      "text/plain": [
       "[89049,\n",
       " [{u'Id': 36,\n",
       "   u'ImageUrl': u'http://cache.wine.com/assets/glo_icon_collectable_big.gif',\n",
       "   u'Name': u'Collectible Wines',\n",
       "   u'Url': u'http://www.wine.com/v6/Collectible-Wines/wine/list.aspx?N=7155+36'}],\n",
       " u'Wine',\n",
       " u'Branson Coach House Coach House Block Cabernet Sauvignon 2004',\n",
       " u'2004',\n",
       " u'Barossa Valley',\n",
       " u'Australia',\n",
       " u'Cabernet Sauvignon',\n",
       " u'Branson Coach House',\n",
       " 98,\n",
       " 99.0]"
      ]
     },
     "execution_count": 8,
     "metadata": {},
     "output_type": "execute_result"
    }
   ],
   "source": [
    "v[0]"
   ]
  },
  {
   "cell_type": "code",
   "execution_count": 9,
   "metadata": {
    "collapsed": false
   },
   "outputs": [],
   "source": [
    "#Second list comprehension to extract product attribute from dictionary\n",
    "wl = [[i[0], i[1][0]['Name'], i[3],i[4],i[5],i[6],i[7],i[8],i[9],i[10]] for i in v]"
   ]
  },
  {
   "cell_type": "code",
   "execution_count": 10,
   "metadata": {
    "collapsed": false
   },
   "outputs": [],
   "source": [
    "#Only run this to initialize wl when pulling initial data\n",
    "cab_list = wl"
   ]
  },
  {
   "cell_type": "code",
   "execution_count": 807,
   "metadata": {
    "collapsed": true
   },
   "outputs": [],
   "source": [
    "#appends results of api call to existing list\n",
    "#cab_list.extend(wl)"
   ]
  },
  {
   "cell_type": "code",
   "execution_count": 11,
   "metadata": {
    "collapsed": false
   },
   "outputs": [
    {
     "data": {
      "text/plain": [
       "99"
      ]
     },
     "execution_count": 11,
     "metadata": {},
     "output_type": "execute_result"
    }
   ],
   "source": [
    "len(cab_list)"
   ]
  },
  {
   "cell_type": "markdown",
   "metadata": {},
   "source": [
    "### Success! Now the data is in a format that I can work with. "
   ]
  },
  {
   "cell_type": "code",
   "execution_count": 12,
   "metadata": {
    "collapsed": false
   },
   "outputs": [
    {
     "data": {
      "text/plain": [
       "[89049,\n",
       " u'Collectible Wines',\n",
       " u'Branson Coach House Coach House Block Cabernet Sauvignon 2004',\n",
       " u'2004',\n",
       " u'Barossa Valley',\n",
       " u'Australia',\n",
       " u'Cabernet Sauvignon',\n",
       " u'Branson Coach House',\n",
       " 98,\n",
       " 99.0]"
      ]
     },
     "execution_count": 12,
     "metadata": {},
     "output_type": "execute_result"
    }
   ],
   "source": [
    "cab_list[0]"
   ]
  },
  {
   "cell_type": "markdown",
   "metadata": {},
   "source": [
    "### The next 4 cells were used as part of the process of building the dataset. The API call is limited to 100 records at a time, so I didn't pull them all at once. I built the file up over time -- lots of time -- and these cells are part of the merge process and data inspection."
   ]
  },
  {
   "cell_type": "code",
   "execution_count": 841,
   "metadata": {
    "collapsed": false
   },
   "outputs": [],
   "source": [
    "#create dataframe from list of results, in preparation to merge with existing dataframe\n",
    "temp_df = pd.DataFrame(cab_list)[300:1000]\n",
    "temp_df.columns = ['Id', 'Attributes', 'Name', 'Vintage', 'Appellation', 'Region','WineType', 'Vineyard', 'RatingScore', 'PriceRetail']"
   ]
  },
  {
   "cell_type": "code",
   "execution_count": 843,
   "metadata": {
    "collapsed": false
   },
   "outputs": [],
   "source": [
    "#merging dataframes: new + existing\n",
    "frames = [cab_df, temp_df]\n",
    "cabernet_df = pd.concat(frames)"
   ]
  },
  {
   "cell_type": "code",
   "execution_count": 844,
   "metadata": {
    "collapsed": false
   },
   "outputs": [
    {
     "data": {
      "text/html": [
       "<div>\n",
       "<table border=\"1\" class=\"dataframe\">\n",
       "  <thead>\n",
       "    <tr style=\"text-align: right;\">\n",
       "      <th></th>\n",
       "      <th>Id</th>\n",
       "      <th>RatingScore</th>\n",
       "      <th>PriceRetail</th>\n",
       "    </tr>\n",
       "  </thead>\n",
       "  <tbody>\n",
       "    <tr>\n",
       "      <th>count</th>\n",
       "      <td>2770.000000</td>\n",
       "      <td>2770.000000</td>\n",
       "      <td>2770.000000</td>\n",
       "    </tr>\n",
       "    <tr>\n",
       "      <th>mean</th>\n",
       "      <td>112546.000722</td>\n",
       "      <td>93.058123</td>\n",
       "      <td>135.094065</td>\n",
       "    </tr>\n",
       "    <tr>\n",
       "      <th>std</th>\n",
       "      <td>25897.287147</td>\n",
       "      <td>3.066592</td>\n",
       "      <td>252.947503</td>\n",
       "    </tr>\n",
       "    <tr>\n",
       "      <th>min</th>\n",
       "      <td>316.000000</td>\n",
       "      <td>0.000000</td>\n",
       "      <td>7.990000</td>\n",
       "    </tr>\n",
       "    <tr>\n",
       "      <th>25%</th>\n",
       "      <td>103055.250000</td>\n",
       "      <td>91.000000</td>\n",
       "      <td>41.990000</td>\n",
       "    </tr>\n",
       "    <tr>\n",
       "      <th>50%</th>\n",
       "      <td>117722.000000</td>\n",
       "      <td>93.000000</td>\n",
       "      <td>77.990000</td>\n",
       "    </tr>\n",
       "    <tr>\n",
       "      <th>75%</th>\n",
       "      <td>129950.000000</td>\n",
       "      <td>95.000000</td>\n",
       "      <td>139.000000</td>\n",
       "    </tr>\n",
       "    <tr>\n",
       "      <th>max</th>\n",
       "      <td>148089.000000</td>\n",
       "      <td>100.000000</td>\n",
       "      <td>6000.000000</td>\n",
       "    </tr>\n",
       "  </tbody>\n",
       "</table>\n",
       "</div>"
      ],
      "text/plain": [
       "                  Id  RatingScore  PriceRetail\n",
       "count    2770.000000  2770.000000  2770.000000\n",
       "mean   112546.000722    93.058123   135.094065\n",
       "std     25897.287147     3.066592   252.947503\n",
       "min       316.000000     0.000000     7.990000\n",
       "25%    103055.250000    91.000000    41.990000\n",
       "50%    117722.000000    93.000000    77.990000\n",
       "75%    129950.000000    95.000000   139.000000\n",
       "max    148089.000000   100.000000  6000.000000"
      ]
     },
     "execution_count": 844,
     "metadata": {},
     "output_type": "execute_result"
    }
   ],
   "source": [
    "#Let's inspect the dataset\n",
    "cabernet_df.describe()"
   ]
  },
  {
   "cell_type": "code",
   "execution_count": 849,
   "metadata": {
    "collapsed": false
   },
   "outputs": [
    {
     "data": {
      "text/plain": [
       "90     522\n",
       "92     479\n",
       "93     404\n",
       "94     383\n",
       "95     338\n",
       "96     200\n",
       "89     112\n",
       "97      97\n",
       "98      84\n",
       "91      82\n",
       "100     36\n",
       "99      32\n",
       "0        1\n",
       "dtype: int64"
      ]
     },
     "execution_count": 849,
     "metadata": {},
     "output_type": "execute_result"
    }
   ],
   "source": [
    "#More inspection\n",
    "cabernet_df['RatingScore'].value_counts()"
   ]
  },
  {
   "cell_type": "markdown",
   "metadata": {},
   "source": [
    "### That's a wrap -- time to export and play with some data!"
   ]
  },
  {
   "cell_type": "code",
   "execution_count": 845,
   "metadata": {
    "collapsed": true
   },
   "outputs": [],
   "source": [
    "#export dataframe to csv, baseline file\n",
    "cabernet_df.to_csv('cablist.csv', index=False, header=True)"
   ]
  },
  {
   "cell_type": "markdown",
   "metadata": {},
   "source": [
    "#Create categorical variables "
   ]
  },
  {
   "cell_type": "code",
   "execution_count": 13,
   "metadata": {
    "collapsed": false
   },
   "outputs": [],
   "source": [
    "#read in dataset\n",
    "cablist_df = pd.read_csv('./cablist.csv')"
   ]
  },
  {
   "cell_type": "markdown",
   "metadata": {},
   "source": [
    "###The first step was to create a categorical variable based on if the wine's label text conveyed any information not already captured in the appellation, wine type, producer, etc. This should be marketing words that might convey a particular price point, i.e. 'Reserve'"
   ]
  },
  {
   "cell_type": "code",
   "execution_count": 14,
   "metadata": {
    "collapsed": false
   },
   "outputs": [],
   "source": [
    "#First step: combine all text fields into a single list\n",
    "wine_names = cablist_df['Name'].tolist()\n",
    "appellation = cablist_df['Appellation'].tolist()\n",
    "wine_type = cablist_df['WineType'].tolist()\n",
    "vineyard = cablist_df['Vineyard'].tolist()\n",
    "vintage = cablist_df['Vintage'].tolist()\n",
    "\n",
    "\n",
    "cabs = zip(wine_names, appellation, wine_type, vineyard, vintage)"
   ]
  },
  {
   "cell_type": "markdown",
   "metadata": {},
   "source": [
    "###Let's look at this record as an example. 'Reserve' should be the one word that is not present in the appellation, type of wine, producer or vintage."
   ]
  },
  {
   "cell_type": "code",
   "execution_count": 15,
   "metadata": {
    "collapsed": false
   },
   "outputs": [
    {
     "data": {
      "text/plain": [
       "('Robert Mondavi Reserve Cabernet Sauvignon 2010',\n",
       " 'Napa Valley',\n",
       " 'Cabernet Sauvignon',\n",
       " 'Robert Mondavi Winery',\n",
       " 2010)"
      ]
     },
     "execution_count": 15,
     "metadata": {},
     "output_type": "execute_result"
    }
   ],
   "source": [
    "cabs[67]"
   ]
  },
  {
   "cell_type": "markdown",
   "metadata": {},
   "source": [
    "###Breaking each field into lists for comparison"
   ]
  },
  {
   "cell_type": "code",
   "execution_count": 16,
   "metadata": {
    "collapsed": true
   },
   "outputs": [],
   "source": [
    "#Create a list of lists by splitting each text field into individual words for comparison\n",
    "words = [[w[0].split(), w[1].split(), w[2].split(), w[3].split()] for w in cabs]"
   ]
  },
  {
   "cell_type": "code",
   "execution_count": 17,
   "metadata": {
    "collapsed": false
   },
   "outputs": [
    {
     "data": {
      "text/plain": [
       "[['Robert', 'Mondavi', 'Reserve', 'Cabernet', 'Sauvignon', '2010'],\n",
       " ['Napa', 'Valley'],\n",
       " ['Cabernet', 'Sauvignon'],\n",
       " ['Robert', 'Mondavi', 'Winery']]"
      ]
     },
     "execution_count": 17,
     "metadata": {},
     "output_type": "execute_result"
    }
   ],
   "source": [
    "words[67]"
   ]
  },
  {
   "cell_type": "markdown",
   "metadata": {},
   "source": [
    "###Create the list of unqiue words for each wine. Here we can see that 'Reserve' has been added to the list."
   ]
  },
  {
   "cell_type": "code",
   "execution_count": 18,
   "metadata": {
    "collapsed": false
   },
   "outputs": [],
   "source": [
    "#Create list of unique words in label text, not conveyed in vineyard appellation or wine type\n",
    "#for each individual wine.\n",
    "unq_words = []\n",
    "for i in words:\n",
    "    i[0].pop()\n",
    "    label = i[0]\n",
    "    appellation = i[1]\n",
    "    wine_type = i[2]\n",
    "    vineyard = i[3]\n",
    "    pass1 = list(set(label)-set(appellation)-set(wine_type)-set(vineyard))\n",
    "    unq_words.append(pass1)"
   ]
  },
  {
   "cell_type": "code",
   "execution_count": 11,
   "metadata": {
    "collapsed": false
   },
   "outputs": [
    {
     "data": {
      "text/plain": [
       "['Reserve']"
      ]
     },
     "execution_count": 11,
     "metadata": {},
     "output_type": "execute_result"
    }
   ],
   "source": [
    "unq_words[67]"
   ]
  },
  {
   "cell_type": "markdown",
   "metadata": {},
   "source": [
    "###Because some wines had more than one unique word, I looked at the top 5 words of the first and second identified unique words for a given wine. I found that Vineyard was one of the words in the first list, and decided to ignore it- it felt too common and would not be a signifier of price-point to a consumer"
   ]
  },
  {
   "cell_type": "code",
   "execution_count": 20,
   "metadata": {
    "collapsed": false
   },
   "outputs": [],
   "source": [
    "#Create dataframe of top 9 unique words from first 2 words for each wine. Only selecting 9\n",
    "#as the first word was Vineyard- seemed too common\n",
    "words_df = pd.DataFrame(unq_words)\n",
    "w1 = list(words_df[0].value_counts()[1:5].index.values)\n",
    "w2 = list(words_df[1].value_counts()[:5].index.values)\n",
    "unq_w = w1 + w2"
   ]
  },
  {
   "cell_type": "code",
   "execution_count": 21,
   "metadata": {
    "collapsed": false
   },
   "outputs": [
    {
     "data": {
      "text/plain": [
       "['Reserve',\n",
       " 'Mountain',\n",
       " 'Liter',\n",
       " 'Estate',\n",
       " 'Magnum)',\n",
       " 'Estate',\n",
       " 'Reserve',\n",
       " 'Howell',\n",
       " '(375ML']"
      ]
     },
     "execution_count": 21,
     "metadata": {},
     "output_type": "execute_result"
    }
   ],
   "source": [
    "unq_w"
   ]
  },
  {
   "cell_type": "markdown",
   "metadata": {},
   "source": [
    "###Now that I have a list of unique words identified, I want to compare them with the label text of each wine and create an indicator if the label text contains any of the unique words."
   ]
  },
  {
   "cell_type": "code",
   "execution_count": 22,
   "metadata": {
    "collapsed": false
   },
   "outputs": [],
   "source": [
    "#Create list of words in each label\n",
    "label_words = cablist_df['Name'].str.split(' ').tolist()"
   ]
  },
  {
   "cell_type": "code",
   "execution_count": 23,
   "metadata": {
    "collapsed": false
   },
   "outputs": [
    {
     "data": {
      "text/plain": [
       "['Robert', 'Mondavi', 'Reserve', 'Cabernet', 'Sauvignon', '2010']"
      ]
     },
     "execution_count": 23,
     "metadata": {},
     "output_type": "execute_result"
    }
   ],
   "source": [
    "label_words[67]"
   ]
  },
  {
   "cell_type": "code",
   "execution_count": 24,
   "metadata": {
    "collapsed": false
   },
   "outputs": [],
   "source": [
    "#Create indicator to denote intersection of identified unique words and label words\n",
    "#Using the Robert Mondavi example, indicator would = 1 as Reserve is in the unique word list\n",
    "#and also present in the label\n",
    "words = []\n",
    "for i in label_words:\n",
    "    if len(list(set(unq_w) & set(i))) > 0:\n",
    "        words.append(1)\n",
    "    else:\n",
    "        words.append(0)"
   ]
  },
  {
   "cell_type": "code",
   "execution_count": 25,
   "metadata": {
    "collapsed": true
   },
   "outputs": [],
   "source": [
    "#Create words dataframe for merging with baseline data\n",
    "words_df = pd.DataFrame(words)\n",
    "words_df.columns = ['UnqWordInd']"
   ]
  },
  {
   "cell_type": "code",
   "execution_count": 26,
   "metadata": {
    "collapsed": false
   },
   "outputs": [
    {
     "data": {
      "text/plain": [
       "742"
      ]
     },
     "execution_count": 26,
     "metadata": {},
     "output_type": "execute_result"
    }
   ],
   "source": [
    "sum(words)"
   ]
  },
  {
   "cell_type": "code",
   "execution_count": 27,
   "metadata": {
    "collapsed": false
   },
   "outputs": [],
   "source": [
    "#Merge dataframes\n",
    "cab_df2 = pd.concat([cablist_df, words_df], axis=1)"
   ]
  },
  {
   "cell_type": "code",
   "execution_count": 28,
   "metadata": {
    "collapsed": false
   },
   "outputs": [
    {
     "data": {
      "text/plain": [
       "2770"
      ]
     },
     "execution_count": 28,
     "metadata": {},
     "output_type": "execute_result"
    }
   ],
   "source": [
    "len(cab_df2)"
   ]
  },
  {
   "cell_type": "code",
   "execution_count": 29,
   "metadata": {
    "collapsed": false
   },
   "outputs": [
    {
     "data": {
      "text/html": [
       "<div>\n",
       "<table border=\"1\" class=\"dataframe\">\n",
       "  <thead>\n",
       "    <tr style=\"text-align: right;\">\n",
       "      <th></th>\n",
       "      <th>Id</th>\n",
       "      <th>Attributes</th>\n",
       "      <th>Name</th>\n",
       "      <th>Vintage</th>\n",
       "      <th>Appellation</th>\n",
       "      <th>Region</th>\n",
       "      <th>WineType</th>\n",
       "      <th>Vineyard</th>\n",
       "      <th>RatingScore</th>\n",
       "      <th>PriceRetail</th>\n",
       "      <th>UnqWordInd</th>\n",
       "    </tr>\n",
       "  </thead>\n",
       "  <tbody>\n",
       "    <tr>\n",
       "      <th>0</th>\n",
       "      <td>140247</td>\n",
       "      <td>Big &amp;amp; Bold</td>\n",
       "      <td>Screaming Eagle Cabernet Sauvignon 2012</td>\n",
       "      <td>2012</td>\n",
       "      <td>Napa Valley</td>\n",
       "      <td>California</td>\n",
       "      <td>Cabernet Sauvignon</td>\n",
       "      <td>Screaming Eagle</td>\n",
       "      <td>100</td>\n",
       "      <td>2499</td>\n",
       "      <td>0</td>\n",
       "    </tr>\n",
       "    <tr>\n",
       "      <th>1</th>\n",
       "      <td>147150</td>\n",
       "      <td>Collectible Wines</td>\n",
       "      <td>Penfolds Kalimna Block 42 Cabernet Sauvignon 2004</td>\n",
       "      <td>2004</td>\n",
       "      <td>Barossa Valley</td>\n",
       "      <td>Australia</td>\n",
       "      <td>Cabernet Sauvignon</td>\n",
       "      <td>Penfolds Wines</td>\n",
       "      <td>100</td>\n",
       "      <td>739</td>\n",
       "      <td>0</td>\n",
       "    </tr>\n",
       "    <tr>\n",
       "      <th>2</th>\n",
       "      <td>82919</td>\n",
       "      <td>Collectible Wines</td>\n",
       "      <td>Quilceda Creek Cabernet Sauvignon 2002</td>\n",
       "      <td>2002</td>\n",
       "      <td>Columbia Valley</td>\n",
       "      <td>Washington</td>\n",
       "      <td>Cabernet Sauvignon</td>\n",
       "      <td>Quilceda Creek Vintners</td>\n",
       "      <td>100</td>\n",
       "      <td>269</td>\n",
       "      <td>0</td>\n",
       "    </tr>\n",
       "    <tr>\n",
       "      <th>3</th>\n",
       "      <td>139436</td>\n",
       "      <td>Big &amp;amp; Bold</td>\n",
       "      <td>Schrader Old Sparky Cabernet Sauvignon (1.5 Li...</td>\n",
       "      <td>2005</td>\n",
       "      <td>Napa Valley</td>\n",
       "      <td>California</td>\n",
       "      <td>Cabernet Sauvignon</td>\n",
       "      <td>Schrader Cellars</td>\n",
       "      <td>100</td>\n",
       "      <td>1349</td>\n",
       "      <td>1</td>\n",
       "    </tr>\n",
       "    <tr>\n",
       "      <th>4</th>\n",
       "      <td>87182</td>\n",
       "      <td>Collectible Wines</td>\n",
       "      <td>Quilceda Creek Cabernet Sauvignon 2003</td>\n",
       "      <td>2003</td>\n",
       "      <td>Columbia Valley</td>\n",
       "      <td>Washington</td>\n",
       "      <td>Cabernet Sauvignon</td>\n",
       "      <td>Quilceda Creek Vintners</td>\n",
       "      <td>100</td>\n",
       "      <td>289</td>\n",
       "      <td>0</td>\n",
       "    </tr>\n",
       "  </tbody>\n",
       "</table>\n",
       "</div>"
      ],
      "text/plain": [
       "       Id         Attributes  \\\n",
       "0  140247     Big &amp; Bold   \n",
       "1  147150  Collectible Wines   \n",
       "2   82919  Collectible Wines   \n",
       "3  139436     Big &amp; Bold   \n",
       "4   87182  Collectible Wines   \n",
       "\n",
       "                                                Name  Vintage  \\\n",
       "0            Screaming Eagle Cabernet Sauvignon 2012     2012   \n",
       "1  Penfolds Kalimna Block 42 Cabernet Sauvignon 2004     2004   \n",
       "2             Quilceda Creek Cabernet Sauvignon 2002     2002   \n",
       "3  Schrader Old Sparky Cabernet Sauvignon (1.5 Li...     2005   \n",
       "4             Quilceda Creek Cabernet Sauvignon 2003     2003   \n",
       "\n",
       "       Appellation      Region            WineType                 Vineyard  \\\n",
       "0      Napa Valley  California  Cabernet Sauvignon          Screaming Eagle   \n",
       "1   Barossa Valley   Australia  Cabernet Sauvignon           Penfolds Wines   \n",
       "2  Columbia Valley  Washington  Cabernet Sauvignon  Quilceda Creek Vintners   \n",
       "3      Napa Valley  California  Cabernet Sauvignon         Schrader Cellars   \n",
       "4  Columbia Valley  Washington  Cabernet Sauvignon  Quilceda Creek Vintners   \n",
       "\n",
       "   RatingScore  PriceRetail  UnqWordInd  \n",
       "0          100         2499           0  \n",
       "1          100          739           0  \n",
       "2          100          269           0  \n",
       "3          100         1349           1  \n",
       "4          100          289           0  "
      ]
     },
     "execution_count": 29,
     "metadata": {},
     "output_type": "execute_result"
    }
   ],
   "source": [
    "cab_df2.head()"
   ]
  },
  {
   "cell_type": "code",
   "execution_count": 22,
   "metadata": {
    "collapsed": true
   },
   "outputs": [],
   "source": [
    "#Export list to csv for backup- it took me awhile to get to this point!\n",
    "cab_df2.to_csv('cablist2.csv', index=False, header=True)"
   ]
  },
  {
   "cell_type": "markdown",
   "metadata": {},
   "source": [
    "###Now I'm going to create dummy variables for the Region and Attributes fields, and merge with the existing dataframe"
   ]
  },
  {
   "cell_type": "code",
   "execution_count": 30,
   "metadata": {
    "collapsed": false
   },
   "outputs": [
    {
     "data": {
      "text/plain": [
       "California       2084\n",
       "Australia         230\n",
       "South America     204\n",
       "Washington        202\n",
       "South Africa       21\n",
       "Italy              15\n",
       "Spain              10\n",
       "Israel              4\n",
       "dtype: int64"
      ]
     },
     "execution_count": 30,
     "metadata": {},
     "output_type": "execute_result"
    }
   ],
   "source": [
    "cab_df2['Region'].value_counts()"
   ]
  },
  {
   "cell_type": "code",
   "execution_count": 31,
   "metadata": {
    "collapsed": false
   },
   "outputs": [],
   "source": [
    "#create dummy variables for attributes variable\n",
    "attribute_dummies = pd.get_dummies(cab_df2.Attributes, prefix='Attribute').ix[:, 1:]\n",
    "region_dummies = pd.get_dummies(cab_df2.Region, prefix='Region').ix[:, 1:]"
   ]
  },
  {
   "cell_type": "code",
   "execution_count": 32,
   "metadata": {
    "collapsed": true
   },
   "outputs": [],
   "source": [
    "#Merge dummies with existing dataframe\n",
    "cab_df2 = pd.concat([cab_df2, attribute_dummies], axis=1)"
   ]
  },
  {
   "cell_type": "code",
   "execution_count": 33,
   "metadata": {
    "collapsed": true
   },
   "outputs": [],
   "source": [
    "cab_df2 = pd.concat([cab_df2, region_dummies], axis=1)"
   ]
  },
  {
   "cell_type": "code",
   "execution_count": 34,
   "metadata": {
    "collapsed": false
   },
   "outputs": [
    {
     "data": {
      "text/html": [
       "<div>\n",
       "<table border=\"1\" class=\"dataframe\">\n",
       "  <thead>\n",
       "    <tr style=\"text-align: right;\">\n",
       "      <th></th>\n",
       "      <th>Id</th>\n",
       "      <th>Attributes</th>\n",
       "      <th>Name</th>\n",
       "      <th>Vintage</th>\n",
       "      <th>Appellation</th>\n",
       "      <th>Region</th>\n",
       "      <th>WineType</th>\n",
       "      <th>Vineyard</th>\n",
       "      <th>RatingScore</th>\n",
       "      <th>PriceRetail</th>\n",
       "      <th>...</th>\n",
       "      <th>Attribute_Rich &amp;amp; Creamy</th>\n",
       "      <th>Attribute_Screw Cap Wines</th>\n",
       "      <th>Attribute_Smooth &amp;amp; Supple</th>\n",
       "      <th>Region_California</th>\n",
       "      <th>Region_Israel</th>\n",
       "      <th>Region_Italy</th>\n",
       "      <th>Region_South Africa</th>\n",
       "      <th>Region_South America</th>\n",
       "      <th>Region_Spain</th>\n",
       "      <th>Region_Washington</th>\n",
       "    </tr>\n",
       "  </thead>\n",
       "  <tbody>\n",
       "    <tr>\n",
       "      <th>0</th>\n",
       "      <td>140247</td>\n",
       "      <td>Big &amp;amp; Bold</td>\n",
       "      <td>Screaming Eagle Cabernet Sauvignon 2012</td>\n",
       "      <td>2012</td>\n",
       "      <td>Napa Valley</td>\n",
       "      <td>California</td>\n",
       "      <td>Cabernet Sauvignon</td>\n",
       "      <td>Screaming Eagle</td>\n",
       "      <td>100</td>\n",
       "      <td>2499</td>\n",
       "      <td>...</td>\n",
       "      <td>0</td>\n",
       "      <td>0</td>\n",
       "      <td>0</td>\n",
       "      <td>1</td>\n",
       "      <td>0</td>\n",
       "      <td>0</td>\n",
       "      <td>0</td>\n",
       "      <td>0</td>\n",
       "      <td>0</td>\n",
       "      <td>0</td>\n",
       "    </tr>\n",
       "    <tr>\n",
       "      <th>1</th>\n",
       "      <td>147150</td>\n",
       "      <td>Collectible Wines</td>\n",
       "      <td>Penfolds Kalimna Block 42 Cabernet Sauvignon 2004</td>\n",
       "      <td>2004</td>\n",
       "      <td>Barossa Valley</td>\n",
       "      <td>Australia</td>\n",
       "      <td>Cabernet Sauvignon</td>\n",
       "      <td>Penfolds Wines</td>\n",
       "      <td>100</td>\n",
       "      <td>739</td>\n",
       "      <td>...</td>\n",
       "      <td>0</td>\n",
       "      <td>0</td>\n",
       "      <td>0</td>\n",
       "      <td>0</td>\n",
       "      <td>0</td>\n",
       "      <td>0</td>\n",
       "      <td>0</td>\n",
       "      <td>0</td>\n",
       "      <td>0</td>\n",
       "      <td>0</td>\n",
       "    </tr>\n",
       "    <tr>\n",
       "      <th>2</th>\n",
       "      <td>82919</td>\n",
       "      <td>Collectible Wines</td>\n",
       "      <td>Quilceda Creek Cabernet Sauvignon 2002</td>\n",
       "      <td>2002</td>\n",
       "      <td>Columbia Valley</td>\n",
       "      <td>Washington</td>\n",
       "      <td>Cabernet Sauvignon</td>\n",
       "      <td>Quilceda Creek Vintners</td>\n",
       "      <td>100</td>\n",
       "      <td>269</td>\n",
       "      <td>...</td>\n",
       "      <td>0</td>\n",
       "      <td>0</td>\n",
       "      <td>0</td>\n",
       "      <td>0</td>\n",
       "      <td>0</td>\n",
       "      <td>0</td>\n",
       "      <td>0</td>\n",
       "      <td>0</td>\n",
       "      <td>0</td>\n",
       "      <td>1</td>\n",
       "    </tr>\n",
       "    <tr>\n",
       "      <th>3</th>\n",
       "      <td>139436</td>\n",
       "      <td>Big &amp;amp; Bold</td>\n",
       "      <td>Schrader Old Sparky Cabernet Sauvignon (1.5 Li...</td>\n",
       "      <td>2005</td>\n",
       "      <td>Napa Valley</td>\n",
       "      <td>California</td>\n",
       "      <td>Cabernet Sauvignon</td>\n",
       "      <td>Schrader Cellars</td>\n",
       "      <td>100</td>\n",
       "      <td>1349</td>\n",
       "      <td>...</td>\n",
       "      <td>0</td>\n",
       "      <td>0</td>\n",
       "      <td>0</td>\n",
       "      <td>1</td>\n",
       "      <td>0</td>\n",
       "      <td>0</td>\n",
       "      <td>0</td>\n",
       "      <td>0</td>\n",
       "      <td>0</td>\n",
       "      <td>0</td>\n",
       "    </tr>\n",
       "    <tr>\n",
       "      <th>4</th>\n",
       "      <td>87182</td>\n",
       "      <td>Collectible Wines</td>\n",
       "      <td>Quilceda Creek Cabernet Sauvignon 2003</td>\n",
       "      <td>2003</td>\n",
       "      <td>Columbia Valley</td>\n",
       "      <td>Washington</td>\n",
       "      <td>Cabernet Sauvignon</td>\n",
       "      <td>Quilceda Creek Vintners</td>\n",
       "      <td>100</td>\n",
       "      <td>289</td>\n",
       "      <td>...</td>\n",
       "      <td>0</td>\n",
       "      <td>0</td>\n",
       "      <td>0</td>\n",
       "      <td>0</td>\n",
       "      <td>0</td>\n",
       "      <td>0</td>\n",
       "      <td>0</td>\n",
       "      <td>0</td>\n",
       "      <td>0</td>\n",
       "      <td>1</td>\n",
       "    </tr>\n",
       "  </tbody>\n",
       "</table>\n",
       "<p>5 rows × 32 columns</p>\n",
       "</div>"
      ],
      "text/plain": [
       "       Id         Attributes  \\\n",
       "0  140247     Big &amp; Bold   \n",
       "1  147150  Collectible Wines   \n",
       "2   82919  Collectible Wines   \n",
       "3  139436     Big &amp; Bold   \n",
       "4   87182  Collectible Wines   \n",
       "\n",
       "                                                Name  Vintage  \\\n",
       "0            Screaming Eagle Cabernet Sauvignon 2012     2012   \n",
       "1  Penfolds Kalimna Block 42 Cabernet Sauvignon 2004     2004   \n",
       "2             Quilceda Creek Cabernet Sauvignon 2002     2002   \n",
       "3  Schrader Old Sparky Cabernet Sauvignon (1.5 Li...     2005   \n",
       "4             Quilceda Creek Cabernet Sauvignon 2003     2003   \n",
       "\n",
       "       Appellation      Region            WineType                 Vineyard  \\\n",
       "0      Napa Valley  California  Cabernet Sauvignon          Screaming Eagle   \n",
       "1   Barossa Valley   Australia  Cabernet Sauvignon           Penfolds Wines   \n",
       "2  Columbia Valley  Washington  Cabernet Sauvignon  Quilceda Creek Vintners   \n",
       "3      Napa Valley  California  Cabernet Sauvignon         Schrader Cellars   \n",
       "4  Columbia Valley  Washington  Cabernet Sauvignon  Quilceda Creek Vintners   \n",
       "\n",
       "   RatingScore  PriceRetail        ...          Attribute_Rich &amp; Creamy  \\\n",
       "0          100         2499        ...                                    0   \n",
       "1          100          739        ...                                    0   \n",
       "2          100          269        ...                                    0   \n",
       "3          100         1349        ...                                    0   \n",
       "4          100          289        ...                                    0   \n",
       "\n",
       "   Attribute_Screw Cap Wines  Attribute_Smooth &amp; Supple  \\\n",
       "0                          0                              0   \n",
       "1                          0                              0   \n",
       "2                          0                              0   \n",
       "3                          0                              0   \n",
       "4                          0                              0   \n",
       "\n",
       "   Region_California  Region_Israel  Region_Italy  Region_South Africa  \\\n",
       "0                  1              0             0                    0   \n",
       "1                  0              0             0                    0   \n",
       "2                  0              0             0                    0   \n",
       "3                  1              0             0                    0   \n",
       "4                  0              0             0                    0   \n",
       "\n",
       "   Region_South America  Region_Spain  Region_Washington  \n",
       "0                     0             0                  0  \n",
       "1                     0             0                  0  \n",
       "2                     0             0                  1  \n",
       "3                     0             0                  0  \n",
       "4                     0             0                  1  \n",
       "\n",
       "[5 rows x 32 columns]"
      ]
     },
     "execution_count": 34,
     "metadata": {},
     "output_type": "execute_result"
    }
   ],
   "source": [
    "cab_df2.head()"
   ]
  }
 ],
 "metadata": {
  "kernelspec": {
   "display_name": "Python 2",
   "language": "python",
   "name": "python2"
  },
  "language_info": {
   "codemirror_mode": {
    "name": "ipython",
    "version": 2
   },
   "file_extension": ".py",
   "mimetype": "text/x-python",
   "name": "python",
   "nbconvert_exporter": "python",
   "pygments_lexer": "ipython2",
   "version": "2.7.13"
  }
 },
 "nbformat": 4,
 "nbformat_minor": 0
}
